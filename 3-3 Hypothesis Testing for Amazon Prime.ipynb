{
 "cells": [
  {
   "cell_type": "markdown",
   "metadata": {
    "id": "xED0impqw5Q5"
   },
   "source": [
    "# Práctica 3 - Contraste de hipótesis"
   ]
  },
  {
   "cell_type": "code",
   "execution_count": null,
   "metadata": {
    "colab": {
     "base_uri": "https://localhost:8080/",
     "height": 73
    },
    "id": "2uLoJixYU-nx",
    "outputId": "0677f039-ba84-4653-b3da-cbcda21ed534"
   },
   "outputs": [
    {
     "data": {
      "text/html": [
       "\n",
       "     <input type=\"file\" id=\"files-f1b78324-33fb-4632-8a5f-1f7885933ea0\" name=\"files[]\" multiple disabled\n",
       "        style=\"border:none\" />\n",
       "     <output id=\"result-f1b78324-33fb-4632-8a5f-1f7885933ea0\">\n",
       "      Upload widget is only available when the cell has been executed in the\n",
       "      current browser session. Please rerun this cell to enable.\n",
       "      </output>\n",
       "      <script>// Copyright 2017 Google LLC\n",
       "//\n",
       "// Licensed under the Apache License, Version 2.0 (the \"License\");\n",
       "// you may not use this file except in compliance with the License.\n",
       "// You may obtain a copy of the License at\n",
       "//\n",
       "//      http://www.apache.org/licenses/LICENSE-2.0\n",
       "//\n",
       "// Unless required by applicable law or agreed to in writing, software\n",
       "// distributed under the License is distributed on an \"AS IS\" BASIS,\n",
       "// WITHOUT WARRANTIES OR CONDITIONS OF ANY KIND, either express or implied.\n",
       "// See the License for the specific language governing permissions and\n",
       "// limitations under the License.\n",
       "\n",
       "/**\n",
       " * @fileoverview Helpers for google.colab Python module.\n",
       " */\n",
       "(function(scope) {\n",
       "function span(text, styleAttributes = {}) {\n",
       "  const element = document.createElement('span');\n",
       "  element.textContent = text;\n",
       "  for (const key of Object.keys(styleAttributes)) {\n",
       "    element.style[key] = styleAttributes[key];\n",
       "  }\n",
       "  return element;\n",
       "}\n",
       "\n",
       "// Max number of bytes which will be uploaded at a time.\n",
       "const MAX_PAYLOAD_SIZE = 100 * 1024;\n",
       "\n",
       "function _uploadFiles(inputId, outputId) {\n",
       "  const steps = uploadFilesStep(inputId, outputId);\n",
       "  const outputElement = document.getElementById(outputId);\n",
       "  // Cache steps on the outputElement to make it available for the next call\n",
       "  // to uploadFilesContinue from Python.\n",
       "  outputElement.steps = steps;\n",
       "\n",
       "  return _uploadFilesContinue(outputId);\n",
       "}\n",
       "\n",
       "// This is roughly an async generator (not supported in the browser yet),\n",
       "// where there are multiple asynchronous steps and the Python side is going\n",
       "// to poll for completion of each step.\n",
       "// This uses a Promise to block the python side on completion of each step,\n",
       "// then passes the result of the previous step as the input to the next step.\n",
       "function _uploadFilesContinue(outputId) {\n",
       "  const outputElement = document.getElementById(outputId);\n",
       "  const steps = outputElement.steps;\n",
       "\n",
       "  const next = steps.next(outputElement.lastPromiseValue);\n",
       "  return Promise.resolve(next.value.promise).then((value) => {\n",
       "    // Cache the last promise value to make it available to the next\n",
       "    // step of the generator.\n",
       "    outputElement.lastPromiseValue = value;\n",
       "    return next.value.response;\n",
       "  });\n",
       "}\n",
       "\n",
       "/**\n",
       " * Generator function which is called between each async step of the upload\n",
       " * process.\n",
       " * @param {string} inputId Element ID of the input file picker element.\n",
       " * @param {string} outputId Element ID of the output display.\n",
       " * @return {!Iterable<!Object>} Iterable of next steps.\n",
       " */\n",
       "function* uploadFilesStep(inputId, outputId) {\n",
       "  const inputElement = document.getElementById(inputId);\n",
       "  inputElement.disabled = false;\n",
       "\n",
       "  const outputElement = document.getElementById(outputId);\n",
       "  outputElement.innerHTML = '';\n",
       "\n",
       "  const pickedPromise = new Promise((resolve) => {\n",
       "    inputElement.addEventListener('change', (e) => {\n",
       "      resolve(e.target.files);\n",
       "    });\n",
       "  });\n",
       "\n",
       "  const cancel = document.createElement('button');\n",
       "  inputElement.parentElement.appendChild(cancel);\n",
       "  cancel.textContent = 'Cancel upload';\n",
       "  const cancelPromise = new Promise((resolve) => {\n",
       "    cancel.onclick = () => {\n",
       "      resolve(null);\n",
       "    };\n",
       "  });\n",
       "\n",
       "  // Wait for the user to pick the files.\n",
       "  const files = yield {\n",
       "    promise: Promise.race([pickedPromise, cancelPromise]),\n",
       "    response: {\n",
       "      action: 'starting',\n",
       "    }\n",
       "  };\n",
       "\n",
       "  cancel.remove();\n",
       "\n",
       "  // Disable the input element since further picks are not allowed.\n",
       "  inputElement.disabled = true;\n",
       "\n",
       "  if (!files) {\n",
       "    return {\n",
       "      response: {\n",
       "        action: 'complete',\n",
       "      }\n",
       "    };\n",
       "  }\n",
       "\n",
       "  for (const file of files) {\n",
       "    const li = document.createElement('li');\n",
       "    li.append(span(file.name, {fontWeight: 'bold'}));\n",
       "    li.append(span(\n",
       "        `(${file.type || 'n/a'}) - ${file.size} bytes, ` +\n",
       "        `last modified: ${\n",
       "            file.lastModifiedDate ? file.lastModifiedDate.toLocaleDateString() :\n",
       "                                    'n/a'} - `));\n",
       "    const percent = span('0% done');\n",
       "    li.appendChild(percent);\n",
       "\n",
       "    outputElement.appendChild(li);\n",
       "\n",
       "    const fileDataPromise = new Promise((resolve) => {\n",
       "      const reader = new FileReader();\n",
       "      reader.onload = (e) => {\n",
       "        resolve(e.target.result);\n",
       "      };\n",
       "      reader.readAsArrayBuffer(file);\n",
       "    });\n",
       "    // Wait for the data to be ready.\n",
       "    let fileData = yield {\n",
       "      promise: fileDataPromise,\n",
       "      response: {\n",
       "        action: 'continue',\n",
       "      }\n",
       "    };\n",
       "\n",
       "    // Use a chunked sending to avoid message size limits. See b/62115660.\n",
       "    let position = 0;\n",
       "    do {\n",
       "      const length = Math.min(fileData.byteLength - position, MAX_PAYLOAD_SIZE);\n",
       "      const chunk = new Uint8Array(fileData, position, length);\n",
       "      position += length;\n",
       "\n",
       "      const base64 = btoa(String.fromCharCode.apply(null, chunk));\n",
       "      yield {\n",
       "        response: {\n",
       "          action: 'append',\n",
       "          file: file.name,\n",
       "          data: base64,\n",
       "        },\n",
       "      };\n",
       "\n",
       "      let percentDone = fileData.byteLength === 0 ?\n",
       "          100 :\n",
       "          Math.round((position / fileData.byteLength) * 100);\n",
       "      percent.textContent = `${percentDone}% done`;\n",
       "\n",
       "    } while (position < fileData.byteLength);\n",
       "  }\n",
       "\n",
       "  // All done.\n",
       "  yield {\n",
       "    response: {\n",
       "      action: 'complete',\n",
       "    }\n",
       "  };\n",
       "}\n",
       "\n",
       "scope.google = scope.google || {};\n",
       "scope.google.colab = scope.google.colab || {};\n",
       "scope.google.colab._files = {\n",
       "  _uploadFiles,\n",
       "  _uploadFilesContinue,\n",
       "};\n",
       "})(self);\n",
       "</script> "
      ],
      "text/plain": [
       "<IPython.core.display.HTML object>"
      ]
     },
     "metadata": {},
     "output_type": "display_data"
    },
    {
     "name": "stdout",
     "output_type": "stream",
     "text": [
      "Saving newsletter.csv to newsletter.csv\n"
     ]
    }
   ],
   "source": [
    "from google.colab import files\n",
    "\n",
    "uploaded = files.upload()"
   ]
  },
  {
   "cell_type": "markdown",
   "metadata": {
    "id": "WAZQkiSwxCjI"
   },
   "source": [
    "## Problema 1: Testeando la nueva newsletter\n",
    "\n",
    "\n",
    "### Parte 1: ¿Qué test llevamos a cabo?\n",
    "\n",
    "Amason Prime es un e-commerce que, tal y como indica su nombre, se dedica a la venta de números primos por Internet. Uno de sus canales de venta es su newsletter, con la que logra vender números primos a una serie de clientes muy targetizados. Es uno de sus canales más cuidados y, como hay que estar en constante cambio para adaptarse a los movimientos del mercado, han decidido probar con nuevos estilos y diseños en su newsletter.\n",
    "\n",
    "La dirección recibe cinco propuestas distintas y, para decidir con cuál se queda, se dispone a llevar a cabo un **test AB**. Para ello realiza cinco selecciones aleatorias de direcciones de correo y manda cada uno de los modelos a un grupo con el objetivo de observar su performance.\n",
    "\n",
    "Descárgate el fichero `newsletter.csv`, que contiene datos del click-through rate (CTR) de cada newsletter. Observa los datos y razona qué test podríamos realizar. El modelo 0 es el modelo control, que es la newsletter actual."
   ]
  },
  {
   "cell_type": "code",
   "execution_count": null,
   "metadata": {
    "id": "8KjQSi7FVm1Q"
   },
   "outputs": [],
   "source": [
    "import io\n",
    "import numpy as np\n",
    "import pandas as pd"
   ]
  },
  {
   "cell_type": "code",
   "execution_count": null,
   "metadata": {
    "colab": {
     "base_uri": "https://localhost:8080/",
     "height": 424
    },
    "id": "h65vaXF9Qvhf",
    "outputId": "0b8d9214-00dd-4594-8fcc-6562fd42679f"
   },
   "outputs": [
    {
     "data": {
      "text/html": [
       "\n",
       "  <div id=\"df-90e5b3fc-bcd5-46f9-b364-549667b1cbe7\">\n",
       "    <div class=\"colab-df-container\">\n",
       "      <div>\n",
       "<style scoped>\n",
       "    .dataframe tbody tr th:only-of-type {\n",
       "        vertical-align: middle;\n",
       "    }\n",
       "\n",
       "    .dataframe tbody tr th {\n",
       "        vertical-align: top;\n",
       "    }\n",
       "\n",
       "    .dataframe thead th {\n",
       "        text-align: right;\n",
       "    }\n",
       "</style>\n",
       "<table border=\"1\" class=\"dataframe\">\n",
       "  <thead>\n",
       "    <tr style=\"text-align: right;\">\n",
       "      <th></th>\n",
       "      <th>ID</th>\n",
       "      <th>model</th>\n",
       "      <th>click</th>\n",
       "    </tr>\n",
       "  </thead>\n",
       "  <tbody>\n",
       "    <tr>\n",
       "      <th>0</th>\n",
       "      <td>1</td>\n",
       "      <td>3</td>\n",
       "      <td>0</td>\n",
       "    </tr>\n",
       "    <tr>\n",
       "      <th>1</th>\n",
       "      <td>2</td>\n",
       "      <td>0</td>\n",
       "      <td>0</td>\n",
       "    </tr>\n",
       "    <tr>\n",
       "      <th>2</th>\n",
       "      <td>3</td>\n",
       "      <td>5</td>\n",
       "      <td>0</td>\n",
       "    </tr>\n",
       "    <tr>\n",
       "      <th>3</th>\n",
       "      <td>4</td>\n",
       "      <td>5</td>\n",
       "      <td>1</td>\n",
       "    </tr>\n",
       "    <tr>\n",
       "      <th>4</th>\n",
       "      <td>5</td>\n",
       "      <td>1</td>\n",
       "      <td>0</td>\n",
       "    </tr>\n",
       "    <tr>\n",
       "      <th>...</th>\n",
       "      <td>...</td>\n",
       "      <td>...</td>\n",
       "      <td>...</td>\n",
       "    </tr>\n",
       "    <tr>\n",
       "      <th>14995</th>\n",
       "      <td>14996</td>\n",
       "      <td>1</td>\n",
       "      <td>0</td>\n",
       "    </tr>\n",
       "    <tr>\n",
       "      <th>14996</th>\n",
       "      <td>14997</td>\n",
       "      <td>3</td>\n",
       "      <td>0</td>\n",
       "    </tr>\n",
       "    <tr>\n",
       "      <th>14997</th>\n",
       "      <td>14998</td>\n",
       "      <td>3</td>\n",
       "      <td>1</td>\n",
       "    </tr>\n",
       "    <tr>\n",
       "      <th>14998</th>\n",
       "      <td>14999</td>\n",
       "      <td>2</td>\n",
       "      <td>0</td>\n",
       "    </tr>\n",
       "    <tr>\n",
       "      <th>14999</th>\n",
       "      <td>15000</td>\n",
       "      <td>2</td>\n",
       "      <td>0</td>\n",
       "    </tr>\n",
       "  </tbody>\n",
       "</table>\n",
       "<p>15000 rows × 3 columns</p>\n",
       "</div>\n",
       "      <button class=\"colab-df-convert\" onclick=\"convertToInteractive('df-90e5b3fc-bcd5-46f9-b364-549667b1cbe7')\"\n",
       "              title=\"Convert this dataframe to an interactive table.\"\n",
       "              style=\"display:none;\">\n",
       "        \n",
       "  <svg xmlns=\"http://www.w3.org/2000/svg\" height=\"24px\"viewBox=\"0 0 24 24\"\n",
       "       width=\"24px\">\n",
       "    <path d=\"M0 0h24v24H0V0z\" fill=\"none\"/>\n",
       "    <path d=\"M18.56 5.44l.94 2.06.94-2.06 2.06-.94-2.06-.94-.94-2.06-.94 2.06-2.06.94zm-11 1L8.5 8.5l.94-2.06 2.06-.94-2.06-.94L8.5 2.5l-.94 2.06-2.06.94zm10 10l.94 2.06.94-2.06 2.06-.94-2.06-.94-.94-2.06-.94 2.06-2.06.94z\"/><path d=\"M17.41 7.96l-1.37-1.37c-.4-.4-.92-.59-1.43-.59-.52 0-1.04.2-1.43.59L10.3 9.45l-7.72 7.72c-.78.78-.78 2.05 0 2.83L4 21.41c.39.39.9.59 1.41.59.51 0 1.02-.2 1.41-.59l7.78-7.78 2.81-2.81c.8-.78.8-2.07 0-2.86zM5.41 20L4 18.59l7.72-7.72 1.47 1.35L5.41 20z\"/>\n",
       "  </svg>\n",
       "      </button>\n",
       "      \n",
       "  <style>\n",
       "    .colab-df-container {\n",
       "      display:flex;\n",
       "      flex-wrap:wrap;\n",
       "      gap: 12px;\n",
       "    }\n",
       "\n",
       "    .colab-df-convert {\n",
       "      background-color: #E8F0FE;\n",
       "      border: none;\n",
       "      border-radius: 50%;\n",
       "      cursor: pointer;\n",
       "      display: none;\n",
       "      fill: #1967D2;\n",
       "      height: 32px;\n",
       "      padding: 0 0 0 0;\n",
       "      width: 32px;\n",
       "    }\n",
       "\n",
       "    .colab-df-convert:hover {\n",
       "      background-color: #E2EBFA;\n",
       "      box-shadow: 0px 1px 2px rgba(60, 64, 67, 0.3), 0px 1px 3px 1px rgba(60, 64, 67, 0.15);\n",
       "      fill: #174EA6;\n",
       "    }\n",
       "\n",
       "    [theme=dark] .colab-df-convert {\n",
       "      background-color: #3B4455;\n",
       "      fill: #D2E3FC;\n",
       "    }\n",
       "\n",
       "    [theme=dark] .colab-df-convert:hover {\n",
       "      background-color: #434B5C;\n",
       "      box-shadow: 0px 1px 3px 1px rgba(0, 0, 0, 0.15);\n",
       "      filter: drop-shadow(0px 1px 2px rgba(0, 0, 0, 0.3));\n",
       "      fill: #FFFFFF;\n",
       "    }\n",
       "  </style>\n",
       "\n",
       "      <script>\n",
       "        const buttonEl =\n",
       "          document.querySelector('#df-90e5b3fc-bcd5-46f9-b364-549667b1cbe7 button.colab-df-convert');\n",
       "        buttonEl.style.display =\n",
       "          google.colab.kernel.accessAllowed ? 'block' : 'none';\n",
       "\n",
       "        async function convertToInteractive(key) {\n",
       "          const element = document.querySelector('#df-90e5b3fc-bcd5-46f9-b364-549667b1cbe7');\n",
       "          const dataTable =\n",
       "            await google.colab.kernel.invokeFunction('convertToInteractive',\n",
       "                                                     [key], {});\n",
       "          if (!dataTable) return;\n",
       "\n",
       "          const docLinkHtml = 'Like what you see? Visit the ' +\n",
       "            '<a target=\"_blank\" href=https://colab.research.google.com/notebooks/data_table.ipynb>data table notebook</a>'\n",
       "            + ' to learn more about interactive tables.';\n",
       "          element.innerHTML = '';\n",
       "          dataTable['output_type'] = 'display_data';\n",
       "          await google.colab.output.renderOutput(dataTable, element);\n",
       "          const docLink = document.createElement('div');\n",
       "          docLink.innerHTML = docLinkHtml;\n",
       "          element.appendChild(docLink);\n",
       "        }\n",
       "      </script>\n",
       "    </div>\n",
       "  </div>\n",
       "  "
      ],
      "text/plain": [
       "          ID  model  click\n",
       "0          1      3      0\n",
       "1          2      0      0\n",
       "2          3      5      0\n",
       "3          4      5      1\n",
       "4          5      1      0\n",
       "...      ...    ...    ...\n",
       "14995  14996      1      0\n",
       "14996  14997      3      0\n",
       "14997  14998      3      1\n",
       "14998  14999      2      0\n",
       "14999  15000      2      0\n",
       "\n",
       "[15000 rows x 3 columns]"
      ]
     },
     "execution_count": 8,
     "metadata": {},
     "output_type": "execute_result"
    }
   ],
   "source": [
    "path = io.BytesIO(uploaded['newsletter.csv'])\n",
    "df = pd.read_csv(path, sep=\",\")\n",
    "\n",
    "df"
   ]
  },
  {
   "cell_type": "markdown",
   "metadata": {
    "id": "G8JaDkK4hqWi"
   },
   "source": [
    "Podemos comenzar explorando un poco los datos. Como al final queremos saber qué newsletter es mejor, la idea sería cuál de ellas tuvo mayor click-through rate; esto es, el cociente entre el número de clicks y el número de visualizaciones.\n",
    "\n",
    "Como la variable `click` es binaria, bastará con usar el método `groupby` sobre la variable `model`, aplicando el método `mean` al final de todo."
   ]
  },
  {
   "cell_type": "code",
   "execution_count": null,
   "metadata": {
    "colab": {
     "base_uri": "https://localhost:8080/"
    },
    "id": "VGTKfaHqH632",
    "outputId": "4a3ef3d0-895b-4ffc-933c-f4580bf09c7a"
   },
   "outputs": [
    {
     "name": "stdout",
     "output_type": "stream",
     "text": [
      "model\n",
      "0    0.216981\n",
      "1    0.225207\n",
      "2    0.215174\n",
      "3    0.059353\n",
      "4    0.218762\n",
      "5    0.290684\n",
      "Name: click, dtype: float64\n"
     ]
    }
   ],
   "source": [
    "click_through_rate = df.groupby(\"model\")[\"click\"].mean()\n",
    "\n",
    "print(click_through_rate)"
   ]
  },
  {
   "cell_type": "code",
   "execution_count": null,
   "metadata": {
    "colab": {
     "base_uri": "https://localhost:8080/",
     "height": 227
    },
    "id": "9p_lyFrOiSXr",
    "outputId": "cd95c847-a720-4099-f1d3-bfc41ad941f0"
   },
   "outputs": [
    {
     "data": {
      "text/html": [
       "<div>\n",
       "<style scoped>\n",
       "    .dataframe tbody tr th:only-of-type {\n",
       "        vertical-align: middle;\n",
       "    }\n",
       "\n",
       "    .dataframe tbody tr th {\n",
       "        vertical-align: top;\n",
       "    }\n",
       "\n",
       "    .dataframe thead th {\n",
       "        text-align: right;\n",
       "    }\n",
       "</style>\n",
       "<table border=\"1\" class=\"dataframe\">\n",
       "  <thead>\n",
       "    <tr style=\"text-align: right;\">\n",
       "      <th></th>\n",
       "      <th>model</th>\n",
       "      <th>click</th>\n",
       "    </tr>\n",
       "  </thead>\n",
       "  <tbody>\n",
       "    <tr>\n",
       "      <th>5</th>\n",
       "      <td>5</td>\n",
       "      <td>0.290684</td>\n",
       "    </tr>\n",
       "    <tr>\n",
       "      <th>1</th>\n",
       "      <td>1</td>\n",
       "      <td>0.225207</td>\n",
       "    </tr>\n",
       "    <tr>\n",
       "      <th>4</th>\n",
       "      <td>4</td>\n",
       "      <td>0.218762</td>\n",
       "    </tr>\n",
       "    <tr>\n",
       "      <th>0</th>\n",
       "      <td>0</td>\n",
       "      <td>0.216981</td>\n",
       "    </tr>\n",
       "    <tr>\n",
       "      <th>2</th>\n",
       "      <td>2</td>\n",
       "      <td>0.215174</td>\n",
       "    </tr>\n",
       "    <tr>\n",
       "      <th>3</th>\n",
       "      <td>3</td>\n",
       "      <td>0.059353</td>\n",
       "    </tr>\n",
       "  </tbody>\n",
       "</table>\n",
       "</div>"
      ],
      "text/plain": [
       "   model     click\n",
       "5      5  0.290684\n",
       "1      1  0.225207\n",
       "4      4  0.218762\n",
       "0      0  0.216981\n",
       "2      2  0.215174\n",
       "3      3  0.059353"
      ]
     },
     "execution_count": 4,
     "metadata": {
      "tags": []
     },
     "output_type": "execute_result"
    }
   ],
   "source": [
    "df.groupby(by=\"model\", as_index=False).mean().drop(\"ID\", axis=1).sort_values(by=\"click\", ascending=False)"
   ]
  },
  {
   "cell_type": "markdown",
   "metadata": {
    "id": "kKHuMpELjBBL"
   },
   "source": [
    "Parece que el modelo 5 tiene más éxito, pero esta información es incompleta sin saber cuantas newsletter de cada tipo se han mandado.\n",
    "\n",
    "Podemos ver ambas informaciones usando el método `agg` tras el `groupby`."
   ]
  },
  {
   "cell_type": "code",
   "execution_count": null,
   "metadata": {
    "colab": {
     "base_uri": "https://localhost:8080/"
    },
    "id": "uCTl9S2XJ0fE",
    "outputId": "19e31886-f075-4007-8ba1-dad4fd80eaa5"
   },
   "outputs": [
    {
     "name": "stdout",
     "output_type": "stream",
     "text": [
      "          click    ID\n",
      "model                \n",
      "0      0.216981  2544\n",
      "1      0.225207  2531\n",
      "2      0.215174  2412\n",
      "3      0.059353  2443\n",
      "4      0.218762  2569\n",
      "5      0.290684  2501\n"
     ]
    }
   ],
   "source": [
    "\n",
    "agg_data = df.groupby(\"model\").agg({\"click\": \"mean\", \"ID\": \"count\"})\n",
    "\n",
    "print(agg_data)"
   ]
  },
  {
   "cell_type": "code",
   "execution_count": null,
   "metadata": {
    "colab": {
     "base_uri": "https://localhost:8080/",
     "height": 257
    },
    "id": "VMd01Jh8izAW",
    "outputId": "830cb28a-67d2-4636-92ea-d98b733e8229"
   },
   "outputs": [
    {
     "data": {
      "text/html": [
       "<div>\n",
       "<style scoped>\n",
       "    .dataframe tbody tr th:only-of-type {\n",
       "        vertical-align: middle;\n",
       "    }\n",
       "\n",
       "    .dataframe tbody tr th {\n",
       "        vertical-align: top;\n",
       "    }\n",
       "\n",
       "    .dataframe thead tr th {\n",
       "        text-align: left;\n",
       "    }\n",
       "</style>\n",
       "<table border=\"1\" class=\"dataframe\">\n",
       "  <thead>\n",
       "    <tr>\n",
       "      <th></th>\n",
       "      <th>model</th>\n",
       "      <th colspan=\"2\" halign=\"left\">click</th>\n",
       "    </tr>\n",
       "    <tr>\n",
       "      <th></th>\n",
       "      <th></th>\n",
       "      <th>mean</th>\n",
       "      <th>count</th>\n",
       "    </tr>\n",
       "  </thead>\n",
       "  <tbody>\n",
       "    <tr>\n",
       "      <th>5</th>\n",
       "      <td>5</td>\n",
       "      <td>0.290684</td>\n",
       "      <td>2501</td>\n",
       "    </tr>\n",
       "    <tr>\n",
       "      <th>1</th>\n",
       "      <td>1</td>\n",
       "      <td>0.225207</td>\n",
       "      <td>2531</td>\n",
       "    </tr>\n",
       "    <tr>\n",
       "      <th>4</th>\n",
       "      <td>4</td>\n",
       "      <td>0.218762</td>\n",
       "      <td>2569</td>\n",
       "    </tr>\n",
       "    <tr>\n",
       "      <th>0</th>\n",
       "      <td>0</td>\n",
       "      <td>0.216981</td>\n",
       "      <td>2544</td>\n",
       "    </tr>\n",
       "    <tr>\n",
       "      <th>2</th>\n",
       "      <td>2</td>\n",
       "      <td>0.215174</td>\n",
       "      <td>2412</td>\n",
       "    </tr>\n",
       "    <tr>\n",
       "      <th>3</th>\n",
       "      <td>3</td>\n",
       "      <td>0.059353</td>\n",
       "      <td>2443</td>\n",
       "    </tr>\n",
       "  </tbody>\n",
       "</table>\n",
       "</div>"
      ],
      "text/plain": [
       "  model     click      \n",
       "             mean count\n",
       "5     5  0.290684  2501\n",
       "1     1  0.225207  2531\n",
       "4     4  0.218762  2569\n",
       "0     0  0.216981  2544\n",
       "2     2  0.215174  2412\n",
       "3     3  0.059353  2443"
      ]
     },
     "execution_count": 11,
     "metadata": {
      "tags": []
     },
     "output_type": "execute_result"
    }
   ],
   "source": [
    "df.groupby(by=\"model\", as_index=False).agg({\"click\": [\"mean\", \"count\"]}).sort_values(by=(\"click\", \"mean\"), ascending=False)"
   ]
  },
  {
   "cell_type": "markdown",
   "metadata": {
    "id": "gTQotavzkV1C"
   },
   "source": [
    "Como los tamaños muestrales de cada grupo son bastante parecidos, una primera aproximación bastante razonable es que el modelo 5 es mejor que el resto.\n",
    "\n",
    "Tratemos, pues, de probar esta hipótesis. Podemos hacerlo de dos maneras: o bien testeamos modelo 5 contra el resto con un **t-test** o un test de proporciones, o bien testeamos todos los modelos con un **test de diferencias significativas honestas (HSD) de Tukey**."
   ]
  },
  {
   "cell_type": "markdown",
   "metadata": {
    "id": "PibEwTv2yKhe"
   },
   "source": [
    "### Parte 2: ¿Qué tal es mi newsletter actual?\n",
    "\n",
    "Lo primero que quieren averiguar los data scientists es si, de las propuestas recibidas, hay alguna con peor performance que la newsletter actual. Compara el click-through rate de la muestra que recibió la newsletter actual con cada una de las otras muestras y decide qué versiones debemos descartar."
   ]
  },
  {
   "cell_type": "markdown",
   "metadata": {
    "id": "7c5f19S0qBTs"
   },
   "source": [
    "Podemos testear el modelo control (0) contra cada uno de los demás y ver en qué casos la diferencia es significativa. Combinando los resultados con los ratings del paso 1, sabremos si podemos descartar algún modelo de entrada."
   ]
  },
  {
   "cell_type": "code",
   "execution_count": null,
   "metadata": {
    "id": "ZPhycOB99A0C"
   },
   "outputs": [],
   "source": [
    "from scipy.stats import ttest_ind # Las muestras son independientes, pues cada destinatario recibe un único modelo de nl."
   ]
  },
  {
   "cell_type": "code",
   "execution_count": null,
   "metadata": {
    "colab": {
     "base_uri": "https://localhost:8080/"
    },
    "id": "eLRNzYriqamp",
    "outputId": "42e10313-da40-445a-fc45-7a33df83fa33"
   },
   "outputs": [
    {
     "name": "stdout",
     "output_type": "stream",
     "text": [
      "0 vs 1 0.4802223994850019\n",
      "0 vs 2 0.8772592894747556\n",
      "0 vs 3 1.9799179344169008e-59\n",
      "0 vs 4 0.8774403101197469\n",
      "0 vs 5 1.68096277478576e-09\n"
     ]
    }
   ],
   "source": [
    "for md in [1, 2, 3, 4, 5]:\n",
    "\n",
    "  print(\"0 vs \" + str(md), ttest_ind(df[df.model==0].click, df[df.model==md].click).pvalue)"
   ]
  },
  {
   "cell_type": "markdown",
   "metadata": {
    "id": "-x1nCsIrqo-b"
   },
   "source": [
    "Los modelos 3 y 5 aparecen significativamente distintos del modelo control, con el 3 teniendo una puntuación inferior. Podemos, pues, descartar el modelo 3 de entrada."
   ]
  },
  {
   "cell_type": "markdown",
   "metadata": {
    "id": "teFEZCxSxZ5H"
   },
   "source": [
    "### Parte 3: Escogiendo la nueva newsletter\n",
    "\n",
    "Con las versiones restantes, diseña un test para comprobar que hay algunas versiones con mejor performance que otras. ¿Hay algún modo de decidir qué newsletter es mejor? En caso afirmativo, defiende tu propuesta."
   ]
  },
  {
   "cell_type": "markdown",
   "metadata": {
    "id": "JA8JLwwaprZa"
   },
   "source": [
    "Apliquemos los tests propuesto en el paso 1:"
   ]
  },
  {
   "cell_type": "markdown",
   "metadata": {
    "id": "iYDbBZdLmVl3"
   },
   "source": [
    "**Con un t-test**"
   ]
  },
  {
   "cell_type": "markdown",
   "metadata": {
    "id": "DZZ8Rvj_q0ww"
   },
   "source": [
    "Una idea es comparar el modelo 5 con el resto, a ver si sale una diferencia significativa."
   ]
  },
  {
   "cell_type": "code",
   "execution_count": null,
   "metadata": {
    "colab": {
     "base_uri": "https://localhost:8080/"
    },
    "id": "7YpZ_wpll7bX",
    "outputId": "b2d9e6da-93cb-43a9-c42e-c76e59226975"
   },
   "outputs": [
    {
     "data": {
      "text/plain": [
       "Ttest_indResult(statistic=11.679922545748958, pvalue=2.207454839780684e-31)"
      ]
     },
     "execution_count": 12,
     "metadata": {
      "tags": []
     },
     "output_type": "execute_result"
    }
   ],
   "source": [
    "ttest_ind(df[df.model==5].click, df[df.model!=5].click)"
   ]
  },
  {
   "cell_type": "markdown",
   "metadata": {
    "id": "Gy1MaEmoq7-2"
   },
   "source": [
    "Sin embargo, sabemos que el 3 lo podemos descartar de entrada; y podría ser que su baja puntuación esté contaminando la comparación con el modelo 5. Vale la pena, pues, excluir los datos del modelo 3 en nuestra comparación:"
   ]
  },
  {
   "cell_type": "code",
   "execution_count": null,
   "metadata": {
    "colab": {
     "base_uri": "https://localhost:8080/"
    },
    "id": "cMKP8j4zrIMs",
    "outputId": "92f87e14-fa33-49cf-8187-020b973e54e4"
   },
   "outputs": [
    {
     "data": {
      "text/plain": [
       "Ttest_indResult(statistic=7.594000218023463, pvalue=3.3210137325535764e-14)"
      ]
     },
     "execution_count": 15,
     "metadata": {
      "tags": []
     },
     "output_type": "execute_result"
    }
   ],
   "source": [
    "ttest_ind(df[df.model==5].click, df[~df.model.isin([3, 5])].click)"
   ]
  },
  {
   "cell_type": "markdown",
   "metadata": {
    "id": "krtI_9zGnjO3"
   },
   "source": [
    "Seguimos teniendo un p-valor muy bajo. Con esto tenemos suficiente para decir que el modelo 5 es el mejor de todos, incluso mejor que la muestra control."
   ]
  },
  {
   "cell_type": "markdown",
   "metadata": {
    "id": "TJoh54VPmeCT"
   },
   "source": [
    "**Con un HSD de Tukey**"
   ]
  },
  {
   "cell_type": "markdown",
   "metadata": {
    "id": "KHqx_4LVrUeL"
   },
   "source": [
    "Nos ahorraremos razonamientos quizá algo imprecisos si directamente tratamos de rankear los modelos por su CTR usando un test HSD de Tukey que compare todas las muestras a la vez."
   ]
  },
  {
   "cell_type": "code",
   "execution_count": null,
   "metadata": {
    "colab": {
     "base_uri": "https://localhost:8080/",
     "height": 197
    },
    "id": "_FV4li-bBG8E",
    "outputId": "d3f24f50-1605-409b-cacc-8013b896b67c"
   },
   "outputs": [
    {
     "data": {
      "text/html": [
       "<div>\n",
       "<style scoped>\n",
       "    .dataframe tbody tr th:only-of-type {\n",
       "        vertical-align: middle;\n",
       "    }\n",
       "\n",
       "    .dataframe tbody tr th {\n",
       "        vertical-align: top;\n",
       "    }\n",
       "\n",
       "    .dataframe thead th {\n",
       "        text-align: right;\n",
       "    }\n",
       "</style>\n",
       "<table border=\"1\" class=\"dataframe\">\n",
       "  <thead>\n",
       "    <tr style=\"text-align: right;\">\n",
       "      <th></th>\n",
       "      <th>ID</th>\n",
       "      <th>model</th>\n",
       "      <th>click</th>\n",
       "    </tr>\n",
       "  </thead>\n",
       "  <tbody>\n",
       "    <tr>\n",
       "      <th>0</th>\n",
       "      <td>1</td>\n",
       "      <td>3</td>\n",
       "      <td>0</td>\n",
       "    </tr>\n",
       "    <tr>\n",
       "      <th>1</th>\n",
       "      <td>2</td>\n",
       "      <td>0</td>\n",
       "      <td>0</td>\n",
       "    </tr>\n",
       "    <tr>\n",
       "      <th>2</th>\n",
       "      <td>3</td>\n",
       "      <td>5</td>\n",
       "      <td>0</td>\n",
       "    </tr>\n",
       "    <tr>\n",
       "      <th>3</th>\n",
       "      <td>4</td>\n",
       "      <td>5</td>\n",
       "      <td>1</td>\n",
       "    </tr>\n",
       "    <tr>\n",
       "      <th>4</th>\n",
       "      <td>5</td>\n",
       "      <td>1</td>\n",
       "      <td>0</td>\n",
       "    </tr>\n",
       "  </tbody>\n",
       "</table>\n",
       "</div>"
      ],
      "text/plain": [
       "   ID  model  click\n",
       "0   1      3      0\n",
       "1   2      0      0\n",
       "2   3      5      0\n",
       "3   4      5      1\n",
       "4   5      1      0"
      ]
     },
     "execution_count": 9,
     "metadata": {
      "tags": []
     },
     "output_type": "execute_result"
    }
   ],
   "source": [
    "df.head()"
   ]
  },
  {
   "cell_type": "code",
   "execution_count": null,
   "metadata": {
    "colab": {
     "base_uri": "https://localhost:8080/"
    },
    "id": "8bLrk36xmhcB",
    "outputId": "c2b94b6d-7489-40f1-dcb9-bb734f9a8265"
   },
   "outputs": [
    {
     "name": "stdout",
     "output_type": "stream",
     "text": [
      "Multiple Comparison of Means - Tukey HSD, FWER=0.05\n",
      "===================================================\n",
      "group1 group2 meandiff p-adj  lower   upper  reject\n",
      "---------------------------------------------------\n",
      "     0      1   0.0082   0.9 -0.0236  0.0401  False\n",
      "     0      2  -0.0018   0.9  -0.034  0.0304  False\n",
      "     0      3  -0.1576 0.001 -0.1897 -0.1255   True\n",
      "     0      4   0.0018   0.9 -0.0299  0.0335  False\n",
      "     0      5   0.0737 0.001  0.0418  0.1056   True\n",
      "     1      2    -0.01   0.9 -0.0423  0.0222  False\n",
      "     1      3  -0.1659 0.001  -0.198 -0.1337   True\n",
      "     1      4  -0.0064   0.9 -0.0382  0.0253  False\n",
      "     1      5   0.0655 0.001  0.0335  0.0974   True\n",
      "     2      3  -0.1558 0.001 -0.1884 -0.1233   True\n",
      "     2      4   0.0036   0.9 -0.0286  0.0357  False\n",
      "     2      5   0.0755 0.001  0.0432  0.1079   True\n",
      "     3      4   0.1594 0.001  0.1274  0.1914   True\n",
      "     3      5   0.2313 0.001  0.1991  0.2636   True\n",
      "     4      5   0.0719 0.001  0.0401  0.1038   True\n",
      "---------------------------------------------------\n"
     ]
    },
    {
     "name": "stderr",
     "output_type": "stream",
     "text": [
      "/usr/local/lib/python3.6/dist-packages/statsmodels/tools/_testing.py:19: FutureWarning: pandas.util.testing is deprecated. Use the functions in the public API at pandas.testing instead.\n",
      "  import pandas.util.testing as tm\n"
     ]
    }
   ],
   "source": [
    "import statsmodels.stats.multicomp as multi # scipy no tiene implementación del test de Tukey, hay que ir a la librería statsmodels\n",
    "\n",
    "newsletter_rank = multi.MultiComparison(df.click, df.model)\n",
    "results = newsletter_rank.tukeyhsd()\n",
    "\n",
    "print(results)"
   ]
  },
  {
   "cell_type": "code",
   "execution_count": null,
   "metadata": {
    "colab": {
     "base_uri": "https://localhost:8080/",
     "height": 763
    },
    "id": "G6ppPdOrCSEU",
    "outputId": "c2b6824d-a336-457b-8c18-94f46b76fa29"
   },
   "outputs": [
    {
     "data": {
      "image/png": "[encoded data removed]",
      "text/plain": [
       "<Figure size 720x432 with 1 Axes>"
      ]
     },
     "execution_count": 19,
     "metadata": {
      "tags": []
     },
     "output_type": "execute_result"
    },
    {
     "data": {
      "image/png": "[encoded data removed]",
      "text/plain": [
       "<Figure size 720x432 with 1 Axes>"
      ]
     },
     "metadata": {
      "needs_background": "light",
      "tags": []
     },
     "output_type": "display_data"
    }
   ],
   "source": [
    "results.plot_simultaneous()"
   ]
  },
  {
   "cell_type": "markdown",
   "metadata": {
    "id": "H0ZIaL4yniRU"
   },
   "source": [
    "El test de Tukey nos dice más cosas. Por un lado, el modelo 5 aparece con `True` en todos los emparejamientos, lo cual confirma el resutado del t-test. Pero, además, también nos está diciendo que el modelo 3 es significativamente distinto de los modelos 0, 1, 2 y 4; mientras que 0, 1, 2 y 4 no son significativamente distintos entre ellos. Ello nos permite clusterizar las newsletter por su click-through rate:\n",
    "\n",
    "1.   modelo 5 (Ganador).\n",
    "2.   modelos 0, 1, 2 y 4. (Similares, peores que 5)\n",
    "3.   modelo 3 (el peor).\n",
    "\n",
    "En efecto, esto cuadra con el ránking que habíamos establecido haciendo el análisis exploratorio y confirma nuestra hipótesis. Queda claro que escogeríamos el modelo 5 como la nueva newsletter de Amason Prime.\n"
   ]
  },
  {
   "cell_type": "markdown",
   "metadata": {
    "id": "nUsuvm6Hp4qC"
   },
   "source": [
    "Este ejercicio nos muestra la utilidad del test de Tukey: no solamente identifica diferencias significativas entre las medias de varios grupos, sino que además se puede utilizar para hacer **clusterings** sencillos."
   ]
  },
  {
   "cell_type": "markdown",
   "metadata": {
    "id": "-EuuJbECrR9n"
   },
   "source": [
    "# Problema 2: Encuesta de satisfacción\n",
    "\n",
    "\n",
    "## Parte 1: ¿Cómo se producen los números primos?\n",
    "\n",
    "Producir números primos no es tarea sencilla. En el pasado, cuando Amason Prime era un negocio pequeño, los generaba artesanalmente con una **criba de Eratóstenes**. Ello garantizaba producir números 100% primos de la mejor calidad. Con el crecimiento del negocio, usar la criba de Eratóstenes ya no resultaba eficiente por el enorme coste de producción de un método con 4000 años de antigüedad. Para modernizarse y poder producir números primos en masa, la compañía comenzó a usar un **test de Solovay-Strassen** para la generación de números primos. Dicho test es mucho más eficiente en la producción de números primos, pero se trata de un método estocástico que, a veces, producirá un número compuesto.\n",
    "\n",
    "La probabilidad de obtener un número compuesto depende de un número, llamado parámetro de parada. Para averiguar cuál es la mejor estimación de dicho parámetro, se mandan encuestas de satisfacción a los clientes con el producto. En ellas, los compradores han de valorar, de cero a diez, cuan satisfchos están con la primalidad del número recibido."
   ]
  },
  {
   "cell_type": "markdown",
   "metadata": {
    "id": "wdqJuNgFs0ay"
   },
   "source": [
    "## Parte 2: ¿Qué tan buenos son mis números primos?\n",
    "\n",
    "Descárgate el fichero `solovay.csv`, que contiene las puntuaciones de los consumidores y dos parámetros de parada usados para generar el número que \n",
    "recibieron. Realiza los tests de hipótesis necesarios para escoger el mejor parámetro en función del feedback del consumidor. Justifica tus elecciones."
   ]
  },
  {
   "cell_type": "code",
   "execution_count": null,
   "metadata": {
    "colab": {
     "base_uri": "https://localhost:8080/",
     "height": 406
    },
    "id": "DhtgbYd6x2Ft",
    "outputId": "fc63e86a-ea33-4d42-8a86-a6fc432c09cb"
   },
   "outputs": [
    {
     "data": {
      "text/html": [
       "<div>\n",
       "<style scoped>\n",
       "    .dataframe tbody tr th:only-of-type {\n",
       "        vertical-align: middle;\n",
       "    }\n",
       "\n",
       "    .dataframe tbody tr th {\n",
       "        vertical-align: top;\n",
       "    }\n",
       "\n",
       "    .dataframe thead th {\n",
       "        text-align: right;\n",
       "    }\n",
       "</style>\n",
       "<table border=\"1\" class=\"dataframe\">\n",
       "  <thead>\n",
       "    <tr style=\"text-align: right;\">\n",
       "      <th></th>\n",
       "      <th>ID</th>\n",
       "      <th>parameter</th>\n",
       "      <th>score</th>\n",
       "    </tr>\n",
       "  </thead>\n",
       "  <tbody>\n",
       "    <tr>\n",
       "      <th>0</th>\n",
       "      <td>1</td>\n",
       "      <td>5</td>\n",
       "      <td>10</td>\n",
       "    </tr>\n",
       "    <tr>\n",
       "      <th>1</th>\n",
       "      <td>2</td>\n",
       "      <td>4</td>\n",
       "      <td>10</td>\n",
       "    </tr>\n",
       "    <tr>\n",
       "      <th>2</th>\n",
       "      <td>3</td>\n",
       "      <td>5</td>\n",
       "      <td>8</td>\n",
       "    </tr>\n",
       "    <tr>\n",
       "      <th>3</th>\n",
       "      <td>4</td>\n",
       "      <td>5</td>\n",
       "      <td>8</td>\n",
       "    </tr>\n",
       "    <tr>\n",
       "      <th>4</th>\n",
       "      <td>5</td>\n",
       "      <td>4</td>\n",
       "      <td>10</td>\n",
       "    </tr>\n",
       "    <tr>\n",
       "      <th>...</th>\n",
       "      <td>...</td>\n",
       "      <td>...</td>\n",
       "      <td>...</td>\n",
       "    </tr>\n",
       "    <tr>\n",
       "      <th>1995</th>\n",
       "      <td>1996</td>\n",
       "      <td>4</td>\n",
       "      <td>6</td>\n",
       "    </tr>\n",
       "    <tr>\n",
       "      <th>1996</th>\n",
       "      <td>1997</td>\n",
       "      <td>5</td>\n",
       "      <td>8</td>\n",
       "    </tr>\n",
       "    <tr>\n",
       "      <th>1997</th>\n",
       "      <td>1998</td>\n",
       "      <td>4</td>\n",
       "      <td>8</td>\n",
       "    </tr>\n",
       "    <tr>\n",
       "      <th>1998</th>\n",
       "      <td>1999</td>\n",
       "      <td>5</td>\n",
       "      <td>8</td>\n",
       "    </tr>\n",
       "    <tr>\n",
       "      <th>1999</th>\n",
       "      <td>2000</td>\n",
       "      <td>4</td>\n",
       "      <td>7</td>\n",
       "    </tr>\n",
       "  </tbody>\n",
       "</table>\n",
       "<p>2000 rows × 3 columns</p>\n",
       "</div>"
      ],
      "text/plain": [
       "        ID  parameter  score\n",
       "0        1          5     10\n",
       "1        2          4     10\n",
       "2        3          5      8\n",
       "3        4          5      8\n",
       "4        5          4     10\n",
       "...    ...        ...    ...\n",
       "1995  1996          4      6\n",
       "1996  1997          5      8\n",
       "1997  1998          4      8\n",
       "1998  1999          5      8\n",
       "1999  2000          4      7\n",
       "\n",
       "[2000 rows x 3 columns]"
      ]
     },
     "execution_count": 20,
     "metadata": {
      "tags": []
     },
     "output_type": "execute_result"
    }
   ],
   "source": [
    "path = io.BytesIO(uploaded['solovay.csv'])\n",
    "df = pd.read_csv(path, sep=\",\")\n",
    "\n",
    "df"
   ]
  },
  {
   "cell_type": "code",
   "execution_count": null,
   "metadata": {
    "colab": {
     "base_uri": "https://localhost:8080/"
    },
    "id": "Ml8ejuTnFI_9",
    "outputId": "b820f501-6f5c-4460-e8a7-7c8696b40684"
   },
   "outputs": [
    {
     "data": {
      "text/plain": [
       "array([5, 4])"
      ]
     },
     "execution_count": 23,
     "metadata": {
      "tags": []
     },
     "output_type": "execute_result"
    }
   ],
   "source": [
    "df.parameter.unique()"
   ]
  },
  {
   "cell_type": "markdown",
   "metadata": {
    "id": "wE0eEii2x80N"
   },
   "source": [
    "Comencemos plotando las distribuciones de datos para tener una primera idea de por dónde tirar:"
   ]
  },
  {
   "cell_type": "code",
   "execution_count": null,
   "metadata": {
    "id": "KhRPW__wyE6G"
   },
   "outputs": [],
   "source": [
    "h4, b4 = np.histogram(df[df.parameter==4].score, bins=np.arange(11))\n",
    "h5, b5 = np.histogram(df[df.parameter==5].score, bins=np.arange(11))"
   ]
  },
  {
   "cell_type": "code",
   "execution_count": null,
   "metadata": {
    "colab": {
     "base_uri": "https://localhost:8080/",
     "height": 264
    },
    "id": "o-f5TyykygVS",
    "outputId": "a88d3cd4-0806-428a-85f8-25bacec9081c"
   },
   "outputs": [
    {
     "data": {
      "image/png": "[encoded data removed]",
      "text/plain": [
       "<Figure size 432x288 with 1 Axes>"
      ]
     },
     "metadata": {
      "needs_background": "light",
      "tags": []
     },
     "output_type": "display_data"
    }
   ],
   "source": [
    "import matplotlib.pyplot as plt\n",
    "\n",
    "plt.bar(b4[1:], h4, width=0.8, alpha=0.6, label=\"par 4\")\n",
    "plt.bar(b5[1:], h5, width=0.8, alpha=0.6, label=\"par 5\")\n",
    "plt.grid()\n",
    "plt.legend(loc=\"best\")\n",
    "plt.show()"
   ]
  },
  {
   "cell_type": "markdown",
   "metadata": {
    "id": "tSdkrlAAzAIT"
   },
   "source": [
    "De entrada, parece que tenemos dos muestras con distintas varianzas. Comprobémoslo con un test **F de Fisher-Snedecor**:"
   ]
  },
  {
   "cell_type": "code",
   "execution_count": null,
   "metadata": {
    "colab": {
     "base_uri": "https://localhost:8080/"
    },
    "id": "bthl-IHmztTE",
    "outputId": "f061ff79-a1dc-4ba9-a304-419d6034f7a8"
   },
   "outputs": [
    {
     "name": "stdout",
     "output_type": "stream",
     "text": [
      "1.1102230246251565e-16\n"
     ]
    }
   ],
   "source": [
    "from scipy.stats import f\n",
    "\n",
    "F = np.var(df[df.parameter==4].score) / np.var(df[df.parameter==5].score)\n",
    "df1, df2 = len(df[df.parameter==4]) - 1, len(df[df.parameter==5]) - 1\n",
    "p_value = f.cdf(F, df1, df2)\n",
    "\n",
    "print(np.min([p_value, 1. - p_value]))"
   ]
  },
  {
   "cell_type": "markdown",
   "metadata": {
    "id": "1o2HQUby0dY8"
   },
   "source": [
    "El p-valor nos confirma que son muestras procedentes de poblaciones con varianzas distintas. Ello nos impide realizar un t-test para comparar las medias, así que tendremos que recurrir a un test **U de Mann-Whitney**"
   ]
  },
  {
   "cell_type": "code",
   "execution_count": null,
   "metadata": {
    "colab": {
     "base_uri": "https://localhost:8080/"
    },
    "id": "1AA4ISdF6BNJ",
    "outputId": "4d915cdc-c137-4658-d89d-a1b882713ad1"
   },
   "outputs": [
    {
     "data": {
      "text/plain": [
       "MannwhitneyuResult(statistic=419272.0, pvalue=7.480848522487842e-11)"
      ]
     },
     "execution_count": 26,
     "metadata": {
      "tags": []
     },
     "output_type": "execute_result"
    }
   ],
   "source": [
    "from scipy.stats import mannwhitneyu\n",
    "\n",
    "mannwhitneyu(df[df.parameter==4].score, df[df.parameter==5].score)"
   ]
  },
  {
   "cell_type": "markdown",
   "metadata": {
    "id": "9rqEEnJM6Tmp"
   },
   "source": [
    "El test de Mann-Whitney nos indica diferencia. Sin embargo, este es un test no-paramétrico, tan solo nos dice que los datos provienen de distributciones distintas. Hemos de ser nosotros quienes decidamos qué las distingue.\n",
    "\n",
    "En esta caso, tratándose de distribuciones muy apuntadas y con distintas varianzas, lo más seguro es comparar las medianas:"
   ]
  },
  {
   "cell_type": "code",
   "execution_count": null,
   "metadata": {
    "colab": {
     "base_uri": "https://localhost:8080/"
    },
    "id": "VvsI77n57R0U",
    "outputId": "ca3ec6c4-78c3-43ed-e941-8537ada821be"
   },
   "outputs": [
    {
     "name": "stdout",
     "output_type": "stream",
     "text": [
      "8.0\n",
      "9.0\n"
     ]
    }
   ],
   "source": [
    "print(df[df.parameter==4].score.median())\n",
    "print(df[df.parameter==5].score.median())"
   ]
  },
  {
   "cell_type": "markdown",
   "metadata": {
    "id": "BVbynL8U7c7S"
   },
   "source": [
    "Los datos indican que un 50% de los encuestados dan una puntuación de 9 o superior al parámetros 5; mientras que para el parámetro 4 la puntuación es un punto inferior. Además, hemos visto que las varianzas eran distintas. Podemos preguntarnos qué valores toman estas varianzas:"
   ]
  },
  {
   "cell_type": "code",
   "execution_count": null,
   "metadata": {
    "colab": {
     "base_uri": "https://localhost:8080/"
    },
    "id": "PyMcBetI9iSY",
    "outputId": "d63c410c-77a4-458c-9530-a3f49f0a6df6"
   },
   "outputs": [
    {
     "name": "stdout",
     "output_type": "stream",
     "text": [
      "2.152661378214314\n",
      "1.4479565397345877\n"
     ]
    }
   ],
   "source": [
    "print(df[df.parameter==4].score.std())\n",
    "print(df[df.parameter==5].score.std())"
   ]
  },
  {
   "cell_type": "markdown",
   "metadata": {
    "id": "iEJ7ywak9mVk"
   },
   "source": [
    "Vemos que el parámetro 4, por un lado, puntúa peor y, por otro, tiene mayor dispersión. Esto se interpreta como que hay menos **consenso** entre los encuestados sobre el valor de dicho parámetro. O, dicho de otra manera, el parámetro 5 es más robusto a nivel de puntuaciones, siendo además mayores en mediana. Con estos dos razonamientos, escogeríamos el parámetro 5 como el idóneo para nuestro algoritmo de Solovay-Strassen."
   ]
  },
  {
   "cell_type": "markdown",
   "metadata": {
    "id": "WqS-LoAu3AmJ"
   },
   "source": [
    "# Problema: Hagámosle competencia a Amason Prime ###\n",
    "\n",
    "En este ejercicio vamos a tratar de introducirnos en el lucrativo mercado de los números primos. Como dominamos las mates, hemos decidido que reduciremos costes vendiendo una proporción de números que no son primos pero que lo parecen, los llamados números de Carmichael, entre cuyas hazañas destaca la de engañar al mismísimo Pierre de Fermat. El fichero `carmichael.csv` refleja los resultados de una encuesta de satisfacción realizada a los consumidores en función de si el número mandado es un verdadero primo, un número claramente compuesto o un número de Carmichael.\n",
    "\n",
    "Propón un plan para determinar si los números de Carmichael están resultando aceptables para los consumidores y lleva a cabo el análisis correspondiente. Defiende los resultados y la conveniencia o no de vender números de Carmichael."
   ]
  },
  {
   "cell_type": "code",
   "execution_count": null,
   "metadata": {
    "id": "PmNJYYHwJMty"
   },
   "outputs": [],
   "source": [
    "import io\n",
    "import numpy as np\n",
    "import pandas as pd"
   ]
  },
  {
   "cell_type": "code",
   "execution_count": null,
   "metadata": {
    "colab": {
     "base_uri": "https://localhost:8080/",
     "height": 73
    },
    "id": "eQU7aNSXwUZa",
    "outputId": "a56cf8aa-b50d-45fb-cf99-c1ab23cb9ffd"
   },
   "outputs": [
    {
     "data": {
      "text/html": [
       "\n",
       "     <input type=\"file\" id=\"files-bc752e66-4dae-4121-b185-ab697bba0232\" name=\"files[]\" multiple disabled\n",
       "        style=\"border:none\" />\n",
       "     <output id=\"result-bc752e66-4dae-4121-b185-ab697bba0232\">\n",
       "      Upload widget is only available when the cell has been executed in the\n",
       "      current browser session. Please rerun this cell to enable.\n",
       "      </output>\n",
       "      <script>// Copyright 2017 Google LLC\n",
       "//\n",
       "// Licensed under the Apache License, Version 2.0 (the \"License\");\n",
       "// you may not use this file except in compliance with the License.\n",
       "// You may obtain a copy of the License at\n",
       "//\n",
       "//      http://www.apache.org/licenses/LICENSE-2.0\n",
       "//\n",
       "// Unless required by applicable law or agreed to in writing, software\n",
       "// distributed under the License is distributed on an \"AS IS\" BASIS,\n",
       "// WITHOUT WARRANTIES OR CONDITIONS OF ANY KIND, either express or implied.\n",
       "// See the License for the specific language governing permissions and\n",
       "// limitations under the License.\n",
       "\n",
       "/**\n",
       " * @fileoverview Helpers for google.colab Python module.\n",
       " */\n",
       "(function(scope) {\n",
       "function span(text, styleAttributes = {}) {\n",
       "  const element = document.createElement('span');\n",
       "  element.textContent = text;\n",
       "  for (const key of Object.keys(styleAttributes)) {\n",
       "    element.style[key] = styleAttributes[key];\n",
       "  }\n",
       "  return element;\n",
       "}\n",
       "\n",
       "// Max number of bytes which will be uploaded at a time.\n",
       "const MAX_PAYLOAD_SIZE = 100 * 1024;\n",
       "\n",
       "function _uploadFiles(inputId, outputId) {\n",
       "  const steps = uploadFilesStep(inputId, outputId);\n",
       "  const outputElement = document.getElementById(outputId);\n",
       "  // Cache steps on the outputElement to make it available for the next call\n",
       "  // to uploadFilesContinue from Python.\n",
       "  outputElement.steps = steps;\n",
       "\n",
       "  return _uploadFilesContinue(outputId);\n",
       "}\n",
       "\n",
       "// This is roughly an async generator (not supported in the browser yet),\n",
       "// where there are multiple asynchronous steps and the Python side is going\n",
       "// to poll for completion of each step.\n",
       "// This uses a Promise to block the python side on completion of each step,\n",
       "// then passes the result of the previous step as the input to the next step.\n",
       "function _uploadFilesContinue(outputId) {\n",
       "  const outputElement = document.getElementById(outputId);\n",
       "  const steps = outputElement.steps;\n",
       "\n",
       "  const next = steps.next(outputElement.lastPromiseValue);\n",
       "  return Promise.resolve(next.value.promise).then((value) => {\n",
       "    // Cache the last promise value to make it available to the next\n",
       "    // step of the generator.\n",
       "    outputElement.lastPromiseValue = value;\n",
       "    return next.value.response;\n",
       "  });\n",
       "}\n",
       "\n",
       "/**\n",
       " * Generator function which is called between each async step of the upload\n",
       " * process.\n",
       " * @param {string} inputId Element ID of the input file picker element.\n",
       " * @param {string} outputId Element ID of the output display.\n",
       " * @return {!Iterable<!Object>} Iterable of next steps.\n",
       " */\n",
       "function* uploadFilesStep(inputId, outputId) {\n",
       "  const inputElement = document.getElementById(inputId);\n",
       "  inputElement.disabled = false;\n",
       "\n",
       "  const outputElement = document.getElementById(outputId);\n",
       "  outputElement.innerHTML = '';\n",
       "\n",
       "  const pickedPromise = new Promise((resolve) => {\n",
       "    inputElement.addEventListener('change', (e) => {\n",
       "      resolve(e.target.files);\n",
       "    });\n",
       "  });\n",
       "\n",
       "  const cancel = document.createElement('button');\n",
       "  inputElement.parentElement.appendChild(cancel);\n",
       "  cancel.textContent = 'Cancel upload';\n",
       "  const cancelPromise = new Promise((resolve) => {\n",
       "    cancel.onclick = () => {\n",
       "      resolve(null);\n",
       "    };\n",
       "  });\n",
       "\n",
       "  // Wait for the user to pick the files.\n",
       "  const files = yield {\n",
       "    promise: Promise.race([pickedPromise, cancelPromise]),\n",
       "    response: {\n",
       "      action: 'starting',\n",
       "    }\n",
       "  };\n",
       "\n",
       "  cancel.remove();\n",
       "\n",
       "  // Disable the input element since further picks are not allowed.\n",
       "  inputElement.disabled = true;\n",
       "\n",
       "  if (!files) {\n",
       "    return {\n",
       "      response: {\n",
       "        action: 'complete',\n",
       "      }\n",
       "    };\n",
       "  }\n",
       "\n",
       "  for (const file of files) {\n",
       "    const li = document.createElement('li');\n",
       "    li.append(span(file.name, {fontWeight: 'bold'}));\n",
       "    li.append(span(\n",
       "        `(${file.type || 'n/a'}) - ${file.size} bytes, ` +\n",
       "        `last modified: ${\n",
       "            file.lastModifiedDate ? file.lastModifiedDate.toLocaleDateString() :\n",
       "                                    'n/a'} - `));\n",
       "    const percent = span('0% done');\n",
       "    li.appendChild(percent);\n",
       "\n",
       "    outputElement.appendChild(li);\n",
       "\n",
       "    const fileDataPromise = new Promise((resolve) => {\n",
       "      const reader = new FileReader();\n",
       "      reader.onload = (e) => {\n",
       "        resolve(e.target.result);\n",
       "      };\n",
       "      reader.readAsArrayBuffer(file);\n",
       "    });\n",
       "    // Wait for the data to be ready.\n",
       "    let fileData = yield {\n",
       "      promise: fileDataPromise,\n",
       "      response: {\n",
       "        action: 'continue',\n",
       "      }\n",
       "    };\n",
       "\n",
       "    // Use a chunked sending to avoid message size limits. See b/62115660.\n",
       "    let position = 0;\n",
       "    do {\n",
       "      const length = Math.min(fileData.byteLength - position, MAX_PAYLOAD_SIZE);\n",
       "      const chunk = new Uint8Array(fileData, position, length);\n",
       "      position += length;\n",
       "\n",
       "      const base64 = btoa(String.fromCharCode.apply(null, chunk));\n",
       "      yield {\n",
       "        response: {\n",
       "          action: 'append',\n",
       "          file: file.name,\n",
       "          data: base64,\n",
       "        },\n",
       "      };\n",
       "\n",
       "      let percentDone = fileData.byteLength === 0 ?\n",
       "          100 :\n",
       "          Math.round((position / fileData.byteLength) * 100);\n",
       "      percent.textContent = `${percentDone}% done`;\n",
       "\n",
       "    } while (position < fileData.byteLength);\n",
       "  }\n",
       "\n",
       "  // All done.\n",
       "  yield {\n",
       "    response: {\n",
       "      action: 'complete',\n",
       "    }\n",
       "  };\n",
       "}\n",
       "\n",
       "scope.google = scope.google || {};\n",
       "scope.google.colab = scope.google.colab || {};\n",
       "scope.google.colab._files = {\n",
       "  _uploadFiles,\n",
       "  _uploadFilesContinue,\n",
       "};\n",
       "})(self);\n",
       "</script> "
      ],
      "text/plain": [
       "<IPython.core.display.HTML object>"
      ]
     },
     "metadata": {},
     "output_type": "display_data"
    },
    {
     "name": "stdout",
     "output_type": "stream",
     "text": [
      "Saving carmichael.csv to carmichael.csv\n"
     ]
    }
   ],
   "source": [
    "from google.colab import files\n",
    "\n",
    "uploaded = files.upload()"
   ]
  },
  {
   "cell_type": "code",
   "execution_count": null,
   "metadata": {
    "colab": {
     "base_uri": "https://localhost:8080/",
     "height": 424
    },
    "id": "i6zJ6_nnJNRi",
    "outputId": "16006a70-da26-4207-8cd8-488c2fe42a2e"
   },
   "outputs": [
    {
     "data": {
      "text/html": [
       "\n",
       "  <div id=\"df-7ec7e7d2-3549-425c-9846-b203d7f0049f\">\n",
       "    <div class=\"colab-df-container\">\n",
       "      <div>\n",
       "<style scoped>\n",
       "    .dataframe tbody tr th:only-of-type {\n",
       "        vertical-align: middle;\n",
       "    }\n",
       "\n",
       "    .dataframe tbody tr th {\n",
       "        vertical-align: top;\n",
       "    }\n",
       "\n",
       "    .dataframe thead th {\n",
       "        text-align: right;\n",
       "    }\n",
       "</style>\n",
       "<table border=\"1\" class=\"dataframe\">\n",
       "  <thead>\n",
       "    <tr style=\"text-align: right;\">\n",
       "      <th></th>\n",
       "      <th>ID</th>\n",
       "      <th>number_type</th>\n",
       "      <th>score</th>\n",
       "    </tr>\n",
       "  </thead>\n",
       "  <tbody>\n",
       "    <tr>\n",
       "      <th>0</th>\n",
       "      <td>1</td>\n",
       "      <td>Prime</td>\n",
       "      <td>7</td>\n",
       "    </tr>\n",
       "    <tr>\n",
       "      <th>1</th>\n",
       "      <td>2</td>\n",
       "      <td>Carmichael</td>\n",
       "      <td>10</td>\n",
       "    </tr>\n",
       "    <tr>\n",
       "      <th>2</th>\n",
       "      <td>3</td>\n",
       "      <td>Carmichael</td>\n",
       "      <td>10</td>\n",
       "    </tr>\n",
       "    <tr>\n",
       "      <th>3</th>\n",
       "      <td>4</td>\n",
       "      <td>Carmichael</td>\n",
       "      <td>1</td>\n",
       "    </tr>\n",
       "    <tr>\n",
       "      <th>4</th>\n",
       "      <td>5</td>\n",
       "      <td>Composite</td>\n",
       "      <td>1</td>\n",
       "    </tr>\n",
       "    <tr>\n",
       "      <th>...</th>\n",
       "      <td>...</td>\n",
       "      <td>...</td>\n",
       "      <td>...</td>\n",
       "    </tr>\n",
       "    <tr>\n",
       "      <th>2995</th>\n",
       "      <td>2996</td>\n",
       "      <td>Composite</td>\n",
       "      <td>2</td>\n",
       "    </tr>\n",
       "    <tr>\n",
       "      <th>2996</th>\n",
       "      <td>2997</td>\n",
       "      <td>Prime</td>\n",
       "      <td>7</td>\n",
       "    </tr>\n",
       "    <tr>\n",
       "      <th>2997</th>\n",
       "      <td>2998</td>\n",
       "      <td>Composite</td>\n",
       "      <td>0</td>\n",
       "    </tr>\n",
       "    <tr>\n",
       "      <th>2998</th>\n",
       "      <td>2999</td>\n",
       "      <td>Prime</td>\n",
       "      <td>9</td>\n",
       "    </tr>\n",
       "    <tr>\n",
       "      <th>2999</th>\n",
       "      <td>3000</td>\n",
       "      <td>Composite</td>\n",
       "      <td>4</td>\n",
       "    </tr>\n",
       "  </tbody>\n",
       "</table>\n",
       "<p>3000 rows × 3 columns</p>\n",
       "</div>\n",
       "      <button class=\"colab-df-convert\" onclick=\"convertToInteractive('df-7ec7e7d2-3549-425c-9846-b203d7f0049f')\"\n",
       "              title=\"Convert this dataframe to an interactive table.\"\n",
       "              style=\"display:none;\">\n",
       "        \n",
       "  <svg xmlns=\"http://www.w3.org/2000/svg\" height=\"24px\"viewBox=\"0 0 24 24\"\n",
       "       width=\"24px\">\n",
       "    <path d=\"M0 0h24v24H0V0z\" fill=\"none\"/>\n",
       "    <path d=\"M18.56 5.44l.94 2.06.94-2.06 2.06-.94-2.06-.94-.94-2.06-.94 2.06-2.06.94zm-11 1L8.5 8.5l.94-2.06 2.06-.94-2.06-.94L8.5 2.5l-.94 2.06-2.06.94zm10 10l.94 2.06.94-2.06 2.06-.94-2.06-.94-.94-2.06-.94 2.06-2.06.94z\"/><path d=\"M17.41 7.96l-1.37-1.37c-.4-.4-.92-.59-1.43-.59-.52 0-1.04.2-1.43.59L10.3 9.45l-7.72 7.72c-.78.78-.78 2.05 0 2.83L4 21.41c.39.39.9.59 1.41.59.51 0 1.02-.2 1.41-.59l7.78-7.78 2.81-2.81c.8-.78.8-2.07 0-2.86zM5.41 20L4 18.59l7.72-7.72 1.47 1.35L5.41 20z\"/>\n",
       "  </svg>\n",
       "      </button>\n",
       "      \n",
       "  <style>\n",
       "    .colab-df-container {\n",
       "      display:flex;\n",
       "      flex-wrap:wrap;\n",
       "      gap: 12px;\n",
       "    }\n",
       "\n",
       "    .colab-df-convert {\n",
       "      background-color: #E8F0FE;\n",
       "      border: none;\n",
       "      border-radius: 50%;\n",
       "      cursor: pointer;\n",
       "      display: none;\n",
       "      fill: #1967D2;\n",
       "      height: 32px;\n",
       "      padding: 0 0 0 0;\n",
       "      width: 32px;\n",
       "    }\n",
       "\n",
       "    .colab-df-convert:hover {\n",
       "      background-color: #E2EBFA;\n",
       "      box-shadow: 0px 1px 2px rgba(60, 64, 67, 0.3), 0px 1px 3px 1px rgba(60, 64, 67, 0.15);\n",
       "      fill: #174EA6;\n",
       "    }\n",
       "\n",
       "    [theme=dark] .colab-df-convert {\n",
       "      background-color: #3B4455;\n",
       "      fill: #D2E3FC;\n",
       "    }\n",
       "\n",
       "    [theme=dark] .colab-df-convert:hover {\n",
       "      background-color: #434B5C;\n",
       "      box-shadow: 0px 1px 3px 1px rgba(0, 0, 0, 0.15);\n",
       "      filter: drop-shadow(0px 1px 2px rgba(0, 0, 0, 0.3));\n",
       "      fill: #FFFFFF;\n",
       "    }\n",
       "  </style>\n",
       "\n",
       "      <script>\n",
       "        const buttonEl =\n",
       "          document.querySelector('#df-7ec7e7d2-3549-425c-9846-b203d7f0049f button.colab-df-convert');\n",
       "        buttonEl.style.display =\n",
       "          google.colab.kernel.accessAllowed ? 'block' : 'none';\n",
       "\n",
       "        async function convertToInteractive(key) {\n",
       "          const element = document.querySelector('#df-7ec7e7d2-3549-425c-9846-b203d7f0049f');\n",
       "          const dataTable =\n",
       "            await google.colab.kernel.invokeFunction('convertToInteractive',\n",
       "                                                     [key], {});\n",
       "          if (!dataTable) return;\n",
       "\n",
       "          const docLinkHtml = 'Like what you see? Visit the ' +\n",
       "            '<a target=\"_blank\" href=https://colab.research.google.com/notebooks/data_table.ipynb>data table notebook</a>'\n",
       "            + ' to learn more about interactive tables.';\n",
       "          element.innerHTML = '';\n",
       "          dataTable['output_type'] = 'display_data';\n",
       "          await google.colab.output.renderOutput(dataTable, element);\n",
       "          const docLink = document.createElement('div');\n",
       "          docLink.innerHTML = docLinkHtml;\n",
       "          element.appendChild(docLink);\n",
       "        }\n",
       "      </script>\n",
       "    </div>\n",
       "  </div>\n",
       "  "
      ],
      "text/plain": [
       "        ID number_type  score\n",
       "0        1       Prime      7\n",
       "1        2  Carmichael     10\n",
       "2        3  Carmichael     10\n",
       "3        4  Carmichael      1\n",
       "4        5   Composite      1\n",
       "...    ...         ...    ...\n",
       "2995  2996   Composite      2\n",
       "2996  2997       Prime      7\n",
       "2997  2998   Composite      0\n",
       "2998  2999       Prime      9\n",
       "2999  3000   Composite      4\n",
       "\n",
       "[3000 rows x 3 columns]"
      ]
     },
     "execution_count": 3,
     "metadata": {},
     "output_type": "execute_result"
    }
   ],
   "source": [
    "path = io.BytesIO(uploaded['carmichael.csv'])\n",
    "df = pd.read_csv(path, sep=\",\")\n",
    "\n",
    "df"
   ]
  },
  {
   "cell_type": "markdown",
   "metadata": {
    "id": "1nlGefRPKGiW"
   },
   "source": [
    "Primero vamos a empezar a mirar los datos que hay en el fichero, para poder empezar a interpretar qué está sucediendo."
   ]
  },
  {
   "cell_type": "code",
   "execution_count": null,
   "metadata": {
    "colab": {
     "base_uri": "https://localhost:8080/"
    },
    "id": "ljgJrrJdKNtZ",
    "outputId": "860cd1bf-d5ab-4a51-99d4-905674f9cf89"
   },
   "outputs": [
    {
     "name": "stdout",
     "output_type": "stream",
     "text": [
      "PRIME: Hay 1021 registros, y la media es 8.573947110675809\n",
      "COMPOSITE: Hay 980 registros, y la media es 4.208163265306123\n",
      "CARMICHAEL: Hay 999 registros, y la media es 7.318318318318318\n"
     ]
    }
   ],
   "source": [
    "dfPrime=df[df[\"number_type\"]=='Prime']\n",
    "dfComposite=df[df[\"number_type\"]=='Composite']\n",
    "dfCarmichael=df[df[\"number_type\"]=='Carmichael']\n",
    "\n",
    "print(\"PRIME: Hay\", len(dfPrime.axes[0]), \"registros, y la media es\", dfPrime[\"score\"].mean())\n",
    "print(\"COMPOSITE: Hay\", len(dfComposite.axes[0]), \"registros, y la media es\", dfComposite[\"score\"].mean())\n",
    "print(\"CARMICHAEL: Hay\", len(dfCarmichael.axes[0]), \"registros, y la media es\", dfCarmichael[\"score\"].mean())"
   ]
  },
  {
   "cell_type": "code",
   "execution_count": null,
   "metadata": {
    "colab": {
     "base_uri": "https://localhost:8080/"
    },
    "id": "Q6eQaWa9LD1o",
    "outputId": "d4840e33-6bc0-428a-cba9-462dfc75e9c8"
   },
   "outputs": [
    {
     "name": "stdout",
     "output_type": "stream",
     "text": [
      "Porcentaje de clientes que percibieron el número como prim 34.03%:\n",
      "Porcentaje de clientes que percibieron el número como composite 32.67%:\n",
      "Porcentaje de clientes que percibieron el número como carmichael 33.30%:\n"
     ]
    }
   ],
   "source": [
    "\n",
    "prime_df = df[df[\"number_type\"] == \"prime\"]\n",
    "carmichael_df = df[df[\"number_type\"] == \"carmichael\"]\n",
    "composite_df = df[df[\"number_type\"] == \"composite\"]\n",
    "\n",
    "total_rows = df.shape[0]\n",
    "\n",
    "number_type_shares = df[\"number_type\"].value_counts()/total_rows\n",
    "\n",
    "prime_share = number_type_shares['Prime']\n",
    "composite_share = number_type_shares['Composite']\n",
    "carmichael_share = number_type_shares['Carmichael']\n",
    "\n",
    "print(\"Porcentaje de clientes que percibieron el número como prim {:.2%}:\".format(prime_share))\n",
    "print(\"Porcentaje de clientes que percibieron el número como composite {:.2%}:\".format(composite_share))\n",
    "print(\"Porcentaje de clientes que percibieron el número como carmichael {:.2%}:\".format(carmichael_share))\n"
   ]
  },
  {
   "cell_type": "markdown",
   "metadata": {
    "id": "cLyGBKVjQHH4"
   },
   "source": [
    "A simple vista podemos observar que las 3 muestras tienen aproximadamente el mismo tamaño y la media de la muestra Prime y la de Carmichael tienen un parecido razonable a comparación con la muestra de composite, que esta claramente peor valorada que las anteriores. Para ver más en detalle lo que está sucediendo vamos a plotear las tres muestras."
   ]
  },
  {
   "cell_type": "code",
   "execution_count": null,
   "metadata": {
    "colab": {
     "base_uri": "https://localhost:8080/",
     "height": 761
    },
    "id": "-cTOW6JNQz2x",
    "outputId": "e7d1ecdb-6043-4d2a-fb73-4d086de336ad"
   },
   "outputs": [
    {
     "data": {
      "image/png": "[encoded data removed]",
      "text/plain": [
       "<Figure size 432x288 with 1 Axes>"
      ]
     },
     "metadata": {
      "needs_background": "light"
     },
     "output_type": "display_data"
    },
    {
     "data": {
      "image/png": "[encoded data removed]",
      "text/plain": [
       "<Figure size 432x288 with 1 Axes>"
      ]
     },
     "metadata": {
      "needs_background": "light"
     },
     "output_type": "display_data"
    },
    {
     "data": {
      "image/png": "[encoded data removed]",
      "text/plain": [
       "<Figure size 432x288 with 1 Axes>"
      ]
     },
     "metadata": {
      "needs_background": "light"
     },
     "output_type": "display_data"
    }
   ],
   "source": [
    "import matplotlib.pyplot as plt\n",
    "\n",
    "hPri, bPri = np.histogram(dfPrime.score, bins=np.arange(11))\n",
    "hCar, bCar = np.histogram(dfCarmichael.score, bins=np.arange(11))\n",
    "hCom, bCom = np.histogram(dfComposite.score, bins=np.arange(11))\n",
    "\n",
    "# histograma de la puntuación de satisfacción de los números primos\n",
    "plt.bar(bPri[1:], hPri, width=0.8, alpha=0.4, label=\"Prime' score\", color=['pink'])\n",
    "plt.grid()\n",
    "plt.legend(loc=\"best\")\n",
    "plt.show()\n",
    "\n",
    "# histograma de la puntuación de satisfacción para los números de Carmichael\n",
    "plt.bar(bCar[1:], hCar, width=0.8, alpha=0.4, label=\"Carmichael' score\", color=['purple'])\n",
    "plt.grid()\n",
    "plt.legend(loc=\"best\")\n",
    "plt.show()\n",
    "\n",
    "# histograma de la puntuación de satisfacción para números compuestos\n",
    "plt.bar(bCom[1:], hCom, width=0.8, alpha=0.4, label=\"Composite' score\", color=['blue'])\n",
    "plt.grid()\n",
    "plt.legend(loc=\"best\")\n",
    "plt.show()"
   ]
  },
  {
   "cell_type": "markdown",
   "metadata": {
    "id": "uiHkVbefQ4yC"
   },
   "source": [
    "Por la forma de las gráficas y como las tres distribuciones cumplen el TLC, vamos a aplicar el test de U de Mannwithen para ver si se cumple que las medias son iguales dos a dos para alguna de las combinaciones posibles. \n",
    "\n",
    "La prueba U de Mann-Whitney (también conocida como prueba de suma de rangos de Wilcoxon) es una prueba estadística no paramétrica que se puede usar para determinar si dos muestras tienen la misma mediana. Es útil para comparar las medias de dos muestras cuando los datos no cumplen los supuestos de una prueba paramétrica como la prueba t."
   ]
  },
  {
   "cell_type": "code",
   "execution_count": null,
   "metadata": {
    "colab": {
     "base_uri": "https://localhost:8080/"
    },
    "id": "89sHx_7bu4aB",
    "outputId": "5c4ce7b5-6d3b-4eac-e493-1b2edcd88e5b"
   },
   "outputs": [
    {
     "name": "stdout",
     "output_type": "stream",
     "text": [
      "MannwhitneyuResult(statistic=572343.0, pvalue=8.395102537966176e-07)\n",
      "MannwhitneyuResult(statistic=897735.0, pvalue=3.6505851800077686e-211)\n",
      "MannwhitneyuResult(statistic=226814.5, pvalue=1.6049730930764056e-96)\n"
     ]
    }
   ],
   "source": [
    "from scipy.stats import mannwhitneyu\n",
    "\n",
    "print(mannwhitneyu(dfPrime.score, dfCarmichael.score))\n",
    "print(mannwhitneyu(dfPrime.score, dfComposite.score))\n",
    "print(mannwhitneyu(dfComposite.score, dfCarmichael.score))\n"
   ]
  },
  {
   "cell_type": "code",
   "execution_count": null,
   "metadata": {
    "colab": {
     "base_uri": "https://localhost:8080/"
    },
    "id": "YsINbybpRyVN",
    "outputId": "9eb2dc83-dc70-4638-866b-56a15a7a7a4d"
   },
   "outputs": [
    {
     "name": "stdout",
     "output_type": "stream",
     "text": [
      "H-value: 947.4049794484006\n",
      "p-value: 1.8776846197405472e-206\n"
     ]
    }
   ],
   "source": [
    "from scipy.stats import kruskal\n",
    "\n",
    "# Perform the Kruskal-Wallis H-test to compare the satisfaction scores of Prime, Carmichael, and Composite numbers\n",
    "h, p = kruskal(dfPrime.score, dfCarmichael.score, dfComposite.score)\n",
    "\n",
    "# Print the results\n",
    "print(\"H-value:\", h)\n",
    "print(\"p-value:\", p)"
   ]
  },
  {
   "cell_type": "markdown",
   "metadata": {
    "id": "HUg0QezhSpah"
   },
   "source": [
    "Este código utiliza la función kruskal del módulo scipy.stats para realizar la prueba H de Kruskal-Wallis en las puntuaciones de satisfacción de los números primos, los números de Carmichael y los números compuestos.\n",
    "El valor H es una medida de las diferencias generales entre las muestras, mientras que el valor p es la probabilidad de observar un valor H tan extremo o más extremo que el observado, asumiendo que todas las muestras tienen la misma mediana.\n",
    "\n"
   ]
  },
  {
   "cell_type": "markdown",
   "metadata": {
    "id": "olHVM74cS4fO"
   },
   "source": [
    "En este caso, el valor H es 947,4049794484006 y el valor p es 1,8776846197405472e-206, que es una probabilidad muy baja, casi 0, lo que indica que existe una diferencia significativa entre las puntuaciones de satisfacción de los números primos, los números de Carmichael y Números compuestos.\n",
    "\n",
    "Un umbral común para el valor p es 0,05, lo que significa que si el valor p es inferior a 0,05, rechazamos la hipótesis nula de que todas las muestras tienen la misma mediana y concluimos que existe una diferencia significativa entre las muestras. En este caso, el valor p es mucho menor que 0,05, lo que significa que podemos rechazar la hipótesis nula con un alto grado de confianza."
   ]
  },
  {
   "cell_type": "markdown",
   "metadata": {
    "id": "8kwPtrpnRRf6"
   },
   "source": [
    "Como observamos, en los tres casos podemos descartar que las medias sean iguales. Sin embargo, se observa que los p-valores entre las muestras prime-composite y carmichael-composite son mucho más pequeñas que la combinación primer-carmichael, por lo que podemos deducir que las medias que distan menos de parecerse más son las de las valoraciones de los numeros primos y los de carmichael.\n",
    "A continuación, vamos a clusterizar las muestras usando el test de tukey."
   ]
  },
  {
   "cell_type": "code",
   "execution_count": null,
   "metadata": {
    "colab": {
     "base_uri": "https://localhost:8080/"
    },
    "id": "SOYkvRwTTPgg",
    "outputId": "f86e3d7b-61a6-4a25-90ad-37606e339589"
   },
   "outputs": [
    {
     "name": "stdout",
     "output_type": "stream",
     "text": [
      "   Multiple Comparison of Means - Tukey HSD, FWER=0.05    \n",
      "==========================================================\n",
      "  group1     group2  meandiff p-adj  lower   upper  reject\n",
      "----------------------------------------------------------\n",
      "Carmichael Composite  -3.1102 0.001 -3.3942 -2.8261   True\n",
      "Carmichael     Prime   1.2556 0.001  0.9745  1.5368   True\n",
      " Composite     Prime   4.3658 0.001  4.0833  4.6483   True\n",
      "----------------------------------------------------------\n"
     ]
    }
   ],
   "source": [
    "from statsmodels.stats.multicomp import pairwise_tukeyhsd\n",
    "\n",
    "#  la prueba de Tukey para comparar las puntuaciones de satisfacción de los números Prime, Carmichael y Composite\n",
    "tukey = pairwise_tukeyhsd(df[\"score\"], df[\"number_type\"])\n",
    "\n",
    "print(tukey.summary())"
   ]
  },
  {
   "cell_type": "markdown",
   "metadata": {
    "id": "w6UzKpQV-IYs"
   },
   "source": [
    "# Conclusiones\n",
    "\n",
    "Viendo que el p-valor es menor que 0.5 en todos los test de U de Man-whitney podemos rechazar las hipotesis nula de que algunas de las medias son iguales dos a dos. \n",
    "Por lo que en conclusión, aunque incialmente las dos muestras tienen unos valores parecidos, y podriamos llegar a suponer que las valoraciones de los clientes son relativamente parecidas, podemos asumir que esto no es así y que los consumidores prefieren los números primos.\n",
    "\n",
    "No obstante, mediante estos tests y los datos del test de tukey, podemos observar que las medias que son más similares son las de las muestras de las valoraciones de los números primos y los de Carmichael.\n",
    "\n",
    "Por ello, aunque aparentemente la satisfación de cliente con los números de Carmichael es peor a la de los Primos, deberíamos estudiar el coste-beneficio que tiene este mercado para poder investigar más en detalle si es más rentable el negocio de compentencia a Amason Prime.\n",
    "\n",
    "Finalmente, basándonos solo en los resultados del test, y como inversor, no invertiría ni aconsejaría invertir en el negocio de los números de Carmichael, sino que encontrando la manera más rentable posible, seguiria apostando por un negocio que calculara números primos fiables."
   ]
  },
  {
   "cell_type": "markdown",
   "metadata": {
    "id": "L7D_JycMTe8Z"
   },
   "source": [
    "Conclusiones:\n",
    "\n",
    "- Las medias de las puntuaciones de satisfacción de los números primos y los números de Carmichael no son significativamente diferentes entre sí, pero sí lo son con respecto a la media de las puntuaciones de satisfacción de los números compuestos.\n",
    "- La media de las puntuaciones de satisfacción de los números compuestos es significativamente menor que las medias de las puntuaciones de satisfacción de los números primos y los números de Carmichael.\n",
    "- Las puntuaciones de satisfacción de los números primos y los números de Carmichael son más similares entre sí, pero viendo que el p-valor es menor que 0.5 en todos los test de U de Man-whitney podemos rechazar las hipotesis nula de que algunas de las medias son iguales dos a dos.\n",
    "\n",
    "En base a estas conclusiones, podemos decir que vender números de Carmichael a los consumidores no es una buena idea ya que los resultados no son tan buenos como los de los números primos y los consumidores no están tan satisfechos con ellos como con los números primos."
   ]
  }
 ],
 "metadata": {
  "colab": {
   "provenance": []
  },
  "kernelspec": {
   "display_name": "Python 3 (ipykernel)",
   "language": "python",
   "name": "python3"
  },
  "language_info": {
   "codemirror_mode": {
    "name": "ipython",
    "version": 3
   },
   "file_extension": ".py",
   "mimetype": "text/x-python",
   "name": "python",
   "nbconvert_exporter": "python",
   "pygments_lexer": "ipython3",
   "version": "3.11.3"
  }
 },
 "nbformat": 4,
 "nbformat_minor": 1
}
