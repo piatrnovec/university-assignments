{
  "nbformat": 4,
  "nbformat_minor": 0,
  "metadata": {
    "colab": {
      "provenance": []
    },
    "kernelspec": {
      "name": "python3",
      "display_name": "Python 3"
    }
  },
  "cells": [
    {
      "cell_type": "code",
      "metadata": {
        "id": "e5virHbPmXYs"
      },
      "source": [
        "import io\n",
        "import numpy as np\n",
        "import pandas as pd"
      ],
      "execution_count": null,
      "outputs": []
    },
    {
      "cell_type": "code",
      "metadata": {
        "id": "r1YhJdNNnjXo",
        "colab": {
          "base_uri": "https://localhost:8080/",
          "height": 385
        },
        "outputId": "f8af393f-ebdf-4672-841e-6f93b3ad581a"
      },
      "source": [
        "from google.colab import files\n",
        "\n",
        "uploaded = files.upload()"
      ],
      "execution_count": null,
      "outputs": [
        {
          "output_type": "display_data",
          "data": {
            "text/plain": [
              "<IPython.core.display.HTML object>"
            ],
            "text/html": [
              "\n",
              "     <input type=\"file\" id=\"files-d1bc6d32-69c3-4707-b001-710b66b74d66\" name=\"files[]\" multiple disabled\n",
              "        style=\"border:none\" />\n",
              "     <output id=\"result-d1bc6d32-69c3-4707-b001-710b66b74d66\">\n",
              "      Upload widget is only available when the cell has been executed in the\n",
              "      current browser session. Please rerun this cell to enable.\n",
              "      </output>\n",
              "      <script>// Copyright 2017 Google LLC\n",
              "//\n",
              "// Licensed under the Apache License, Version 2.0 (the \"License\");\n",
              "// you may not use this file except in compliance with the License.\n",
              "// You may obtain a copy of the License at\n",
              "//\n",
              "//      http://www.apache.org/licenses/LICENSE-2.0\n",
              "//\n",
              "// Unless required by applicable law or agreed to in writing, software\n",
              "// distributed under the License is distributed on an \"AS IS\" BASIS,\n",
              "// WITHOUT WARRANTIES OR CONDITIONS OF ANY KIND, either express or implied.\n",
              "// See the License for the specific language governing permissions and\n",
              "// limitations under the License.\n",
              "\n",
              "/**\n",
              " * @fileoverview Helpers for google.colab Python module.\n",
              " */\n",
              "(function(scope) {\n",
              "function span(text, styleAttributes = {}) {\n",
              "  const element = document.createElement('span');\n",
              "  element.textContent = text;\n",
              "  for (const key of Object.keys(styleAttributes)) {\n",
              "    element.style[key] = styleAttributes[key];\n",
              "  }\n",
              "  return element;\n",
              "}\n",
              "\n",
              "// Max number of bytes which will be uploaded at a time.\n",
              "const MAX_PAYLOAD_SIZE = 100 * 1024;\n",
              "\n",
              "function _uploadFiles(inputId, outputId) {\n",
              "  const steps = uploadFilesStep(inputId, outputId);\n",
              "  const outputElement = document.getElementById(outputId);\n",
              "  // Cache steps on the outputElement to make it available for the next call\n",
              "  // to uploadFilesContinue from Python.\n",
              "  outputElement.steps = steps;\n",
              "\n",
              "  return _uploadFilesContinue(outputId);\n",
              "}\n",
              "\n",
              "// This is roughly an async generator (not supported in the browser yet),\n",
              "// where there are multiple asynchronous steps and the Python side is going\n",
              "// to poll for completion of each step.\n",
              "// This uses a Promise to block the python side on completion of each step,\n",
              "// then passes the result of the previous step as the input to the next step.\n",
              "function _uploadFilesContinue(outputId) {\n",
              "  const outputElement = document.getElementById(outputId);\n",
              "  const steps = outputElement.steps;\n",
              "\n",
              "  const next = steps.next(outputElement.lastPromiseValue);\n",
              "  return Promise.resolve(next.value.promise).then((value) => {\n",
              "    // Cache the last promise value to make it available to the next\n",
              "    // step of the generator.\n",
              "    outputElement.lastPromiseValue = value;\n",
              "    return next.value.response;\n",
              "  });\n",
              "}\n",
              "\n",
              "/**\n",
              " * Generator function which is called between each async step of the upload\n",
              " * process.\n",
              " * @param {string} inputId Element ID of the input file picker element.\n",
              " * @param {string} outputId Element ID of the output display.\n",
              " * @return {!Iterable<!Object>} Iterable of next steps.\n",
              " */\n",
              "function* uploadFilesStep(inputId, outputId) {\n",
              "  const inputElement = document.getElementById(inputId);\n",
              "  inputElement.disabled = false;\n",
              "\n",
              "  const outputElement = document.getElementById(outputId);\n",
              "  outputElement.innerHTML = '';\n",
              "\n",
              "  const pickedPromise = new Promise((resolve) => {\n",
              "    inputElement.addEventListener('change', (e) => {\n",
              "      resolve(e.target.files);\n",
              "    });\n",
              "  });\n",
              "\n",
              "  const cancel = document.createElement('button');\n",
              "  inputElement.parentElement.appendChild(cancel);\n",
              "  cancel.textContent = 'Cancel upload';\n",
              "  const cancelPromise = new Promise((resolve) => {\n",
              "    cancel.onclick = () => {\n",
              "      resolve(null);\n",
              "    };\n",
              "  });\n",
              "\n",
              "  // Wait for the user to pick the files.\n",
              "  const files = yield {\n",
              "    promise: Promise.race([pickedPromise, cancelPromise]),\n",
              "    response: {\n",
              "      action: 'starting',\n",
              "    }\n",
              "  };\n",
              "\n",
              "  cancel.remove();\n",
              "\n",
              "  // Disable the input element since further picks are not allowed.\n",
              "  inputElement.disabled = true;\n",
              "\n",
              "  if (!files) {\n",
              "    return {\n",
              "      response: {\n",
              "        action: 'complete',\n",
              "      }\n",
              "    };\n",
              "  }\n",
              "\n",
              "  for (const file of files) {\n",
              "    const li = document.createElement('li');\n",
              "    li.append(span(file.name, {fontWeight: 'bold'}));\n",
              "    li.append(span(\n",
              "        `(${file.type || 'n/a'}) - ${file.size} bytes, ` +\n",
              "        `last modified: ${\n",
              "            file.lastModifiedDate ? file.lastModifiedDate.toLocaleDateString() :\n",
              "                                    'n/a'} - `));\n",
              "    const percent = span('0% done');\n",
              "    li.appendChild(percent);\n",
              "\n",
              "    outputElement.appendChild(li);\n",
              "\n",
              "    const fileDataPromise = new Promise((resolve) => {\n",
              "      const reader = new FileReader();\n",
              "      reader.onload = (e) => {\n",
              "        resolve(e.target.result);\n",
              "      };\n",
              "      reader.readAsArrayBuffer(file);\n",
              "    });\n",
              "    // Wait for the data to be ready.\n",
              "    let fileData = yield {\n",
              "      promise: fileDataPromise,\n",
              "      response: {\n",
              "        action: 'continue',\n",
              "      }\n",
              "    };\n",
              "\n",
              "    // Use a chunked sending to avoid message size limits. See b/62115660.\n",
              "    let position = 0;\n",
              "    do {\n",
              "      const length = Math.min(fileData.byteLength - position, MAX_PAYLOAD_SIZE);\n",
              "      const chunk = new Uint8Array(fileData, position, length);\n",
              "      position += length;\n",
              "\n",
              "      const base64 = btoa(String.fromCharCode.apply(null, chunk));\n",
              "      yield {\n",
              "        response: {\n",
              "          action: 'append',\n",
              "          file: file.name,\n",
              "          data: base64,\n",
              "        },\n",
              "      };\n",
              "\n",
              "      let percentDone = fileData.byteLength === 0 ?\n",
              "          100 :\n",
              "          Math.round((position / fileData.byteLength) * 100);\n",
              "      percent.textContent = `${percentDone}% done`;\n",
              "\n",
              "    } while (position < fileData.byteLength);\n",
              "  }\n",
              "\n",
              "  // All done.\n",
              "  yield {\n",
              "    response: {\n",
              "      action: 'complete',\n",
              "    }\n",
              "  };\n",
              "}\n",
              "\n",
              "scope.google = scope.google || {};\n",
              "scope.google.colab = scope.google.colab || {};\n",
              "scope.google.colab._files = {\n",
              "  _uploadFiles,\n",
              "  _uploadFilesContinue,\n",
              "};\n",
              "})(self);\n",
              "</script> "
            ]
          },
          "metadata": {}
        },
        {
          "output_type": "stream",
          "name": "stdout",
          "text": [
            "Saving power_issued_1.csv to power_issued_1.csv\n",
            "Saving power_issued_2.csv to power_issued_2.csv\n",
            "Saving power_issued_3.csv to power_issued_3.csv\n",
            "Saving power_issued_4.csv to power_issued_4.csv\n",
            "Saving power_issued_5.csv to power_issued_5.csv\n",
            "Saving power_issued_6.csv to power_issued_6.csv\n",
            "Saving power_issued_7.csv to power_issued_7.csv\n",
            "Saving power_issued_8.csv to power_issued_8.csv\n",
            "Saving power_issued_9.csv to power_issued_9.csv\n",
            "Saving power_issued_10.csv to power_issued_10.csv\n"
          ]
        }
      ]
    },
    {
      "cell_type": "markdown",
      "metadata": {
        "id": "x34rnyeskwOf"
      },
      "source": [
        "# Práctica 1 - Las leyes de la probabilidad"
      ]
    },
    {
      "cell_type": "markdown",
      "metadata": {
        "id": "96b9h40lk6WJ"
      },
      "source": [
        "## Ejercicio 1 - Las mamografías como prueba diagnóstica en tumores de mama\n",
        "\n",
        "### Prevalencia del cáncer de mama\n",
        "\n",
        "En el fichero de mammogram.csv se encuentran los resultados de una serie de mamografías hechas a un grupo de mujeres adultas de todas las edades. Estas mujeres se hicieron dos mamografías sucesivas y, algunas de ellas, fueron posteriormente diagnosticadas con lesiones malignas.\n",
        "\n",
        "Según los datos del estudio, ¿cuál es la probabilidad empírica de padecer una lesión maligna de mama?"
      ]
    },
    {
      "cell_type": "code",
      "metadata": {
        "id": "c9wCW94fkvjL",
        "colab": {
          "base_uri": "https://localhost:8080/",
          "height": 424
        },
        "outputId": "9921010a-a6bf-4cdb-8ad5-593d7e727826"
      },
      "source": [
        "path = io.BytesIO(uploaded['mammogram.csv'])\n",
        "df = pd.read_csv(path, sep=\",\")\n",
        "\n",
        "df"
      ],
      "execution_count": null,
      "outputs": [
        {
          "output_type": "execute_result",
          "data": {
            "text/plain": [
              "        Patient  hadCancer  mammoResult1  mammoResult2\n",
              "0             1          0             0             0\n",
              "1             2          0             0             1\n",
              "2             3          0             0             0\n",
              "3             4          1             1             1\n",
              "4             5          0             0             0\n",
              "...         ...        ...           ...           ...\n",
              "199995   199996          0             0             0\n",
              "199996   199997          1             1             1\n",
              "199997   199998          0             1             0\n",
              "199998   199999          0             0             0\n",
              "199999   200000          0             0             0\n",
              "\n",
              "[200000 rows x 4 columns]"
            ],
            "text/html": [
              "\n",
              "  <div id=\"df-93d18df0-ffca-4798-af11-40627c5f0a5d\">\n",
              "    <div class=\"colab-df-container\">\n",
              "      <div>\n",
              "<style scoped>\n",
              "    .dataframe tbody tr th:only-of-type {\n",
              "        vertical-align: middle;\n",
              "    }\n",
              "\n",
              "    .dataframe tbody tr th {\n",
              "        vertical-align: top;\n",
              "    }\n",
              "\n",
              "    .dataframe thead th {\n",
              "        text-align: right;\n",
              "    }\n",
              "</style>\n",
              "<table border=\"1\" class=\"dataframe\">\n",
              "  <thead>\n",
              "    <tr style=\"text-align: right;\">\n",
              "      <th></th>\n",
              "      <th>Patient</th>\n",
              "      <th>hadCancer</th>\n",
              "      <th>mammoResult1</th>\n",
              "      <th>mammoResult2</th>\n",
              "    </tr>\n",
              "  </thead>\n",
              "  <tbody>\n",
              "    <tr>\n",
              "      <th>0</th>\n",
              "      <td>1</td>\n",
              "      <td>0</td>\n",
              "      <td>0</td>\n",
              "      <td>0</td>\n",
              "    </tr>\n",
              "    <tr>\n",
              "      <th>1</th>\n",
              "      <td>2</td>\n",
              "      <td>0</td>\n",
              "      <td>0</td>\n",
              "      <td>1</td>\n",
              "    </tr>\n",
              "    <tr>\n",
              "      <th>2</th>\n",
              "      <td>3</td>\n",
              "      <td>0</td>\n",
              "      <td>0</td>\n",
              "      <td>0</td>\n",
              "    </tr>\n",
              "    <tr>\n",
              "      <th>3</th>\n",
              "      <td>4</td>\n",
              "      <td>1</td>\n",
              "      <td>1</td>\n",
              "      <td>1</td>\n",
              "    </tr>\n",
              "    <tr>\n",
              "      <th>4</th>\n",
              "      <td>5</td>\n",
              "      <td>0</td>\n",
              "      <td>0</td>\n",
              "      <td>0</td>\n",
              "    </tr>\n",
              "    <tr>\n",
              "      <th>...</th>\n",
              "      <td>...</td>\n",
              "      <td>...</td>\n",
              "      <td>...</td>\n",
              "      <td>...</td>\n",
              "    </tr>\n",
              "    <tr>\n",
              "      <th>199995</th>\n",
              "      <td>199996</td>\n",
              "      <td>0</td>\n",
              "      <td>0</td>\n",
              "      <td>0</td>\n",
              "    </tr>\n",
              "    <tr>\n",
              "      <th>199996</th>\n",
              "      <td>199997</td>\n",
              "      <td>1</td>\n",
              "      <td>1</td>\n",
              "      <td>1</td>\n",
              "    </tr>\n",
              "    <tr>\n",
              "      <th>199997</th>\n",
              "      <td>199998</td>\n",
              "      <td>0</td>\n",
              "      <td>1</td>\n",
              "      <td>0</td>\n",
              "    </tr>\n",
              "    <tr>\n",
              "      <th>199998</th>\n",
              "      <td>199999</td>\n",
              "      <td>0</td>\n",
              "      <td>0</td>\n",
              "      <td>0</td>\n",
              "    </tr>\n",
              "    <tr>\n",
              "      <th>199999</th>\n",
              "      <td>200000</td>\n",
              "      <td>0</td>\n",
              "      <td>0</td>\n",
              "      <td>0</td>\n",
              "    </tr>\n",
              "  </tbody>\n",
              "</table>\n",
              "<p>200000 rows × 4 columns</p>\n",
              "</div>\n",
              "      <button class=\"colab-df-convert\" onclick=\"convertToInteractive('df-93d18df0-ffca-4798-af11-40627c5f0a5d')\"\n",
              "              title=\"Convert this dataframe to an interactive table.\"\n",
              "              style=\"display:none;\">\n",
              "        \n",
              "  <svg xmlns=\"http://www.w3.org/2000/svg\" height=\"24px\"viewBox=\"0 0 24 24\"\n",
              "       width=\"24px\">\n",
              "    <path d=\"M0 0h24v24H0V0z\" fill=\"none\"/>\n",
              "    <path d=\"M18.56 5.44l.94 2.06.94-2.06 2.06-.94-2.06-.94-.94-2.06-.94 2.06-2.06.94zm-11 1L8.5 8.5l.94-2.06 2.06-.94-2.06-.94L8.5 2.5l-.94 2.06-2.06.94zm10 10l.94 2.06.94-2.06 2.06-.94-2.06-.94-.94-2.06-.94 2.06-2.06.94z\"/><path d=\"M17.41 7.96l-1.37-1.37c-.4-.4-.92-.59-1.43-.59-.52 0-1.04.2-1.43.59L10.3 9.45l-7.72 7.72c-.78.78-.78 2.05 0 2.83L4 21.41c.39.39.9.59 1.41.59.51 0 1.02-.2 1.41-.59l7.78-7.78 2.81-2.81c.8-.78.8-2.07 0-2.86zM5.41 20L4 18.59l7.72-7.72 1.47 1.35L5.41 20z\"/>\n",
              "  </svg>\n",
              "      </button>\n",
              "      \n",
              "  <style>\n",
              "    .colab-df-container {\n",
              "      display:flex;\n",
              "      flex-wrap:wrap;\n",
              "      gap: 12px;\n",
              "    }\n",
              "\n",
              "    .colab-df-convert {\n",
              "      background-color: #E8F0FE;\n",
              "      border: none;\n",
              "      border-radius: 50%;\n",
              "      cursor: pointer;\n",
              "      display: none;\n",
              "      fill: #1967D2;\n",
              "      height: 32px;\n",
              "      padding: 0 0 0 0;\n",
              "      width: 32px;\n",
              "    }\n",
              "\n",
              "    .colab-df-convert:hover {\n",
              "      background-color: #E2EBFA;\n",
              "      box-shadow: 0px 1px 2px rgba(60, 64, 67, 0.3), 0px 1px 3px 1px rgba(60, 64, 67, 0.15);\n",
              "      fill: #174EA6;\n",
              "    }\n",
              "\n",
              "    [theme=dark] .colab-df-convert {\n",
              "      background-color: #3B4455;\n",
              "      fill: #D2E3FC;\n",
              "    }\n",
              "\n",
              "    [theme=dark] .colab-df-convert:hover {\n",
              "      background-color: #434B5C;\n",
              "      box-shadow: 0px 1px 3px 1px rgba(0, 0, 0, 0.15);\n",
              "      filter: drop-shadow(0px 1px 2px rgba(0, 0, 0, 0.3));\n",
              "      fill: #FFFFFF;\n",
              "    }\n",
              "  </style>\n",
              "\n",
              "      <script>\n",
              "        const buttonEl =\n",
              "          document.querySelector('#df-93d18df0-ffca-4798-af11-40627c5f0a5d button.colab-df-convert');\n",
              "        buttonEl.style.display =\n",
              "          google.colab.kernel.accessAllowed ? 'block' : 'none';\n",
              "\n",
              "        async function convertToInteractive(key) {\n",
              "          const element = document.querySelector('#df-93d18df0-ffca-4798-af11-40627c5f0a5d');\n",
              "          const dataTable =\n",
              "            await google.colab.kernel.invokeFunction('convertToInteractive',\n",
              "                                                     [key], {});\n",
              "          if (!dataTable) return;\n",
              "\n",
              "          const docLinkHtml = 'Like what you see? Visit the ' +\n",
              "            '<a target=\"_blank\" href=https://colab.research.google.com/notebooks/data_table.ipynb>data table notebook</a>'\n",
              "            + ' to learn more about interactive tables.';\n",
              "          element.innerHTML = '';\n",
              "          dataTable['output_type'] = 'display_data';\n",
              "          await google.colab.output.renderOutput(dataTable, element);\n",
              "          const docLink = document.createElement('div');\n",
              "          docLink.innerHTML = docLinkHtml;\n",
              "          element.appendChild(docLink);\n",
              "        }\n",
              "      </script>\n",
              "    </div>\n",
              "  </div>\n",
              "  "
            ]
          },
          "metadata": {},
          "execution_count": 4
        }
      ]
    },
    {
      "cell_type": "markdown",
      "metadata": {
        "id": "YJeJuAVQp80z"
      },
      "source": [
        "La probabilidad empírica de padecer un tumor, también llamada **prevalencia**, es el número de casos positivos dividido por el total de sujetos o, lo que es lo mismo, la media de la columna `hadCancer`:"
      ]
    },
    {
      "cell_type": "code",
      "metadata": {
        "id": "ZPpHpzLFqQ3e",
        "colab": {
          "base_uri": "https://localhost:8080/"
        },
        "outputId": "367581ba-72b5-4ad4-a9df-46d6a97a12d9"
      },
      "source": [
        "df.hadCancer.mean()"
      ],
      "execution_count": null,
      "outputs": [
        {
          "output_type": "execute_result",
          "data": {
            "text/plain": [
              "0.123645"
            ]
          },
          "metadata": {},
          "execution_count": 5
        }
      ]
    },
    {
      "cell_type": "markdown",
      "metadata": {
        "id": "ekJ92_gXqqaU"
      },
      "source": [
        "### Falsos positivos y falsos negativos\n",
        "\n",
        "Supongamos que una primera prueba, la mamografía da positivo para una lesión potencialmente maligna. ¿Cuál es la probabilidad de acabar siendo diagnosticada de cáncer de mama? ¿Y si la prueba incial da negativo?"
      ]
    },
    {
      "cell_type": "markdown",
      "metadata": {
        "id": "72bdj0Q1rEov"
      },
      "source": [
        "Las probabilidades de ser diagnosticada con cáncer en cada caso resultarán de restringir el data set a las condiciones correspondientes y calcular la media de `hadCancer`:"
      ]
    },
    {
      "cell_type": "code",
      "metadata": {
        "id": "uSWZDvr7rDYw",
        "colab": {
          "base_uri": "https://localhost:8080/"
        },
        "outputId": "6e476ede-90de-4d16-e277-9f9e2a5fdb26"
      },
      "source": [
        "df[df.mammoResult1==1].hadCancer.mean()"
      ],
      "execution_count": null,
      "outputs": [
        {
          "output_type": "execute_result",
          "data": {
            "text/plain": [
              "0.5649815237046938"
            ]
          },
          "metadata": {},
          "execution_count": 6
        }
      ]
    },
    {
      "cell_type": "code",
      "metadata": {
        "id": "461lLfqurbLX",
        "colab": {
          "base_uri": "https://localhost:8080/"
        },
        "outputId": "061ab912-7fbc-48af-fa4f-e612c4a383b3"
      },
      "source": [
        "df[df.mammoResult1==0].hadCancer.mean()"
      ],
      "execution_count": null,
      "outputs": [
        {
          "output_type": "execute_result",
          "data": {
            "text/plain": [
              "0.019593062412337884"
            ]
          },
          "metadata": {},
          "execution_count": 7
        }
      ]
    },
    {
      "cell_type": "markdown",
      "metadata": {
        "id": "U745a3lkrgrD"
      },
      "source": [
        "Fijémenos que esto es lo mismo que calcular probabilidades condiciondas:"
      ]
    },
    {
      "cell_type": "code",
      "metadata": {
        "id": "K8ol1oNjrk3U"
      },
      "source": [
        "p_cancer = df.hadCancer.mean() \n",
        "#This line calculates the probability of having cancer in the entire population using the mean of the \"hadCancer\" column in the dataframe.\n",
        "p_test_positive = df.mammoResult1.mean()\n",
        "#This line calculates the probability of getting a positive result on the mammogram test using the mean of the \"mammoResult1\" column in the dataframe.\n",
        "p_cancer_and_test_positive = df[(df.mammoResult1==1) & (df.hadCancer==1)].hadCancer.count() / len(df)\n",
        "#his line calculates the probability of having cancer and getting a positive test result by counting the number of rows where both \"mammoResult1\" and \"hadCancer\" are equal to 1,\n",
        "#and dividing by the total number of rows in the dataframe.\n",
        "\n",
        "p_cancer_if_test_positive = p_cancer_and_test_positive / p_test_positive\n",
        "#This is the final line of code, where it is using Bayes' theorem to calculate the probability of having cancer given a positive test result \n",
        "#by dividing the probability of both cancer and a positive test (p_cancer_and_test_positive) by the probability of a positive test (p_test_positive).\n"
      ],
      "execution_count": null,
      "outputs": []
    },
    {
      "cell_type": "code",
      "metadata": {
        "id": "X5kP7lN7sL1b",
        "colab": {
          "base_uri": "https://localhost:8080/"
        },
        "outputId": "282cc8f2-a621-4c11-ee25-dc71ad60e2bd"
      },
      "source": [
        "print(p_cancer_if_test_positive)\n",
        "print(df[df.mammoResult1==1].hadCancer.mean())"
      ],
      "execution_count": null,
      "outputs": [
        {
          "output_type": "stream",
          "name": "stdout",
          "text": [
            "0.5649815237046937\n",
            "0.5649815237046938\n"
          ]
        }
      ]
    },
    {
      "cell_type": "markdown",
      "metadata": {
        "id": "jbU44K69sp1x"
      },
      "source": [
        "Podemos aprovechar los cálculos para calcular la probabilidad de obtener una prueba positiva si se padece cáncer:"
      ]
    },
    {
      "cell_type": "code",
      "metadata": {
        "id": "yeGDbfUdsxVe",
        "colab": {
          "base_uri": "https://localhost:8080/"
        },
        "outputId": "99017614-2364-4275-e911-5d36ead95ea5"
      },
      "source": [
        "p_positive_if_cancer = p_cancer_and_test_positive / p_cancer\n",
        "print(p_positive_if_cancer)"
      ],
      "execution_count": null,
      "outputs": [
        {
          "output_type": "stream",
          "name": "stdout",
          "text": [
            "0.8717699866553439\n"
          ]
        }
      ]
    },
    {
      "cell_type": "markdown",
      "metadata": {
        "id": "JFsH29KMs8xL"
      },
      "source": [
        "Y también podemos comprobar que se obtiene el mismo resultado utilizando de **Fórmula de Bayes** de inversión de las condiciones:"
      ]
    },
    {
      "cell_type": "code",
      "metadata": {
        "id": "I4cBVzc_tGNS",
        "colab": {
          "base_uri": "https://localhost:8080/"
        },
        "outputId": "b5388be6-0530-4d52-cca0-41dccb31b3c5"
      },
      "source": [
        "p_positive_if_cancer_bayes = (p_test_positive / p_cancer) * p_cancer_if_test_positive\n",
        "#It is similar to the previous calculation, but using the probabilities of p(cancer|positive) and p(positive) instead of the previous ones.\n",
        "\n",
        "print(p_positive_if_cancer)\n",
        "print(p_positive_if_cancer_bayes)"
      ],
      "execution_count": null,
      "outputs": [
        {
          "output_type": "stream",
          "name": "stdout",
          "text": [
            "0.8717699866553439\n",
            "0.8717699866553438\n"
          ]
        }
      ]
    },
    {
      "cell_type": "markdown",
      "metadata": {
        "id": "_E85ULjIti7E"
      },
      "source": [
        "### El sentido de una prueba que no implica diagnóstico\n",
        "\n",
        "De estos resultados, se observa que la probabilidad de padecer una lesión maligna en presencia de una mamografía positiva es aproximadamente del 56.5%, lo cual no parece gran cosa.\n",
        "\n",
        "Calcula la probabilidad de padecer cáncer si: \n",
        "* Salen dos positivos.\n",
        "* Salen dos negativos.\n",
        "* Sale al menos un negativo.\n",
        "\n",
        "Con los resultados en la mano, razona finalmente cuál es la utilidad de la mamografía como prueba diagnóstica."
      ]
    },
    {
      "cell_type": "markdown",
      "metadata": {
        "id": "g4BAMyaUuZmg"
      },
      "source": [
        "Utilicemos directamente las funcionalidades de `pandas` para calcular las probabilidades que nos interesan. Los dos primeros cálculos son directos:"
      ]
    },
    {
      "cell_type": "code",
      "metadata": {
        "id": "4isJPGJ4ulqQ",
        "colab": {
          "base_uri": "https://localhost:8080/"
        },
        "outputId": "82a1d891-4a7d-4295-f795-ed4393099c4e"
      },
      "source": [
        "print(df[(df.mammoResult1==1)&(df.mammoResult2==1)].hadCancer.mean())\n",
        "\n",
        "print(df[(df.mammoResult1==0)&(df.mammoResult2==0)].hadCancer.mean())"
      ],
      "execution_count": null,
      "outputs": [
        {
          "output_type": "stream",
          "name": "stdout",
          "text": [
            "0.9235079171741778\n",
            "0.0025994425794254815\n"
          ]
        }
      ]
    },
    {
      "cell_type": "code",
      "source": [
        "p_cancer_given_two_positives = df[(df.mammoResult1 == 1) & (df.mammoResult2 == 1) & (df.hadCancer == 1)].hadCancer.count() / df[(df.mammoResult1 == 1) & (df.mammoResult2 == 1)].hadCancer.count()\n",
        "print(p_cancer_given_two_positives)"
      ],
      "metadata": {
        "colab": {
          "base_uri": "https://localhost:8080/"
        },
        "id": "Wyh0lUegdFBC",
        "outputId": "fb8a882b-5fe7-4ed6-9884-52e72176d6d4"
      },
      "execution_count": null,
      "outputs": [
        {
          "output_type": "stream",
          "name": "stdout",
          "text": [
            "0.9235079171741778\n"
          ]
        }
      ]
    },
    {
      "cell_type": "markdown",
      "source": [
        "This code uses the dataframe (df) to find the number of rows where both \"mammoResult1\" and \"mammoResult2\" are equal to 1, and \"hadCancer\" is also equal to 1, and then divides that number by the total number of rows where both \"mammoResult1\" and \"mammoResult2\" are equal to 1. This gives you the probability of having cancer given that two tests came back positive.\n"
      ],
      "metadata": {
        "id": "_JmmzbWidp4D"
      }
    },
    {
      "cell_type": "markdown",
      "metadata": {
        "id": "nVBSPWyOvIxq"
      },
      "source": [
        "El tercer cálculo es la probabilidad de una unión, lo cual implica también calcular la probabilidad de la intersección:"
      ]
    },
    {
      "cell_type": "code",
      "metadata": {
        "id": "dl_FPEUAvXMk",
        "colab": {
          "base_uri": "https://localhost:8080/"
        },
        "outputId": "acd2cb6e-8f6a-4a33-d327-925d2ed4f858"
      },
      "source": [
        "p_test1_positive = df.mammoResult1.mean()\n",
        "p_test2_positive = df.mammoResult2.mean()\n",
        "p_both_positive = df[(df.mammoResult1==1) & (df.mammoResult2==1)].Patient.count() / len(df)\n",
        "\n",
        "print(p_test1_positive + p_test2_positive - p_both_positive)"
      ],
      "execution_count": null,
      "outputs": [
        {
          "output_type": "stream",
          "name": "stdout",
          "text": [
            "0.28061500000000006\n"
          ]
        }
      ]
    },
    {
      "cell_type": "code",
      "source": [
        "p_cancer_given_one_negative = df[((df.mammoResult1 == 0) | (df.mammoResult2 == 0)) & (df.hadCancer == 1)].hadCancer.count() / df[(df.mammoResult1 == 0) | (df.mammoResult2 == 0)].hadCancer.count()\n",
        "print(p_cancer_given_one_negative)"
      ],
      "metadata": {
        "colab": {
          "base_uri": "https://localhost:8080/"
        },
        "id": "4pLcTPfseAuI",
        "outputId": "fe2acc03-2985-4361-879d-995b544414a2"
      },
      "execution_count": null,
      "outputs": [
        {
          "output_type": "stream",
          "name": "stdout",
          "text": [
            "0.03217161164507592\n"
          ]
        }
      ]
    },
    {
      "cell_type": "markdown",
      "metadata": {
        "id": "5ThXN43Ov8eE"
      },
      "source": [
        "Nos podemos ahorrar el uso de la fórmula de la probabilidad de la unión creando una columna auxiliar que nos diga si, por lo menos, una de las pruebas ha dado positivo:"
      ]
    },
    {
      "cell_type": "code",
      "metadata": {
        "id": "P6sU_8xzwLfS",
        "colab": {
          "base_uri": "https://localhost:8080/",
          "height": 424
        },
        "outputId": "0b30c22e-940a-4ec7-84ee-11178df9ee31"
      },
      "source": [
        "df[\"one_test_positive\"] = (df.mammoResult1 + df.mammoResult2 > 0) * 1\n",
        "df"
      ],
      "execution_count": null,
      "outputs": [
        {
          "output_type": "execute_result",
          "data": {
            "text/plain": [
              "        Patient  hadCancer  mammoResult1  mammoResult2  one_test_positive\n",
              "0             1          0             0             0                  0\n",
              "1             2          0             0             1                  1\n",
              "2             3          0             0             0                  0\n",
              "3             4          1             1             1                  1\n",
              "4             5          0             0             0                  0\n",
              "...         ...        ...           ...           ...                ...\n",
              "199995   199996          0             0             0                  0\n",
              "199996   199997          1             1             1                  1\n",
              "199997   199998          0             1             0                  1\n",
              "199998   199999          0             0             0                  0\n",
              "199999   200000          0             0             0                  0\n",
              "\n",
              "[200000 rows x 5 columns]"
            ],
            "text/html": [
              "\n",
              "  <div id=\"df-62f1a695-ee85-4500-9ff4-3f90cb92ab4f\">\n",
              "    <div class=\"colab-df-container\">\n",
              "      <div>\n",
              "<style scoped>\n",
              "    .dataframe tbody tr th:only-of-type {\n",
              "        vertical-align: middle;\n",
              "    }\n",
              "\n",
              "    .dataframe tbody tr th {\n",
              "        vertical-align: top;\n",
              "    }\n",
              "\n",
              "    .dataframe thead th {\n",
              "        text-align: right;\n",
              "    }\n",
              "</style>\n",
              "<table border=\"1\" class=\"dataframe\">\n",
              "  <thead>\n",
              "    <tr style=\"text-align: right;\">\n",
              "      <th></th>\n",
              "      <th>Patient</th>\n",
              "      <th>hadCancer</th>\n",
              "      <th>mammoResult1</th>\n",
              "      <th>mammoResult2</th>\n",
              "      <th>one_test_positive</th>\n",
              "    </tr>\n",
              "  </thead>\n",
              "  <tbody>\n",
              "    <tr>\n",
              "      <th>0</th>\n",
              "      <td>1</td>\n",
              "      <td>0</td>\n",
              "      <td>0</td>\n",
              "      <td>0</td>\n",
              "      <td>0</td>\n",
              "    </tr>\n",
              "    <tr>\n",
              "      <th>1</th>\n",
              "      <td>2</td>\n",
              "      <td>0</td>\n",
              "      <td>0</td>\n",
              "      <td>1</td>\n",
              "      <td>1</td>\n",
              "    </tr>\n",
              "    <tr>\n",
              "      <th>2</th>\n",
              "      <td>3</td>\n",
              "      <td>0</td>\n",
              "      <td>0</td>\n",
              "      <td>0</td>\n",
              "      <td>0</td>\n",
              "    </tr>\n",
              "    <tr>\n",
              "      <th>3</th>\n",
              "      <td>4</td>\n",
              "      <td>1</td>\n",
              "      <td>1</td>\n",
              "      <td>1</td>\n",
              "      <td>1</td>\n",
              "    </tr>\n",
              "    <tr>\n",
              "      <th>4</th>\n",
              "      <td>5</td>\n",
              "      <td>0</td>\n",
              "      <td>0</td>\n",
              "      <td>0</td>\n",
              "      <td>0</td>\n",
              "    </tr>\n",
              "    <tr>\n",
              "      <th>...</th>\n",
              "      <td>...</td>\n",
              "      <td>...</td>\n",
              "      <td>...</td>\n",
              "      <td>...</td>\n",
              "      <td>...</td>\n",
              "    </tr>\n",
              "    <tr>\n",
              "      <th>199995</th>\n",
              "      <td>199996</td>\n",
              "      <td>0</td>\n",
              "      <td>0</td>\n",
              "      <td>0</td>\n",
              "      <td>0</td>\n",
              "    </tr>\n",
              "    <tr>\n",
              "      <th>199996</th>\n",
              "      <td>199997</td>\n",
              "      <td>1</td>\n",
              "      <td>1</td>\n",
              "      <td>1</td>\n",
              "      <td>1</td>\n",
              "    </tr>\n",
              "    <tr>\n",
              "      <th>199997</th>\n",
              "      <td>199998</td>\n",
              "      <td>0</td>\n",
              "      <td>1</td>\n",
              "      <td>0</td>\n",
              "      <td>1</td>\n",
              "    </tr>\n",
              "    <tr>\n",
              "      <th>199998</th>\n",
              "      <td>199999</td>\n",
              "      <td>0</td>\n",
              "      <td>0</td>\n",
              "      <td>0</td>\n",
              "      <td>0</td>\n",
              "    </tr>\n",
              "    <tr>\n",
              "      <th>199999</th>\n",
              "      <td>200000</td>\n",
              "      <td>0</td>\n",
              "      <td>0</td>\n",
              "      <td>0</td>\n",
              "      <td>0</td>\n",
              "    </tr>\n",
              "  </tbody>\n",
              "</table>\n",
              "<p>200000 rows × 5 columns</p>\n",
              "</div>\n",
              "      <button class=\"colab-df-convert\" onclick=\"convertToInteractive('df-62f1a695-ee85-4500-9ff4-3f90cb92ab4f')\"\n",
              "              title=\"Convert this dataframe to an interactive table.\"\n",
              "              style=\"display:none;\">\n",
              "        \n",
              "  <svg xmlns=\"http://www.w3.org/2000/svg\" height=\"24px\"viewBox=\"0 0 24 24\"\n",
              "       width=\"24px\">\n",
              "    <path d=\"M0 0h24v24H0V0z\" fill=\"none\"/>\n",
              "    <path d=\"M18.56 5.44l.94 2.06.94-2.06 2.06-.94-2.06-.94-.94-2.06-.94 2.06-2.06.94zm-11 1L8.5 8.5l.94-2.06 2.06-.94-2.06-.94L8.5 2.5l-.94 2.06-2.06.94zm10 10l.94 2.06.94-2.06 2.06-.94-2.06-.94-.94-2.06-.94 2.06-2.06.94z\"/><path d=\"M17.41 7.96l-1.37-1.37c-.4-.4-.92-.59-1.43-.59-.52 0-1.04.2-1.43.59L10.3 9.45l-7.72 7.72c-.78.78-.78 2.05 0 2.83L4 21.41c.39.39.9.59 1.41.59.51 0 1.02-.2 1.41-.59l7.78-7.78 2.81-2.81c.8-.78.8-2.07 0-2.86zM5.41 20L4 18.59l7.72-7.72 1.47 1.35L5.41 20z\"/>\n",
              "  </svg>\n",
              "      </button>\n",
              "      \n",
              "  <style>\n",
              "    .colab-df-container {\n",
              "      display:flex;\n",
              "      flex-wrap:wrap;\n",
              "      gap: 12px;\n",
              "    }\n",
              "\n",
              "    .colab-df-convert {\n",
              "      background-color: #E8F0FE;\n",
              "      border: none;\n",
              "      border-radius: 50%;\n",
              "      cursor: pointer;\n",
              "      display: none;\n",
              "      fill: #1967D2;\n",
              "      height: 32px;\n",
              "      padding: 0 0 0 0;\n",
              "      width: 32px;\n",
              "    }\n",
              "\n",
              "    .colab-df-convert:hover {\n",
              "      background-color: #E2EBFA;\n",
              "      box-shadow: 0px 1px 2px rgba(60, 64, 67, 0.3), 0px 1px 3px 1px rgba(60, 64, 67, 0.15);\n",
              "      fill: #174EA6;\n",
              "    }\n",
              "\n",
              "    [theme=dark] .colab-df-convert {\n",
              "      background-color: #3B4455;\n",
              "      fill: #D2E3FC;\n",
              "    }\n",
              "\n",
              "    [theme=dark] .colab-df-convert:hover {\n",
              "      background-color: #434B5C;\n",
              "      box-shadow: 0px 1px 3px 1px rgba(0, 0, 0, 0.15);\n",
              "      filter: drop-shadow(0px 1px 2px rgba(0, 0, 0, 0.3));\n",
              "      fill: #FFFFFF;\n",
              "    }\n",
              "  </style>\n",
              "\n",
              "      <script>\n",
              "        const buttonEl =\n",
              "          document.querySelector('#df-62f1a695-ee85-4500-9ff4-3f90cb92ab4f button.colab-df-convert');\n",
              "        buttonEl.style.display =\n",
              "          google.colab.kernel.accessAllowed ? 'block' : 'none';\n",
              "\n",
              "        async function convertToInteractive(key) {\n",
              "          const element = document.querySelector('#df-62f1a695-ee85-4500-9ff4-3f90cb92ab4f');\n",
              "          const dataTable =\n",
              "            await google.colab.kernel.invokeFunction('convertToInteractive',\n",
              "                                                     [key], {});\n",
              "          if (!dataTable) return;\n",
              "\n",
              "          const docLinkHtml = 'Like what you see? Visit the ' +\n",
              "            '<a target=\"_blank\" href=https://colab.research.google.com/notebooks/data_table.ipynb>data table notebook</a>'\n",
              "            + ' to learn more about interactive tables.';\n",
              "          element.innerHTML = '';\n",
              "          dataTable['output_type'] = 'display_data';\n",
              "          await google.colab.output.renderOutput(dataTable, element);\n",
              "          const docLink = document.createElement('div');\n",
              "          docLink.innerHTML = docLinkHtml;\n",
              "          element.appendChild(docLink);\n",
              "        }\n",
              "      </script>\n",
              "    </div>\n",
              "  </div>\n",
              "  "
            ]
          },
          "metadata": {},
          "execution_count": 12
        }
      ]
    },
    {
      "cell_type": "code",
      "source": [
        "p_cancer_given_one_positive = df[((df.mammoResult1 == 1) | (df.mammoResult2 == 1)) & (df.hadCancer == 1)].hadCancer.count() / df[(df.mammoResult1 == 1) | (df.mammoResult2 == 1)].hadCancer.count()\n",
        "print(p_cancer_given_one_positive)"
      ],
      "metadata": {
        "colab": {
          "base_uri": "https://localhost:8080/"
        },
        "id": "GoZ8nm7NfAQJ",
        "outputId": "07ce11d4-2fed-4dc3-b8dc-7a81f37585fd"
      },
      "execution_count": null,
      "outputs": [
        {
          "output_type": "stream",
          "name": "stdout",
          "text": [
            "0.4339575575076172\n"
          ]
        }
      ]
    },
    {
      "cell_type": "markdown",
      "metadata": {
        "id": "hIpajzFJwagB"
      },
      "source": [
        "La media de esta nueva columna es la probabilidad de obtener al menos un test positivo:"
      ]
    },
    {
      "cell_type": "code",
      "metadata": {
        "id": "MYs9XaUMwfUp",
        "colab": {
          "base_uri": "https://localhost:8080/",
          "height": 34
        },
        "outputId": "2d1797b2-dc3c-4b92-dc3b-77c3e1de424b"
      },
      "source": [
        "df.one_test_positive.mean()"
      ],
      "execution_count": null,
      "outputs": [
        {
          "output_type": "execute_result",
          "data": {
            "text/plain": [
              "0.280615"
            ]
          },
          "metadata": {
            "tags": []
          },
          "execution_count": 24
        }
      ]
    },
    {
      "cell_type": "markdown",
      "metadata": {
        "id": "KmuWQ0vowlxy"
      },
      "source": [
        "What we observe is that, in a series of two tests, the probability of suffering a malignant lesion if at least one of them is positive is 28%, while if both are negative, the probability drops to 0.26%. . On the other hand, it takes two positives to have a probability greater than 90%, and even then this would not provide us with a definitive diagnosis.\n",
        "\n",
        "Generally, only one test is carried out per session, but we have seen that the probability of having a malignant lesion if a single result is negative is only 1.96%. That is, only 2 out of 100 tests are a false negative. This means that mammography is not a diagnostic test but rather a rule-out test (the diagnostic test being a biopsy of breast tissue). Its usefulness lies in screening, which on the one hand saves costs for the health system, since it is cheaper to obtain a negative result in a mammogram than in a biopsy, and also saves the patient an invasive test that requires at least outpatient hospitalization. cases where it may not be necessary."
      ]
    },
    {
      "cell_type": "markdown",
      "metadata": {
        "id": "CE6qeVtUyFzL"
      },
      "source": [
        "## Ejercicio 2 - Descriptores estadísticos con datos masivos\n",
        "\n",
        "`pandas` is very useful and efficient for calculating means, medians, variances, etc. but its effectiveness depends to a large extent on the ability we have to store our data set in memory. Such a thing is often not possible in Big Data environments and other, more refined strategies are therefore required to calculate these descriptors."
      ]
    },
    {
      "cell_type": "markdown",
      "metadata": {
        "id": "tUg0Esl6yw6x"
      },
      "source": [
        "### La media por batches\n",
        "Supongamos, por ejemplo, que tenemos una larga serie temporal de datos, por ejemplo la potencia suministrada por una central eléctrica, medida en Watts, con una lectura por nanosegundo (ns) a lo largo de tres meses.\n",
        "\n",
        "En un día hay $86400\\ \\mathrm{s}$, y en un segundo hay $1000000\\ \\mathrm{ns}$, luego en un día disponemos de $8.64 \\cdot 10^{10}$ lecturas. Como se trata de potencia, estas lecturas están guardadas en floats de $32\\ \\mathrm{bits}$, con lo cual la serie entera ocupa, por lo menos, $2.7648 \\cdot 10^{12}\\ \\mathrm{bits}$, esto es, $3.456 \\cdot 10^{11}\\ \\mathrm{bytes}$ o, lo que es lo mismo, casi $346\\ \\mathrm{Gb}$ de memoria RAM solo para guardar las lecturas de un día.\n",
        "\n",
        "Difícilmente dispondremos de una máquina con más de 16 Gb de memoria RAM (las hay hasta de 128 Gb, por precios superiores a los 5,000 euros), así que no nos quedará más remedio que ir leyendo los datos en batches e ir acumulando los resultados para obtener el cálculo final."
      ]
    },
    {
      "cell_type": "markdown",
      "metadata": {
        "id": "OAWx3qcx1aFQ"
      },
      "source": [
        "Aquí no disponemos de un data set semejante, pero vamos a simular la situación con una colección de ficheros `.csv` que, aunque caben en memoria y no abarcan tres meses, leeremos secuncialmente.\n",
        "\n",
        "Escribe una rutina que lea secuencialmente los ficheros `power_issued_XX.csv` con las lecturas de potencia de señal y que dé como resultado final la media de toda la serie."
      ]
    },
    {
      "cell_type": "code",
      "metadata": {
        "id": "JO119cn113p0",
        "colab": {
          "base_uri": "https://localhost:8080/"
        },
        "outputId": "64ac73e5-7245-4f62-d101-e5ce35b16335"
      },
      "source": [
        "file_list = [io.BytesIO(uploaded[f'power_issued_{k + 1}.csv']) for k in np.arange(10)]\n",
        "\n",
        "# Initialize variables to store the sum and count of readings\n",
        "cumsum = 0\n",
        "length = 0\n",
        "\n",
        "# Loop through all the files in the current directory\n",
        "for filename in file_list:\n",
        "\n",
        "  df = pd.read_csv(filename, sep=\",\")\n",
        "\n",
        " # Add the sum of the \"power\" column to the total power\n",
        "  cumsum += df.power.sum()\n",
        " # Add the number of rows to the count\n",
        "  length += df.power.count()\n",
        "\n",
        "# Calculate the final mean by dividing the total power by the count\n",
        "mean_df = cumsum / length\n",
        "\n",
        "print(mean_df)"
      ],
      "execution_count": null,
      "outputs": [
        {
          "output_type": "stream",
          "name": "stdout",
          "text": [
            "1244474.6727138932\n"
          ]
        }
      ]
    },
    {
      "cell_type": "markdown",
      "metadata": {
        "id": "wUR5iLfE4QEr"
      },
      "source": [
        "### La varianza\n",
        "Utiliza la misma idea para calcular la varianza empírica. Da también una estimación insesgada de la varianza poblacional."
      ]
    },
    {
      "cell_type": "markdown",
      "metadata": {
        "id": "t5bQi3h_4bCY"
      },
      "source": [
        "La varianza tiene la única salvedad de tener que calcular la varianza insesgada, pero no es mayor problema:\n",
        "\n",
        "(The variance has the only caveat of having to calculate the unbiased variance, but it is not a major problem:)"
      ]
    },
    {
      "cell_type": "code",
      "metadata": {
        "id": "xJcCvNEj4iES",
        "colab": {
          "base_uri": "https://localhost:8080/",
          "height": 34
        },
        "outputId": "d4bf8828-86fe-4e4d-ad3b-98e5fc68ec2f"
      },
      "source": [
        "file_list = [io.BytesIO(uploaded[f'power_issued_{k + 1}.csv']) for k in np.arange(10)]\n",
        "\n",
        "#  Initialize variable to store the sum of the squared deviations\n",
        "cum_sq_sum = 0\n",
        "\n",
        "for filename in file_list:\n",
        "\n",
        "  df = pd.read_csv(filename, sep=\",\")\n",
        "  # Iterate over the readings in the current file\n",
        "  cum_sq_sum += ((mean_df - df.power)**2).sum()\n",
        "\n",
        "var_df = np.sqrt(cum_sq_sum / length)\n",
        "\n",
        "# Calculate the empirical variance (unbiased)\n",
        "unbiased_var = var_df * ((length - 1) / length)\n",
        "\n",
        "print(var_df, unbiased_var)"
      ],
      "execution_count": null,
      "outputs": [
        {
          "output_type": "stream",
          "text": [
            "618357.200733084 618356.4850418795\n"
          ],
          "name": "stdout"
        }
      ]
    },
    {
      "cell_type": "markdown",
      "metadata": {
        "id": "tXN0Kc7yukTG"
      },
      "source": [
        "# Ejercicio 3 - Probabilidades contínuas\n",
        "La variable `power` puede pensarse como un muestreo de una variable aleatoria absolutamente contínua. Llamemos $X$ a la variable aleatoria que genera dichos datos. Continuando con la metodología aplicada en los apartados anteriores, calcula:\n",
        "* $P(X \\leq 2.5)$\n",
        "* $P(1 \\leq X \\leq 3)$\n",
        "* $P(X \\geq 2.8)$\n",
        "* $P(X \\leq 2.5 | 1 \\leq X \\leq 3)$\n",
        "\n",
        "Nota: aquí las cantidades están expresadas en megavatios (MW). 1 megavatio = 1 millón de vatios."
      ]
    },
    {
      "cell_type": "code",
      "metadata": {
        "id": "3hzHHAGpkL21",
        "colab": {
          "base_uri": "https://localhost:8080/",
          "height": 87
        },
        "outputId": "bf8fa96b-175f-467a-ca86-64c6134e0bb5"
      },
      "source": [
        "file_list = [io.BytesIO(uploaded[f'power_issued_{k + 1}.csv']) for k in np.arange(10)]\n",
        "\n",
        "positive_cases = 0\n",
        "total_length = 0\n",
        "for filename in file_list:\n",
        "\n",
        "  df = pd.read_csv(filename, sep=\",\")\n",
        "\n",
        "  positive_cases += len(df[df.power <= 1.25e06])\n",
        "  total_length += len(df)\n",
        "\n",
        "prob = positive_cases / total_length\n",
        "\n",
        "#\"positive_cases\" counts the number of rows where the condition \"power <= 1.25e06\" is true.\n",
        "#\"total_length\" counts the total number of rows in the dataframe.\n",
        "#\"prob\" is calculated as the ratio of \"positive_cases\" to \"total_length\", giving the probability of the condition being true.\n",
        "\n",
        "\n",
        "print(\"x <= 1.25\", prob)\n",
        "\n",
        "file_list = [io.BytesIO(uploaded[f'power_issued_{k + 1}.csv']) for k in np.arange(10)]\n",
        "\n",
        "positive_cases = 0\n",
        "total_length = 0\n",
        "for filename in file_list:\n",
        "\n",
        "  df = pd.read_csv(filename, sep=\",\")\n",
        "\n",
        "  positive_cases += len(df[(df.power >= 1e06)&(df.power <= 3e06)])\n",
        "  total_length += len(df)\n",
        "\n",
        "prob = positive_cases / total_length\n",
        "\n",
        "print(\"1 <= x <= 3\", prob)\n",
        "\n",
        "file_list = [io.BytesIO(uploaded[f'power_issued_{k + 1}.csv']) for k in np.arange(10)]\n",
        "\n",
        "positive_cases = 0\n",
        "total_length = 0\n",
        "for filename in file_list:\n",
        "\n",
        "  df = pd.read_csv(filename, sep=\",\")\n",
        "\n",
        "  positive_cases += len(df[df.power >= 2.8e06])\n",
        "  total_length += len(df)\n",
        "\n",
        "prob = positive_cases / total_length\n",
        "\n",
        "print(\"x >= 2.8\", prob)\n",
        "\n",
        "file_list = [io.BytesIO(uploaded[f'power_issued_{k + 1}.csv']) for k in np.arange(10)]\n",
        "\n",
        "positive_cases = 0\n",
        "total_length = 0\n",
        "for filename in file_list:\n",
        "\n",
        "  df = pd.read_csv(filename, sep=\",\")\n",
        "\n",
        "  df = df[(df.power >= 1e06)&(df.power <= 3e06)]\n",
        "\n",
        "  positive_cases += len(df[df.power <= 1.25e06])\n",
        "  total_length += len(df)\n",
        "\n",
        "prob = positive_cases / total_length\n",
        "\n",
        "#The dataframe is filtered to only include rows where the condition \"1e06 <= power <= 3e06\" is true.\n",
        "#\"positive_cases\" counts the number of rows where the condition \"power <= 1.25e06\" is true in the filtered dataframe.\n",
        "#\"total_length\" counts the total number of rows in the filtered dataframe.\n",
        "#\"prob\" is calculated as the ratio of \"positive_cases\" to \"total_length\", giving the probability of the condition being true, given that \"1e06 <= power <= 3e06\" is true.\n",
        "\n",
        "print(\"x <= 1.25 condicionada a 1 <= x <= 3\", prob)"
      ],
      "execution_count": null,
      "outputs": [
        {
          "output_type": "stream",
          "text": [
            "x <= 1.25 0.44285416666666666\n",
            "1 <= x <= 3 0.6717418981481481\n",
            "x >= 2.8 5.3240740740740744e-05\n",
            "x <= 1.25 condicionada a 1 <= x <= 3 0.17059882664093662\n"
          ],
          "name": "stdout"
        }
      ]
    },
    {
      "cell_type": "markdown",
      "metadata": {
        "id": "o1rZ_QSItRjS"
      },
      "source": [
        "# Problema - ¿Quién ganará las elecciones?\n",
        "\n",
        "Tres partidos se presentan a las elecciones presidenciales de un cierto país. Para conocer el estado de opinión de la población y las expectitivas de cada uno, el gobierno encarga una encuesta electoral a una empresa de sociométrica justo antes de la campaña electoral. También pretenden usar el estudio para conocer quién hace mejor campaña electoral.\n",
        "\n",
        "Carga el fichero `elections.csv` con los resultados de la encuesta. Trataremos de responder a las dos cuestiones."
      ]
    },
    {
      "cell_type": "code",
      "source": [
        "import io\n",
        "import numpy as np\n",
        "import pandas as pd"
      ],
      "metadata": {
        "id": "JRHqgJp_G7eo"
      },
      "execution_count": null,
      "outputs": []
    },
    {
      "cell_type": "code",
      "source": [
        "from google.colab import files\n",
        "\n",
        "uploaded = files.upload()"
      ],
      "metadata": {
        "colab": {
          "base_uri": "https://localhost:8080/",
          "height": 73
        },
        "id": "R69hr3S_HA2W",
        "outputId": "64ab8b84-5c5c-4729-df20-e2652b0ad8da"
      },
      "execution_count": null,
      "outputs": [
        {
          "output_type": "display_data",
          "data": {
            "text/plain": [
              "<IPython.core.display.HTML object>"
            ],
            "text/html": [
              "\n",
              "     <input type=\"file\" id=\"files-80e7a149-cb8a-42f7-8ea0-acd030f560ec\" name=\"files[]\" multiple disabled\n",
              "        style=\"border:none\" />\n",
              "     <output id=\"result-80e7a149-cb8a-42f7-8ea0-acd030f560ec\">\n",
              "      Upload widget is only available when the cell has been executed in the\n",
              "      current browser session. Please rerun this cell to enable.\n",
              "      </output>\n",
              "      <script>// Copyright 2017 Google LLC\n",
              "//\n",
              "// Licensed under the Apache License, Version 2.0 (the \"License\");\n",
              "// you may not use this file except in compliance with the License.\n",
              "// You may obtain a copy of the License at\n",
              "//\n",
              "//      http://www.apache.org/licenses/LICENSE-2.0\n",
              "//\n",
              "// Unless required by applicable law or agreed to in writing, software\n",
              "// distributed under the License is distributed on an \"AS IS\" BASIS,\n",
              "// WITHOUT WARRANTIES OR CONDITIONS OF ANY KIND, either express or implied.\n",
              "// See the License for the specific language governing permissions and\n",
              "// limitations under the License.\n",
              "\n",
              "/**\n",
              " * @fileoverview Helpers for google.colab Python module.\n",
              " */\n",
              "(function(scope) {\n",
              "function span(text, styleAttributes = {}) {\n",
              "  const element = document.createElement('span');\n",
              "  element.textContent = text;\n",
              "  for (const key of Object.keys(styleAttributes)) {\n",
              "    element.style[key] = styleAttributes[key];\n",
              "  }\n",
              "  return element;\n",
              "}\n",
              "\n",
              "// Max number of bytes which will be uploaded at a time.\n",
              "const MAX_PAYLOAD_SIZE = 100 * 1024;\n",
              "\n",
              "function _uploadFiles(inputId, outputId) {\n",
              "  const steps = uploadFilesStep(inputId, outputId);\n",
              "  const outputElement = document.getElementById(outputId);\n",
              "  // Cache steps on the outputElement to make it available for the next call\n",
              "  // to uploadFilesContinue from Python.\n",
              "  outputElement.steps = steps;\n",
              "\n",
              "  return _uploadFilesContinue(outputId);\n",
              "}\n",
              "\n",
              "// This is roughly an async generator (not supported in the browser yet),\n",
              "// where there are multiple asynchronous steps and the Python side is going\n",
              "// to poll for completion of each step.\n",
              "// This uses a Promise to block the python side on completion of each step,\n",
              "// then passes the result of the previous step as the input to the next step.\n",
              "function _uploadFilesContinue(outputId) {\n",
              "  const outputElement = document.getElementById(outputId);\n",
              "  const steps = outputElement.steps;\n",
              "\n",
              "  const next = steps.next(outputElement.lastPromiseValue);\n",
              "  return Promise.resolve(next.value.promise).then((value) => {\n",
              "    // Cache the last promise value to make it available to the next\n",
              "    // step of the generator.\n",
              "    outputElement.lastPromiseValue = value;\n",
              "    return next.value.response;\n",
              "  });\n",
              "}\n",
              "\n",
              "/**\n",
              " * Generator function which is called between each async step of the upload\n",
              " * process.\n",
              " * @param {string} inputId Element ID of the input file picker element.\n",
              " * @param {string} outputId Element ID of the output display.\n",
              " * @return {!Iterable<!Object>} Iterable of next steps.\n",
              " */\n",
              "function* uploadFilesStep(inputId, outputId) {\n",
              "  const inputElement = document.getElementById(inputId);\n",
              "  inputElement.disabled = false;\n",
              "\n",
              "  const outputElement = document.getElementById(outputId);\n",
              "  outputElement.innerHTML = '';\n",
              "\n",
              "  const pickedPromise = new Promise((resolve) => {\n",
              "    inputElement.addEventListener('change', (e) => {\n",
              "      resolve(e.target.files);\n",
              "    });\n",
              "  });\n",
              "\n",
              "  const cancel = document.createElement('button');\n",
              "  inputElement.parentElement.appendChild(cancel);\n",
              "  cancel.textContent = 'Cancel upload';\n",
              "  const cancelPromise = new Promise((resolve) => {\n",
              "    cancel.onclick = () => {\n",
              "      resolve(null);\n",
              "    };\n",
              "  });\n",
              "\n",
              "  // Wait for the user to pick the files.\n",
              "  const files = yield {\n",
              "    promise: Promise.race([pickedPromise, cancelPromise]),\n",
              "    response: {\n",
              "      action: 'starting',\n",
              "    }\n",
              "  };\n",
              "\n",
              "  cancel.remove();\n",
              "\n",
              "  // Disable the input element since further picks are not allowed.\n",
              "  inputElement.disabled = true;\n",
              "\n",
              "  if (!files) {\n",
              "    return {\n",
              "      response: {\n",
              "        action: 'complete',\n",
              "      }\n",
              "    };\n",
              "  }\n",
              "\n",
              "  for (const file of files) {\n",
              "    const li = document.createElement('li');\n",
              "    li.append(span(file.name, {fontWeight: 'bold'}));\n",
              "    li.append(span(\n",
              "        `(${file.type || 'n/a'}) - ${file.size} bytes, ` +\n",
              "        `last modified: ${\n",
              "            file.lastModifiedDate ? file.lastModifiedDate.toLocaleDateString() :\n",
              "                                    'n/a'} - `));\n",
              "    const percent = span('0% done');\n",
              "    li.appendChild(percent);\n",
              "\n",
              "    outputElement.appendChild(li);\n",
              "\n",
              "    const fileDataPromise = new Promise((resolve) => {\n",
              "      const reader = new FileReader();\n",
              "      reader.onload = (e) => {\n",
              "        resolve(e.target.result);\n",
              "      };\n",
              "      reader.readAsArrayBuffer(file);\n",
              "    });\n",
              "    // Wait for the data to be ready.\n",
              "    let fileData = yield {\n",
              "      promise: fileDataPromise,\n",
              "      response: {\n",
              "        action: 'continue',\n",
              "      }\n",
              "    };\n",
              "\n",
              "    // Use a chunked sending to avoid message size limits. See b/62115660.\n",
              "    let position = 0;\n",
              "    do {\n",
              "      const length = Math.min(fileData.byteLength - position, MAX_PAYLOAD_SIZE);\n",
              "      const chunk = new Uint8Array(fileData, position, length);\n",
              "      position += length;\n",
              "\n",
              "      const base64 = btoa(String.fromCharCode.apply(null, chunk));\n",
              "      yield {\n",
              "        response: {\n",
              "          action: 'append',\n",
              "          file: file.name,\n",
              "          data: base64,\n",
              "        },\n",
              "      };\n",
              "\n",
              "      let percentDone = fileData.byteLength === 0 ?\n",
              "          100 :\n",
              "          Math.round((position / fileData.byteLength) * 100);\n",
              "      percent.textContent = `${percentDone}% done`;\n",
              "\n",
              "    } while (position < fileData.byteLength);\n",
              "  }\n",
              "\n",
              "  // All done.\n",
              "  yield {\n",
              "    response: {\n",
              "      action: 'complete',\n",
              "    }\n",
              "  };\n",
              "}\n",
              "\n",
              "scope.google = scope.google || {};\n",
              "scope.google.colab = scope.google.colab || {};\n",
              "scope.google.colab._files = {\n",
              "  _uploadFiles,\n",
              "  _uploadFilesContinue,\n",
              "};\n",
              "})(self);\n",
              "</script> "
            ]
          },
          "metadata": {}
        },
        {
          "output_type": "stream",
          "name": "stdout",
          "text": [
            "Saving elections.csv to elections.csv\n"
          ]
        }
      ]
    },
    {
      "cell_type": "code",
      "source": [
        "path = io.BytesIO(uploaded['elections.csv'])\n",
        "df = pd.read_csv(path, sep=\",\")\n",
        "df\n",
        "#Hay que tener en cuenta que en la columna gender mujer=1 y hombre=0"
      ],
      "metadata": {
        "colab": {
          "base_uri": "https://localhost:8080/",
          "height": 424
        },
        "id": "a34Fcmo8sN6Q",
        "outputId": "7276d946-d76d-48ea-e71b-a0b95f66852a"
      },
      "execution_count": null,
      "outputs": [
        {
          "output_type": "execute_result",
          "data": {
            "text/plain": [
              "      Unnamed: 0  votes_for_A  votes_for_B  votes_for_C  gender  \\\n",
              "0              1            0            1            0       1   \n",
              "1              2            0            0            1       0   \n",
              "2              3            0            0            1       1   \n",
              "3              4            0            0            1       1   \n",
              "4              5            1            0            0       0   \n",
              "...          ...          ...          ...          ...     ...   \n",
              "3495        3496            1            0            0       0   \n",
              "3496        3497            0            0            1       1   \n",
              "3497        3498            0            0            1       1   \n",
              "3498        3499            0            0            0       0   \n",
              "3499        3500            1            0            0       0   \n",
              "\n",
              "      p_changes_vote  \n",
              "0           0.062710  \n",
              "1           0.409047  \n",
              "2           0.210734  \n",
              "3           0.304020  \n",
              "4           0.317170  \n",
              "...              ...  \n",
              "3495        0.307702  \n",
              "3496        0.438484  \n",
              "3497        0.034694  \n",
              "3498        0.000000  \n",
              "3499        0.032002  \n",
              "\n",
              "[3500 rows x 6 columns]"
            ],
            "text/html": [
              "\n",
              "  <div id=\"df-23238073-768d-400e-8367-3d9e42c48739\">\n",
              "    <div class=\"colab-df-container\">\n",
              "      <div>\n",
              "<style scoped>\n",
              "    .dataframe tbody tr th:only-of-type {\n",
              "        vertical-align: middle;\n",
              "    }\n",
              "\n",
              "    .dataframe tbody tr th {\n",
              "        vertical-align: top;\n",
              "    }\n",
              "\n",
              "    .dataframe thead th {\n",
              "        text-align: right;\n",
              "    }\n",
              "</style>\n",
              "<table border=\"1\" class=\"dataframe\">\n",
              "  <thead>\n",
              "    <tr style=\"text-align: right;\">\n",
              "      <th></th>\n",
              "      <th>Unnamed: 0</th>\n",
              "      <th>votes_for_A</th>\n",
              "      <th>votes_for_B</th>\n",
              "      <th>votes_for_C</th>\n",
              "      <th>gender</th>\n",
              "      <th>p_changes_vote</th>\n",
              "    </tr>\n",
              "  </thead>\n",
              "  <tbody>\n",
              "    <tr>\n",
              "      <th>0</th>\n",
              "      <td>1</td>\n",
              "      <td>0</td>\n",
              "      <td>1</td>\n",
              "      <td>0</td>\n",
              "      <td>1</td>\n",
              "      <td>0.062710</td>\n",
              "    </tr>\n",
              "    <tr>\n",
              "      <th>1</th>\n",
              "      <td>2</td>\n",
              "      <td>0</td>\n",
              "      <td>0</td>\n",
              "      <td>1</td>\n",
              "      <td>0</td>\n",
              "      <td>0.409047</td>\n",
              "    </tr>\n",
              "    <tr>\n",
              "      <th>2</th>\n",
              "      <td>3</td>\n",
              "      <td>0</td>\n",
              "      <td>0</td>\n",
              "      <td>1</td>\n",
              "      <td>1</td>\n",
              "      <td>0.210734</td>\n",
              "    </tr>\n",
              "    <tr>\n",
              "      <th>3</th>\n",
              "      <td>4</td>\n",
              "      <td>0</td>\n",
              "      <td>0</td>\n",
              "      <td>1</td>\n",
              "      <td>1</td>\n",
              "      <td>0.304020</td>\n",
              "    </tr>\n",
              "    <tr>\n",
              "      <th>4</th>\n",
              "      <td>5</td>\n",
              "      <td>1</td>\n",
              "      <td>0</td>\n",
              "      <td>0</td>\n",
              "      <td>0</td>\n",
              "      <td>0.317170</td>\n",
              "    </tr>\n",
              "    <tr>\n",
              "      <th>...</th>\n",
              "      <td>...</td>\n",
              "      <td>...</td>\n",
              "      <td>...</td>\n",
              "      <td>...</td>\n",
              "      <td>...</td>\n",
              "      <td>...</td>\n",
              "    </tr>\n",
              "    <tr>\n",
              "      <th>3495</th>\n",
              "      <td>3496</td>\n",
              "      <td>1</td>\n",
              "      <td>0</td>\n",
              "      <td>0</td>\n",
              "      <td>0</td>\n",
              "      <td>0.307702</td>\n",
              "    </tr>\n",
              "    <tr>\n",
              "      <th>3496</th>\n",
              "      <td>3497</td>\n",
              "      <td>0</td>\n",
              "      <td>0</td>\n",
              "      <td>1</td>\n",
              "      <td>1</td>\n",
              "      <td>0.438484</td>\n",
              "    </tr>\n",
              "    <tr>\n",
              "      <th>3497</th>\n",
              "      <td>3498</td>\n",
              "      <td>0</td>\n",
              "      <td>0</td>\n",
              "      <td>1</td>\n",
              "      <td>1</td>\n",
              "      <td>0.034694</td>\n",
              "    </tr>\n",
              "    <tr>\n",
              "      <th>3498</th>\n",
              "      <td>3499</td>\n",
              "      <td>0</td>\n",
              "      <td>0</td>\n",
              "      <td>0</td>\n",
              "      <td>0</td>\n",
              "      <td>0.000000</td>\n",
              "    </tr>\n",
              "    <tr>\n",
              "      <th>3499</th>\n",
              "      <td>3500</td>\n",
              "      <td>1</td>\n",
              "      <td>0</td>\n",
              "      <td>0</td>\n",
              "      <td>0</td>\n",
              "      <td>0.032002</td>\n",
              "    </tr>\n",
              "  </tbody>\n",
              "</table>\n",
              "<p>3500 rows × 6 columns</p>\n",
              "</div>\n",
              "      <button class=\"colab-df-convert\" onclick=\"convertToInteractive('df-23238073-768d-400e-8367-3d9e42c48739')\"\n",
              "              title=\"Convert this dataframe to an interactive table.\"\n",
              "              style=\"display:none;\">\n",
              "        \n",
              "  <svg xmlns=\"http://www.w3.org/2000/svg\" height=\"24px\"viewBox=\"0 0 24 24\"\n",
              "       width=\"24px\">\n",
              "    <path d=\"M0 0h24v24H0V0z\" fill=\"none\"/>\n",
              "    <path d=\"M18.56 5.44l.94 2.06.94-2.06 2.06-.94-2.06-.94-.94-2.06-.94 2.06-2.06.94zm-11 1L8.5 8.5l.94-2.06 2.06-.94-2.06-.94L8.5 2.5l-.94 2.06-2.06.94zm10 10l.94 2.06.94-2.06 2.06-.94-2.06-.94-.94-2.06-.94 2.06-2.06.94z\"/><path d=\"M17.41 7.96l-1.37-1.37c-.4-.4-.92-.59-1.43-.59-.52 0-1.04.2-1.43.59L10.3 9.45l-7.72 7.72c-.78.78-.78 2.05 0 2.83L4 21.41c.39.39.9.59 1.41.59.51 0 1.02-.2 1.41-.59l7.78-7.78 2.81-2.81c.8-.78.8-2.07 0-2.86zM5.41 20L4 18.59l7.72-7.72 1.47 1.35L5.41 20z\"/>\n",
              "  </svg>\n",
              "      </button>\n",
              "      \n",
              "  <style>\n",
              "    .colab-df-container {\n",
              "      display:flex;\n",
              "      flex-wrap:wrap;\n",
              "      gap: 12px;\n",
              "    }\n",
              "\n",
              "    .colab-df-convert {\n",
              "      background-color: #E8F0FE;\n",
              "      border: none;\n",
              "      border-radius: 50%;\n",
              "      cursor: pointer;\n",
              "      display: none;\n",
              "      fill: #1967D2;\n",
              "      height: 32px;\n",
              "      padding: 0 0 0 0;\n",
              "      width: 32px;\n",
              "    }\n",
              "\n",
              "    .colab-df-convert:hover {\n",
              "      background-color: #E2EBFA;\n",
              "      box-shadow: 0px 1px 2px rgba(60, 64, 67, 0.3), 0px 1px 3px 1px rgba(60, 64, 67, 0.15);\n",
              "      fill: #174EA6;\n",
              "    }\n",
              "\n",
              "    [theme=dark] .colab-df-convert {\n",
              "      background-color: #3B4455;\n",
              "      fill: #D2E3FC;\n",
              "    }\n",
              "\n",
              "    [theme=dark] .colab-df-convert:hover {\n",
              "      background-color: #434B5C;\n",
              "      box-shadow: 0px 1px 3px 1px rgba(0, 0, 0, 0.15);\n",
              "      filter: drop-shadow(0px 1px 2px rgba(0, 0, 0, 0.3));\n",
              "      fill: #FFFFFF;\n",
              "    }\n",
              "  </style>\n",
              "\n",
              "      <script>\n",
              "        const buttonEl =\n",
              "          document.querySelector('#df-23238073-768d-400e-8367-3d9e42c48739 button.colab-df-convert');\n",
              "        buttonEl.style.display =\n",
              "          google.colab.kernel.accessAllowed ? 'block' : 'none';\n",
              "\n",
              "        async function convertToInteractive(key) {\n",
              "          const element = document.querySelector('#df-23238073-768d-400e-8367-3d9e42c48739');\n",
              "          const dataTable =\n",
              "            await google.colab.kernel.invokeFunction('convertToInteractive',\n",
              "                                                     [key], {});\n",
              "          if (!dataTable) return;\n",
              "\n",
              "          const docLinkHtml = 'Like what you see? Visit the ' +\n",
              "            '<a target=\"_blank\" href=https://colab.research.google.com/notebooks/data_table.ipynb>data table notebook</a>'\n",
              "            + ' to learn more about interactive tables.';\n",
              "          element.innerHTML = '';\n",
              "          dataTable['output_type'] = 'display_data';\n",
              "          await google.colab.output.renderOutput(dataTable, element);\n",
              "          const docLink = document.createElement('div');\n",
              "          docLink.innerHTML = docLinkHtml;\n",
              "          element.appendChild(docLink);\n",
              "        }\n",
              "      </script>\n",
              "    </div>\n",
              "  </div>\n",
              "  "
            ]
          },
          "metadata": {},
          "execution_count": 3
        }
      ]
    },
    {
      "cell_type": "code",
      "source": [
        "df.dtypes"
      ],
      "metadata": {
        "colab": {
          "base_uri": "https://localhost:8080/"
        },
        "id": "hoRD7VfCa4t-",
        "outputId": "d2097be1-6180-4b04-d885-785a3d50da1b"
      },
      "execution_count": null,
      "outputs": [
        {
          "output_type": "execute_result",
          "data": {
            "text/plain": [
              "Unnamed: 0          int64\n",
              "votes_for_A         int64\n",
              "votes_for_B         int64\n",
              "votes_for_C         int64\n",
              "gender              int64\n",
              "p_changes_vote    float64\n",
              "dtype: object"
            ]
          },
          "metadata": {},
          "execution_count": 4
        }
      ]
    },
    {
      "cell_type": "markdown",
      "metadata": {
        "id": "HZnlRwqXtbNP"
      },
      "source": [
        "## Parte 1: Interpretación directa de la encuesta\n",
        "\n",
        "Basándote únicamente en lo declarado por los entrevistados, calcula las probabilidades de voto de cada uno de los partidos. Para cada partido, calcula la probabilidad de voto si se es mujer o si se es hombre. Tomando un voto del partido A al azar, ¿cuál es la probabilidad de que provenga de una mujer? ¿Y si el voto es del partido C?"
      ]
    },
    {
      "cell_type": "code",
      "source": [
        "#probabilidades de voto de cada uno de los partidos\n",
        "\n",
        "prob_party_a=round(df.votes_for_A.mean()*100,2)\n",
        "prob_party_b=round(df.votes_for_B.mean()*100,2)\n",
        "prob_party_c=round(df.votes_for_C.mean()*100,2)\n",
        "print('PROBABILIDAD DE VOTOS % PARA EL PARTIDO A:',prob_party_a,'%')\n",
        "print('PROBABILIDAD DE VOTOS % PARA EL PARTIDO B:',prob_party_b,'%')\n",
        "print('PROBABILIDAD DE VOTOS % PARA EL PARTIDO C:',prob_party_c,'%')"
      ],
      "metadata": {
        "colab": {
          "base_uri": "https://localhost:8080/"
        },
        "id": "eCUTURZIdRMv",
        "outputId": "2180c1f5-a923-4386-fcf6-0a5d4db506b0"
      },
      "execution_count": null,
      "outputs": [
        {
          "output_type": "stream",
          "name": "stdout",
          "text": [
            "PROBABILIDAD DE VOTOS % PARA EL PARTIDO A: 39.8 %\n",
            "PROBABILIDAD DE VOTOS % PARA EL PARTIDO B: 15.54 %\n",
            "PROBABILIDAD DE VOTOS % PARA EL PARTIDO C: 25.17 %\n"
          ]
        }
      ]
    },
    {
      "cell_type": "markdown",
      "source": [
        "**Para cada partido, calcula la probabilidad de voto si se es mujer o si se es hombre.**"
      ],
      "metadata": {
        "id": "WZMbzu-KMmI3"
      }
    },
    {
      "cell_type": "code",
      "source": [
        "\n",
        "\n",
        "# Probabilidad de voto siendo mujer\n",
        "print(\"La probabilidad de haber votado al partido A siendo mujer es de\", round(df[df.gender==1].votes_for_A.mean()*100,2),\"%\")\n",
        "print(\"La probabilidad de haber votado al partido B siendo mujer es de\", round(df[df.gender==1].votes_for_B.mean()*100,2),\"%\")\n",
        "print(\"La probabilidad de haber votado al partido C siendo mujer es de\", round(df[df.gender==1].votes_for_C.mean()*100,2),\"%\")\n",
        "\n"
      ],
      "metadata": {
        "colab": {
          "base_uri": "https://localhost:8080/"
        },
        "id": "-4OolRbjIT6C",
        "outputId": "abfb6666-e05a-42f0-fbde-940433b6a6b1"
      },
      "execution_count": null,
      "outputs": [
        {
          "output_type": "stream",
          "name": "stdout",
          "text": [
            "La probabilidad de haber votado al partido A siendo mujer es de 39.65 %\n",
            "La probabilidad de haber votado al partido B siendo mujer es de 18.33 %\n",
            "La probabilidad de haber votado al partido C siendo mujer es de 42.02 %\n"
          ]
        }
      ]
    },
    {
      "cell_type": "code",
      "source": [
        "# Probabilidad de voto siendo hombre\n",
        "print(\"La probabilidad de haber votado al partido A siendo hombre es de\", round(df[df.gender==0].votes_for_A.mean()*100,2),\"%\")\n",
        "print(\"La probabilidad de haber votado al partido B siendo hombre es de\", round(df[df.gender==0].votes_for_B.mean()*100,2),\"%\")\n",
        "print(\"La probabilidad de haber votado al partido C siendo hombre es de\", round(df[df.gender==0].votes_for_C.mean()*100,2),\"%\")"
      ],
      "metadata": {
        "colab": {
          "base_uri": "https://localhost:8080/"
        },
        "id": "KXuOoI8DD3Sn",
        "outputId": "adfa6ba9-777c-4f99-ab71-3cad21e0f668"
      },
      "execution_count": null,
      "outputs": [
        {
          "output_type": "stream",
          "name": "stdout",
          "text": [
            "La probabilidad de haber votado al partido A siendo hombre es de 39.91 %\n",
            "La probabilidad de haber votado al partido B siendo hombre es de 13.52 %\n",
            "La probabilidad de haber votado al partido C siendo hombre es de 12.93 %\n"
          ]
        }
      ]
    },
    {
      "cell_type": "markdown",
      "source": [
        "**Tomando un voto del partido A al azar, ¿cuál es la probabilidad de que provenga de una mujer? ¿Y si el voto es del partido C?**"
      ],
      "metadata": {
        "id": "Tu9Rg8yPMsmI"
      }
    },
    {
      "cell_type": "code",
      "source": [
        "# Probabilidad de que tomando un voto al azar del partido A, sea mujer\n",
        "# Hacemos probabilidad condicionada: P(A|B)= P(A∩B)/P(B)\n",
        "# En este caso A='Es mujer' y B='Voto para el partido A'\n",
        "\n",
        "dfA_f=df[df.votes_for_A==1]\n",
        "print(\"La probabilidad de que tomando un voto al azar del partido A, este sea de una mujer es de\", round(len(dfA_f[dfA_f.gender==1])/len(dfA_f)*100,2),\"%\")\n",
        "\n",
        "# Repetimos la idea para los votos del partido C\n",
        "\n",
        "dfC_f=df[df.votes_for_C==1]\n",
        "print(\"La probabilidad de que tomando un voto al azar del partido C, este sea de una mujer es de\", round(len(dfC_f[dfC_f.gender==1])/len(dfC_f)*100,2),\"%\")"
      ],
      "metadata": {
        "colab": {
          "base_uri": "https://localhost:8080/"
        },
        "id": "D34-XWj9K2q1",
        "outputId": "38e9d665-14d6-4dca-c861-31c4b873bc9b"
      },
      "execution_count": null,
      "outputs": [
        {
          "output_type": "stream",
          "name": "stdout",
          "text": [
            "La probabilidad de que tomando un voto al azar del partido A, este sea de una mujer es de 41.92 %\n",
            "La probabilidad de que tomando un voto al azar del partido C, este sea de una mujer es de 70.26 %\n"
          ]
        }
      ]
    },
    {
      "cell_type": "markdown",
      "metadata": {
        "id": "8RBZCeQ1tji5"
      },
      "source": [
        "## Parte 2: Volatilidad del voto\n",
        "\n",
        "La columna `p_changes_vote` muestra la probabilidad de que el encuestado termine votando algo distinto a lo declarado. Úsala para determinar la fiabilidad de la encuesta. ¿Es igual de volátil el voto femenino que el masculino?"
      ]
    },
    {
      "cell_type": "code",
      "source": [
        "# Probabilidad de cambio de voto si es mujer o si es hombre\n",
        "\n",
        "mean_p_changes_vote_women = df[df[\"gender\"] == \"1\"][\"p_changes_vote\"].mean()\n",
        "print(\"La probabilidad de canviar de voto siendo mujer es\",round(df[df[\"gender\"] == 1][\"p_changes_vote\"].mean()*100,2),\"%\")\n",
        "print(\"La probabilidad de canviar de voto siendo hombre es\",round(df[df[\"gender\"] == 0][\"p_changes_vote\"].mean()*100,2),\"%\")"
      ],
      "metadata": {
        "colab": {
          "base_uri": "https://localhost:8080/"
        },
        "id": "KLkdHJvTNHsZ",
        "outputId": "33bab387-76fa-4ccd-b41f-173611fa9242"
      },
      "execution_count": null,
      "outputs": [
        {
          "output_type": "stream",
          "name": "stdout",
          "text": [
            "La probabilidad de canviar de voto siendo mujer es 24.03 %\n",
            "La probabilidad de canviar de voto siendo hombre es 17.69 %\n"
          ]
        }
      ]
    },
    {
      "cell_type": "markdown",
      "source": [
        "Viendo los datos, puede parecer que la volatilidad en el voto femenino es mayor al masculino. "
      ],
      "metadata": {
        "id": "m2-1ZuCxNgAM"
      }
    },
    {
      "cell_type": "markdown",
      "metadata": {
        "id": "7dP8t3UI5Hof"
      },
      "source": [
        "## Parte 3: Análisis de campaña\n",
        "\n",
        "**(a)** Suponiendo que los resultados finales son \n",
        "\n",
        "* partido A -> 38.77%,\n",
        "* partido B -> 15.04%,\n",
        "* partido C -> 29.16%,\n",
        "\n",
        "calcula la probabilidad de que, tomado un voto del partido A, éste provenga de un entrevistado que declaró querer votar al partido A. Haz lo mismo con los partidos B y C."
      ]
    },
    {
      "cell_type": "markdown",
      "source": [
        "X -> Vota a A \n",
        "\n",
        "Y -> Declara votar a A\n",
        "\n",
        "P(Y|X) = P(Y∩X)/P(X) = P(Y)P(Y∩X)/(P(Y)P(X))=P(X|Y)P(Y)/P(X)"
      ],
      "metadata": {
        "id": "X7Xo_-NoOr4U"
      }
    },
    {
      "cell_type": "code",
      "source": [
        "#Final votes\n",
        "p_final_voto_A = 0.3877\n",
        "p_final_voto_B = 0.1504\n",
        "p_final_voto_C = 0.2916"
      ],
      "metadata": {
        "id": "DP_z-w8lXK-l"
      },
      "execution_count": null,
      "outputs": []
    },
    {
      "cell_type": "code",
      "source": [
        "#Estimated votes\n",
        "p_dijo_vote_A = df.votes_for_A.mean()\n",
        "p_dijo_vote_B =df.votes_for_B.mean()\n",
        "p_dijo_vote_C = df.votes_for_C.mean()"
      ],
      "metadata": {
        "id": "5ewBe4GZlvsJ"
      },
      "execution_count": null,
      "outputs": []
    },
    {
      "cell_type": "code",
      "source": [
        "\n",
        "# Partido A\n",
        "p_vote_A_if_dijo_A = 1-df[df['votes_for_A'] == 1].p_changes_vote.mean()\n",
        "p_vote_A_if_dijo_A\n",
        "\n",
        "p_say_A_if_vote_A = (p_vote_A_if_dijo_A * p_dijo_vote_A) / p_final_voto_A\n",
        "print(\"La probabilidad de que tomado un voto del partido A, éste provenga de un entrevistado que declaró querer votar al partido A es de\", round(p_say_A_if_vote_A,2)*100, \"%\")\n",
        " \n",
        "\n"
      ],
      "metadata": {
        "colab": {
          "base_uri": "https://localhost:8080/"
        },
        "id": "gmSCRw61iEng",
        "outputId": "566849a5-46b5-426e-effc-9fa2bb841d42"
      },
      "execution_count": null,
      "outputs": [
        {
          "output_type": "stream",
          "name": "stdout",
          "text": [
            "La probabilidad de que tomado un voto del partido A, éste provenga de un entrevistado que declaró querer votar al partido A es de 66.0 %\n"
          ]
        }
      ]
    },
    {
      "cell_type": "code",
      "source": [
        "# Partido B\n",
        "p_vote_B_if_dijo_B = 1-df[df['votes_for_B'] == 1].p_changes_vote.mean()\n",
        "p_vote_B_if_dijo_B\n",
        "\n",
        "p_say_B_if_vote_B = (p_vote_B_if_dijo_B * p_dijo_vote_B) / p_final_voto_B\n",
        "print(\"La probabilidad de que tomado un voto del partido B, éste provenga de un entrevistado que declaró querer votar al partido B es de\", round(p_say_B_if_vote_B,2)*100, \"%\")\n",
        " "
      ],
      "metadata": {
        "colab": {
          "base_uri": "https://localhost:8080/"
        },
        "id": "xsfGLl5on4uT",
        "outputId": "8382b46f-1688-483e-9ac4-f0842c145394"
      },
      "execution_count": null,
      "outputs": [
        {
          "output_type": "stream",
          "name": "stdout",
          "text": [
            "La probabilidad de que tomado un voto del partido B, éste provenga de un entrevistado que declaró querer votar al partido B es de 98.0 %\n"
          ]
        }
      ]
    },
    {
      "cell_type": "code",
      "source": [
        "# Partido C\n",
        "p_vote_C_if_dijo_C = 1-df[df['votes_for_C'] == 1].p_changes_vote.mean()\n",
        "p_vote_C_if_dijo_C\n",
        "\n",
        "p_say_C_if_vote_C = (p_vote_C_if_dijo_C * p_dijo_vote_C) / p_final_voto_C\n",
        "print(\"La probabilidad de que tomado un voto del partido c, éste provenga de un entrevistado que declaró querer votar al partido C es de\", round(p_say_C_if_vote_C,2)*100, \"%\")\n",
        " "
      ],
      "metadata": {
        "id": "Vj2eaB1-n44Z",
        "colab": {
          "base_uri": "https://localhost:8080/"
        },
        "outputId": "d407d7b5-d037-4dd8-f0e1-7314c753e29c"
      },
      "execution_count": null,
      "outputs": [
        {
          "output_type": "stream",
          "name": "stdout",
          "text": [
            "La probabilidad de que tomado un voto del partido c, éste provenga de un entrevistado que declaró querer votar al partido C es de 68.0 %\n"
          ]
        }
      ]
    },
    {
      "cell_type": "markdown",
      "source": [
        "**(b)** Suponiendo que el estado reparte 10 millones de euros en subvenciones a cada partido en función de sus resultados electorales y que cada partido invirtió en la campaña las cantidades siguientes\n",
        "\n",
        "* partido A -> 3.8 millones,\n",
        "* partido B -> 1.47 millones,\n",
        "* partido C -> 2.31 millones,\n",
        "\n",
        "calcula cuánto esperaban ganar con las subvenciones y termina deduciendo quién hizo mejor campaña electoral."
      ],
      "metadata": {
        "id": "7LZahT7hN4Y5"
      }
    },
    {
      "cell_type": "code",
      "source": [
        "inversion_partido_A = 3800000\n",
        "inversion_partido_B = 1470000 \n",
        "inversion_partido_C = 2310000\n",
        "\n",
        "subvencion = 10000000\n",
        "\n",
        "ganancia_A = subvencion - inversion_partido_A\n",
        "ganancia_B = subvencion - inversion_partido_B\n",
        "ganancia_C = subvencion - inversion_partido_C\n",
        "\n",
        "print(\"En toda la campaña, cada partido estimaba ganar como máximo el siguiente importe:\")\n",
        "print(\"A:\", ganancia_A)\n",
        "print(\"B:\", ganancia_B)\n",
        "print(\"C:\", ganancia_C)"
      ],
      "metadata": {
        "colab": {
          "base_uri": "https://localhost:8080/"
        },
        "id": "MGE-6W95RvEp",
        "outputId": "21db918f-cef2-4bb4-f668-4e2d9c4b6df5"
      },
      "execution_count": null,
      "outputs": [
        {
          "output_type": "stream",
          "name": "stdout",
          "text": [
            "En toda la campaña, cada partido estimaba ganar como máximo el siguiente importe:\n",
            "A: 6200000\n",
            "B: 8530000\n",
            "C: 7690000\n"
          ]
        }
      ]
    },
    {
      "cell_type": "code",
      "source": [
        "# Entendemos que el \"éxito\" de la campaña se enfoca en los indecisos.\n",
        "# ÉxitoParido = Definitivos - Votaria\n",
        "\n",
        "exito_A = p_final_voto_A - df.votes_for_A.mean()\n",
        "exito_B = p_final_voto_B - df.votes_for_B.mean()\n",
        "exito_C = p_final_voto_C - df.votes_for_C.mean()\n",
        "\n",
        "print(\"En toda la campaña, cada partido ganó o perdió el siguiente % de votos\")\n",
        "print(\"A:\", round(exito_A*100,2), \"%\")\n",
        "print(\"B:\", round(exito_B*100,2), \"%\")\n",
        "print(\"C:\", round(exito_C*100,2), \"%\")"
      ],
      "metadata": {
        "colab": {
          "base_uri": "https://localhost:8080/"
        },
        "id": "brCnO-a99zEo",
        "outputId": "6d48f04c-1c5b-421d-c395-84bd49dc4f08"
      },
      "execution_count": null,
      "outputs": [
        {
          "output_type": "stream",
          "name": "stdout",
          "text": [
            "En toda la campaña, cada partido ganó o perdió el siguiente % de votos\n",
            "A: -1.03 %\n",
            "B: -0.5 %\n",
            "C: 3.99 %\n"
          ]
        }
      ]
    },
    {
      "cell_type": "markdown",
      "source": [
        "Podemos ver que el partido C gano los mas votos de indecisos."
      ],
      "metadata": {
        "id": "pWv3Du4wmmCq"
      }
    },
    {
      "cell_type": "code",
      "source": [
        "\n",
        "# party vote percentages\n",
        "expected_party_votes={'A': 49.43, 'B': 19.30, 'C': 31.26}\n",
        "\n",
        "party_votes = {'A': 38.77, 'B': 15.04, 'C': 29.16}\n",
        "\n",
        "# party campaign investments\n",
        "party_investments = {'A': 3.8, 'B': 1.47, 'C': 2.31}\n",
        "\n",
        "# subsidies per party\n",
        "subsidies = 10\n",
        "\n",
        "# expected to earn in total\n",
        "hoped_to_earn = {party: subsidies * (vote/100) for party, vote in expected_party_votes.items()}\n",
        "\n",
        "# estimated profit based on first estimation\n",
        "\n",
        "expected_profit = {party: hoped_to_earn[party] - party_investments[party] for party in expected_party_votes.keys()}\n",
        "\n",
        "# calculate hoped to earn for each party\n",
        "earned = {party: subsidies * (vote/100) for party, vote in party_votes.items()}\n",
        "\n",
        "# calculate profit for each party\n",
        "profit = {party: earned[party] - party_investments[party] for party in party_votes.keys()}\n",
        "\n",
        "# display results\n",
        "print('Hoped to earn:')\n",
        "print(hoped_to_earn)\n",
        "print('Actual earnings:')\n",
        "print(earned)\n",
        "print('Actual profit:')\n",
        "print(profit)"
      ],
      "metadata": {
        "id": "x3gXhQbJSJcS",
        "colab": {
          "base_uri": "https://localhost:8080/"
        },
        "outputId": "478c671a-ca05-4a2f-a876-76f74d28905a"
      },
      "execution_count": null,
      "outputs": [
        {
          "output_type": "stream",
          "name": "stdout",
          "text": [
            "Hoped to earn:\n",
            "{'A': 4.9430000000000005, 'B': 1.9300000000000002, 'C': 3.126}\n",
            "Actual earnings:\n",
            "{'A': 3.8770000000000007, 'B': 1.5039999999999998, 'C': 2.9160000000000004}\n",
            "Actual profit:\n",
            "{'A': 0.07700000000000085, 'B': 0.03399999999999981, 'C': 0.6060000000000003}\n"
          ]
        }
      ]
    },
    {
      "cell_type": "code",
      "source": [
        "best_party = max(profit, key=profit.get)\n",
        "print(f\"Partido {best_party} hizo la mejor campana \")"
      ],
      "metadata": {
        "colab": {
          "base_uri": "https://localhost:8080/"
        },
        "id": "ftzyNIiQ5N4V",
        "outputId": "1ab4abbb-7bc6-4d1b-92d6-19f68e95257e"
      },
      "execution_count": null,
      "outputs": [
        {
          "output_type": "stream",
          "name": "stdout",
          "text": [
            "Partido C hizo la mejor campana\n"
          ]
        }
      ]
    },
    {
      "cell_type": "markdown",
      "source": [
        "Porque? Tenemos en cuenta cuánto gastaron y cuál fue el beneficio real monetario para ellos."
      ],
      "metadata": {
        "id": "hynHEDiivzC0"
      }
    }
  ]
}