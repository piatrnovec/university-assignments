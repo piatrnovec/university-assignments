{
  "cells": [
    {
      "cell_type": "markdown",
      "id": "926a8d28",
      "metadata": {
        "id": "926a8d28"
      },
      "source": [
        "# Problema: ¿Dónde está todo el mundo?\n",
        "\n",
        "\n",
        "## Background: La Paradoja de Fermi\n",
        "\n",
        "En 1950, mientras trabajaba en el Proyecto Manhattan, Enrico Fermi formuló la siguiente pregunta: Con la cantidad de estrellas que hay en la Vía Láctea, muchas de las cuales sin duda albergando planetas a su alrededor, seguro que hay una proporción significativa de los mismos con condiciones similares a las de la Tierra. De estos, habrá una proporción que, además, albergarán vida inteligente. Si es así, ¿cómo es que no hemos contactado con nadie? Este adagio es conocido como la Paradoja de Fermi y se considera una paradoja porque la observación empírica (cero extraterretres) contradice la intuición de que, a juzagar por los datos, la Vía Láctea debería rebosar de vida y, en particular, la Especie Humana debería encontrarse en medio de un enjambre de civilizaciones que van de aquí para allá.\n",
        "\n",
        "Se han propuesto diversas soluciones a la paradoja, desde la más conservadora de que, simplemente, nuestro juicio de los datos es incorrecto hasta las más extravagantes, que sugieren que hay muchas formas de vida pero que la gran mayoría no son computables por nuestros sentidos; pasando por algunas algo ominosas, como que toda civilización debe superar, llegado cierto punto, una suerte de filtro cósmico que suele dar como resultado la extinción en la mayoría de los casos.\n",
        "\n",
        "En esta actividad vamos a hacer uso de algunos datos para dar una posible respuesta a la Paradoja de Fermi."
      ]
    },
    {
      "cell_type": "markdown",
      "id": "52787f06",
      "metadata": {
        "id": "52787f06"
      },
      "source": [
        "## Parte 1: ¿Es la Tierra un planeta común en la Vía Láctea?\n",
        "\n",
        "Descárgate el fichero planets.csv. En él hallarás datos sobre planetas extrasolares. Establecer una métrica de similitud entre la Tierra y otro planeta es complicado, pero para no forzar demasiado la máquina vamos a trabajar con un modelo muy simplificado. Supondremos que un planeta es homologable a la Tierra si sus valores para los siguientes parámetros no son más de un 10% distintos a los de la Tierra:\n",
        "1. Periodo orbital (en días)\n",
        "2. Masa (en masas de Júpiter)\n",
        "3. Radio (en radios de Júpiter)\n",
        "4. Temperatura estelar efectiva (en grados Kelvin)\n",
        "\n",
        "La condición 4 resulta de relevancia evidente para nuestra supervivencia. La 1 puede o no ser relevante, pero cuanto más parecida a la de la Tierra menos probabilidad de fluctuaciones caóticas en el clima. La 3 y la 4 tienen que ver con la gravedad en la superfície del planeta, esta sí, de críticas consecuencias para una vida homologable a la humana.\n",
        "\n",
        "Los valores de la Tierra son los siguientes:\n",
        "1. 365.256 días\n",
        "2. 0.0031453 masas de Júpiter\n",
        "3. 0.08856 radios de Júpiter\n",
        "4. 5500 K\n",
        "\n"
      ]
    },
    {
      "cell_type": "code",
      "execution_count": null,
      "id": "5ba88f2f",
      "metadata": {
        "colab": {
          "base_uri": "https://localhost:8080/",
          "height": 73
        },
        "id": "5ba88f2f",
        "outputId": "c4796745-4986-4459-f646-00aabfbe87ee"
      },
      "outputs": [
        {
          "output_type": "display_data",
          "data": {
            "text/plain": [
              "<IPython.core.display.HTML object>"
            ],
            "text/html": [
              "\n",
              "     <input type=\"file\" id=\"files-4547529a-b8d4-41f2-bb92-cda5690330d3\" name=\"files[]\" multiple disabled\n",
              "        style=\"border:none\" />\n",
              "     <output id=\"result-4547529a-b8d4-41f2-bb92-cda5690330d3\">\n",
              "      Upload widget is only available when the cell has been executed in the\n",
              "      current browser session. Please rerun this cell to enable.\n",
              "      </output>\n",
              "      <script>// Copyright 2017 Google LLC\n",
              "//\n",
              "// Licensed under the Apache License, Version 2.0 (the \"License\");\n",
              "// you may not use this file except in compliance with the License.\n",
              "// You may obtain a copy of the License at\n",
              "//\n",
              "//      http://www.apache.org/licenses/LICENSE-2.0\n",
              "//\n",
              "// Unless required by applicable law or agreed to in writing, software\n",
              "// distributed under the License is distributed on an \"AS IS\" BASIS,\n",
              "// WITHOUT WARRANTIES OR CONDITIONS OF ANY KIND, either express or implied.\n",
              "// See the License for the specific language governing permissions and\n",
              "// limitations under the License.\n",
              "\n",
              "/**\n",
              " * @fileoverview Helpers for google.colab Python module.\n",
              " */\n",
              "(function(scope) {\n",
              "function span(text, styleAttributes = {}) {\n",
              "  const element = document.createElement('span');\n",
              "  element.textContent = text;\n",
              "  for (const key of Object.keys(styleAttributes)) {\n",
              "    element.style[key] = styleAttributes[key];\n",
              "  }\n",
              "  return element;\n",
              "}\n",
              "\n",
              "// Max number of bytes which will be uploaded at a time.\n",
              "const MAX_PAYLOAD_SIZE = 100 * 1024;\n",
              "\n",
              "function _uploadFiles(inputId, outputId) {\n",
              "  const steps = uploadFilesStep(inputId, outputId);\n",
              "  const outputElement = document.getElementById(outputId);\n",
              "  // Cache steps on the outputElement to make it available for the next call\n",
              "  // to uploadFilesContinue from Python.\n",
              "  outputElement.steps = steps;\n",
              "\n",
              "  return _uploadFilesContinue(outputId);\n",
              "}\n",
              "\n",
              "// This is roughly an async generator (not supported in the browser yet),\n",
              "// where there are multiple asynchronous steps and the Python side is going\n",
              "// to poll for completion of each step.\n",
              "// This uses a Promise to block the python side on completion of each step,\n",
              "// then passes the result of the previous step as the input to the next step.\n",
              "function _uploadFilesContinue(outputId) {\n",
              "  const outputElement = document.getElementById(outputId);\n",
              "  const steps = outputElement.steps;\n",
              "\n",
              "  const next = steps.next(outputElement.lastPromiseValue);\n",
              "  return Promise.resolve(next.value.promise).then((value) => {\n",
              "    // Cache the last promise value to make it available to the next\n",
              "    // step of the generator.\n",
              "    outputElement.lastPromiseValue = value;\n",
              "    return next.value.response;\n",
              "  });\n",
              "}\n",
              "\n",
              "/**\n",
              " * Generator function which is called between each async step of the upload\n",
              " * process.\n",
              " * @param {string} inputId Element ID of the input file picker element.\n",
              " * @param {string} outputId Element ID of the output display.\n",
              " * @return {!Iterable<!Object>} Iterable of next steps.\n",
              " */\n",
              "function* uploadFilesStep(inputId, outputId) {\n",
              "  const inputElement = document.getElementById(inputId);\n",
              "  inputElement.disabled = false;\n",
              "\n",
              "  const outputElement = document.getElementById(outputId);\n",
              "  outputElement.innerHTML = '';\n",
              "\n",
              "  const pickedPromise = new Promise((resolve) => {\n",
              "    inputElement.addEventListener('change', (e) => {\n",
              "      resolve(e.target.files);\n",
              "    });\n",
              "  });\n",
              "\n",
              "  const cancel = document.createElement('button');\n",
              "  inputElement.parentElement.appendChild(cancel);\n",
              "  cancel.textContent = 'Cancel upload';\n",
              "  const cancelPromise = new Promise((resolve) => {\n",
              "    cancel.onclick = () => {\n",
              "      resolve(null);\n",
              "    };\n",
              "  });\n",
              "\n",
              "  // Wait for the user to pick the files.\n",
              "  const files = yield {\n",
              "    promise: Promise.race([pickedPromise, cancelPromise]),\n",
              "    response: {\n",
              "      action: 'starting',\n",
              "    }\n",
              "  };\n",
              "\n",
              "  cancel.remove();\n",
              "\n",
              "  // Disable the input element since further picks are not allowed.\n",
              "  inputElement.disabled = true;\n",
              "\n",
              "  if (!files) {\n",
              "    return {\n",
              "      response: {\n",
              "        action: 'complete',\n",
              "      }\n",
              "    };\n",
              "  }\n",
              "\n",
              "  for (const file of files) {\n",
              "    const li = document.createElement('li');\n",
              "    li.append(span(file.name, {fontWeight: 'bold'}));\n",
              "    li.append(span(\n",
              "        `(${file.type || 'n/a'}) - ${file.size} bytes, ` +\n",
              "        `last modified: ${\n",
              "            file.lastModifiedDate ? file.lastModifiedDate.toLocaleDateString() :\n",
              "                                    'n/a'} - `));\n",
              "    const percent = span('0% done');\n",
              "    li.appendChild(percent);\n",
              "\n",
              "    outputElement.appendChild(li);\n",
              "\n",
              "    const fileDataPromise = new Promise((resolve) => {\n",
              "      const reader = new FileReader();\n",
              "      reader.onload = (e) => {\n",
              "        resolve(e.target.result);\n",
              "      };\n",
              "      reader.readAsArrayBuffer(file);\n",
              "    });\n",
              "    // Wait for the data to be ready.\n",
              "    let fileData = yield {\n",
              "      promise: fileDataPromise,\n",
              "      response: {\n",
              "        action: 'continue',\n",
              "      }\n",
              "    };\n",
              "\n",
              "    // Use a chunked sending to avoid message size limits. See b/62115660.\n",
              "    let position = 0;\n",
              "    do {\n",
              "      const length = Math.min(fileData.byteLength - position, MAX_PAYLOAD_SIZE);\n",
              "      const chunk = new Uint8Array(fileData, position, length);\n",
              "      position += length;\n",
              "\n",
              "      const base64 = btoa(String.fromCharCode.apply(null, chunk));\n",
              "      yield {\n",
              "        response: {\n",
              "          action: 'append',\n",
              "          file: file.name,\n",
              "          data: base64,\n",
              "        },\n",
              "      };\n",
              "\n",
              "      let percentDone = fileData.byteLength === 0 ?\n",
              "          100 :\n",
              "          Math.round((position / fileData.byteLength) * 100);\n",
              "      percent.textContent = `${percentDone}% done`;\n",
              "\n",
              "    } while (position < fileData.byteLength);\n",
              "  }\n",
              "\n",
              "  // All done.\n",
              "  yield {\n",
              "    response: {\n",
              "      action: 'complete',\n",
              "    }\n",
              "  };\n",
              "}\n",
              "\n",
              "scope.google = scope.google || {};\n",
              "scope.google.colab = scope.google.colab || {};\n",
              "scope.google.colab._files = {\n",
              "  _uploadFiles,\n",
              "  _uploadFilesContinue,\n",
              "};\n",
              "})(self);\n",
              "</script> "
            ]
          },
          "metadata": {}
        },
        {
          "output_type": "stream",
          "name": "stdout",
          "text": [
            "Saving planets.csv to planets.csv\n"
          ]
        }
      ],
      "source": [
        "from google.colab import files\n",
        "\n",
        "uploaded = files.upload()"
      ]
    },
    {
      "cell_type": "code",
      "source": [
        "import io\n",
        "import pandas as pd \n",
        "import numpy as np\n",
        "from scipy.stats import norm\n",
        "\n",
        "path = io.BytesIO(uploaded['planets.csv'])\n",
        "df = pd.read_csv(path, index_col='rowid', skiprows=15) #eliminar primer 15 filas\n",
        "planets_df = df[['pl_orbper', 'pl_bmassj', 'pl_radj', 'st_teff', 'st_dist']]\n",
        "planets_df[planets_df.duplicated(subset=['pl_orbper', 'pl_bmassj', 'pl_radj', 'st_teff', 'st_dist'])].sum() #hay duplicadps?\n",
        "planets_df[\"index_x\"] = planets_df.index #assigning the index values of the dataframe\n",
        "print(planets_df.shape)\n",
        "\n",
        "# OBTENEMOS UN DETALLE DE LOS DATOS SIGNIFICATIVOS DEL DF\n",
        "planets_df.describe()\n",
        "\n",
        "\n"
      ],
      "metadata": {
        "colab": {
          "base_uri": "https://localhost:8080/",
          "height": 422
        },
        "id": "aQ0rYYqo9-Gy",
        "outputId": "455a5d92-1ab8-457c-cdf8-82480f3f2e6f"
      },
      "id": "aQ0rYYqo9-Gy",
      "execution_count": null,
      "outputs": [
        {
          "output_type": "stream",
          "name": "stdout",
          "text": [
            "(3564, 6)\n"
          ]
        },
        {
          "output_type": "stream",
          "name": "stderr",
          "text": [
            "<ipython-input-3-56de59a7d464>:10: SettingWithCopyWarning: \n",
            "A value is trying to be set on a copy of a slice from a DataFrame.\n",
            "Try using .loc[row_indexer,col_indexer] = value instead\n",
            "\n",
            "See the caveats in the documentation: https://pandas.pydata.org/pandas-docs/stable/user_guide/indexing.html#returning-a-view-versus-a-copy\n",
            "  planets_df[\"index_x\"] = planets_df.index #assigning the index values of the dataframe\n"
          ]
        },
        {
          "output_type": "execute_result",
          "data": {
            "text/plain": [
              "          pl_orbper    pl_bmassj      pl_radj       st_teff      st_dist  \\\n",
              "count  3.482000e+03  1327.000000  2805.000000   3375.000000  2418.000000   \n",
              "mean   2.549070e+03     2.572577     0.359421   5519.407852   632.868730   \n",
              "std    1.241042e+05     4.231024     0.411342   1741.719988   840.702593   \n",
              "min    9.070629e-02     0.000060     0.029000    575.000000     1.290000   \n",
              "25%    4.645043e+00     0.193500     0.138000   5079.000000    95.157500   \n",
              "50%    1.255604e+01     0.960000     0.205000   5616.000000   494.500000   \n",
              "75%    4.514708e+01     2.640000     0.304000   5935.500000   880.000000   \n",
              "max    7.300000e+06    30.000000     6.900000  57000.000000  8500.000000   \n",
              "\n",
              "           index_x  \n",
              "count  3564.000000  \n",
              "mean   1782.500000  \n",
              "std    1028.982507  \n",
              "min       1.000000  \n",
              "25%     891.750000  \n",
              "50%    1782.500000  \n",
              "75%    2673.250000  \n",
              "max    3564.000000  "
            ],
            "text/html": [
              "\n",
              "  <div id=\"df-8f86918c-e03a-4cad-9e27-744a010ac585\">\n",
              "    <div class=\"colab-df-container\">\n",
              "      <div>\n",
              "<style scoped>\n",
              "    .dataframe tbody tr th:only-of-type {\n",
              "        vertical-align: middle;\n",
              "    }\n",
              "\n",
              "    .dataframe tbody tr th {\n",
              "        vertical-align: top;\n",
              "    }\n",
              "\n",
              "    .dataframe thead th {\n",
              "        text-align: right;\n",
              "    }\n",
              "</style>\n",
              "<table border=\"1\" class=\"dataframe\">\n",
              "  <thead>\n",
              "    <tr style=\"text-align: right;\">\n",
              "      <th></th>\n",
              "      <th>pl_orbper</th>\n",
              "      <th>pl_bmassj</th>\n",
              "      <th>pl_radj</th>\n",
              "      <th>st_teff</th>\n",
              "      <th>st_dist</th>\n",
              "      <th>index_x</th>\n",
              "    </tr>\n",
              "  </thead>\n",
              "  <tbody>\n",
              "    <tr>\n",
              "      <th>count</th>\n",
              "      <td>3.482000e+03</td>\n",
              "      <td>1327.000000</td>\n",
              "      <td>2805.000000</td>\n",
              "      <td>3375.000000</td>\n",
              "      <td>2418.000000</td>\n",
              "      <td>3564.000000</td>\n",
              "    </tr>\n",
              "    <tr>\n",
              "      <th>mean</th>\n",
              "      <td>2.549070e+03</td>\n",
              "      <td>2.572577</td>\n",
              "      <td>0.359421</td>\n",
              "      <td>5519.407852</td>\n",
              "      <td>632.868730</td>\n",
              "      <td>1782.500000</td>\n",
              "    </tr>\n",
              "    <tr>\n",
              "      <th>std</th>\n",
              "      <td>1.241042e+05</td>\n",
              "      <td>4.231024</td>\n",
              "      <td>0.411342</td>\n",
              "      <td>1741.719988</td>\n",
              "      <td>840.702593</td>\n",
              "      <td>1028.982507</td>\n",
              "    </tr>\n",
              "    <tr>\n",
              "      <th>min</th>\n",
              "      <td>9.070629e-02</td>\n",
              "      <td>0.000060</td>\n",
              "      <td>0.029000</td>\n",
              "      <td>575.000000</td>\n",
              "      <td>1.290000</td>\n",
              "      <td>1.000000</td>\n",
              "    </tr>\n",
              "    <tr>\n",
              "      <th>25%</th>\n",
              "      <td>4.645043e+00</td>\n",
              "      <td>0.193500</td>\n",
              "      <td>0.138000</td>\n",
              "      <td>5079.000000</td>\n",
              "      <td>95.157500</td>\n",
              "      <td>891.750000</td>\n",
              "    </tr>\n",
              "    <tr>\n",
              "      <th>50%</th>\n",
              "      <td>1.255604e+01</td>\n",
              "      <td>0.960000</td>\n",
              "      <td>0.205000</td>\n",
              "      <td>5616.000000</td>\n",
              "      <td>494.500000</td>\n",
              "      <td>1782.500000</td>\n",
              "    </tr>\n",
              "    <tr>\n",
              "      <th>75%</th>\n",
              "      <td>4.514708e+01</td>\n",
              "      <td>2.640000</td>\n",
              "      <td>0.304000</td>\n",
              "      <td>5935.500000</td>\n",
              "      <td>880.000000</td>\n",
              "      <td>2673.250000</td>\n",
              "    </tr>\n",
              "    <tr>\n",
              "      <th>max</th>\n",
              "      <td>7.300000e+06</td>\n",
              "      <td>30.000000</td>\n",
              "      <td>6.900000</td>\n",
              "      <td>57000.000000</td>\n",
              "      <td>8500.000000</td>\n",
              "      <td>3564.000000</td>\n",
              "    </tr>\n",
              "  </tbody>\n",
              "</table>\n",
              "</div>\n",
              "      <button class=\"colab-df-convert\" onclick=\"convertToInteractive('df-8f86918c-e03a-4cad-9e27-744a010ac585')\"\n",
              "              title=\"Convert this dataframe to an interactive table.\"\n",
              "              style=\"display:none;\">\n",
              "        \n",
              "  <svg xmlns=\"http://www.w3.org/2000/svg\" height=\"24px\"viewBox=\"0 0 24 24\"\n",
              "       width=\"24px\">\n",
              "    <path d=\"M0 0h24v24H0V0z\" fill=\"none\"/>\n",
              "    <path d=\"M18.56 5.44l.94 2.06.94-2.06 2.06-.94-2.06-.94-.94-2.06-.94 2.06-2.06.94zm-11 1L8.5 8.5l.94-2.06 2.06-.94-2.06-.94L8.5 2.5l-.94 2.06-2.06.94zm10 10l.94 2.06.94-2.06 2.06-.94-2.06-.94-.94-2.06-.94 2.06-2.06.94z\"/><path d=\"M17.41 7.96l-1.37-1.37c-.4-.4-.92-.59-1.43-.59-.52 0-1.04.2-1.43.59L10.3 9.45l-7.72 7.72c-.78.78-.78 2.05 0 2.83L4 21.41c.39.39.9.59 1.41.59.51 0 1.02-.2 1.41-.59l7.78-7.78 2.81-2.81c.8-.78.8-2.07 0-2.86zM5.41 20L4 18.59l7.72-7.72 1.47 1.35L5.41 20z\"/>\n",
              "  </svg>\n",
              "      </button>\n",
              "      \n",
              "  <style>\n",
              "    .colab-df-container {\n",
              "      display:flex;\n",
              "      flex-wrap:wrap;\n",
              "      gap: 12px;\n",
              "    }\n",
              "\n",
              "    .colab-df-convert {\n",
              "      background-color: #E8F0FE;\n",
              "      border: none;\n",
              "      border-radius: 50%;\n",
              "      cursor: pointer;\n",
              "      display: none;\n",
              "      fill: #1967D2;\n",
              "      height: 32px;\n",
              "      padding: 0 0 0 0;\n",
              "      width: 32px;\n",
              "    }\n",
              "\n",
              "    .colab-df-convert:hover {\n",
              "      background-color: #E2EBFA;\n",
              "      box-shadow: 0px 1px 2px rgba(60, 64, 67, 0.3), 0px 1px 3px 1px rgba(60, 64, 67, 0.15);\n",
              "      fill: #174EA6;\n",
              "    }\n",
              "\n",
              "    [theme=dark] .colab-df-convert {\n",
              "      background-color: #3B4455;\n",
              "      fill: #D2E3FC;\n",
              "    }\n",
              "\n",
              "    [theme=dark] .colab-df-convert:hover {\n",
              "      background-color: #434B5C;\n",
              "      box-shadow: 0px 1px 3px 1px rgba(0, 0, 0, 0.15);\n",
              "      filter: drop-shadow(0px 1px 2px rgba(0, 0, 0, 0.3));\n",
              "      fill: #FFFFFF;\n",
              "    }\n",
              "  </style>\n",
              "\n",
              "      <script>\n",
              "        const buttonEl =\n",
              "          document.querySelector('#df-8f86918c-e03a-4cad-9e27-744a010ac585 button.colab-df-convert');\n",
              "        buttonEl.style.display =\n",
              "          google.colab.kernel.accessAllowed ? 'block' : 'none';\n",
              "\n",
              "        async function convertToInteractive(key) {\n",
              "          const element = document.querySelector('#df-8f86918c-e03a-4cad-9e27-744a010ac585');\n",
              "          const dataTable =\n",
              "            await google.colab.kernel.invokeFunction('convertToInteractive',\n",
              "                                                     [key], {});\n",
              "          if (!dataTable) return;\n",
              "\n",
              "          const docLinkHtml = 'Like what you see? Visit the ' +\n",
              "            '<a target=\"_blank\" href=https://colab.research.google.com/notebooks/data_table.ipynb>data table notebook</a>'\n",
              "            + ' to learn more about interactive tables.';\n",
              "          element.innerHTML = '';\n",
              "          dataTable['output_type'] = 'display_data';\n",
              "          await google.colab.output.renderOutput(dataTable, element);\n",
              "          const docLink = document.createElement('div');\n",
              "          docLink.innerHTML = docLinkHtml;\n",
              "          element.appendChild(docLink);\n",
              "        }\n",
              "      </script>\n",
              "    </div>\n",
              "  </div>\n",
              "  "
            ]
          },
          "metadata": {},
          "execution_count": 3
        }
      ]
    },
    {
      "cell_type": "markdown",
      "id": "2ff0f0f9",
      "metadata": {
        "id": "2ff0f0f9"
      },
      "source": [
        "A partir del fichero de datos, estima la media y la desviación de estas 4 métricas para todos los planetas de la Via Láctea. Suponiendo que todas ellas siguen una distribución normal con los parámetros obtenidos y que se trata de medidas independientes, calcula la probabilidad de que un planeta de la Vía Láctea escogido al azar sea similar a la Tierra."
      ]
    },
    {
      "cell_type": "code",
      "source": [
        "# Calcular la media y las desviaciones\n",
        "# Asumimos que las 4 métricas siguen una distribución normal\n",
        "total_planets=len(planets_df)\n",
        "empiric_mean= np.mean(planets_df.loc[:,['pl_orbper', 'pl_bmassj', 'pl_radj', 'st_teff']])\n",
        "empiric_std= np.std(planets_df.loc[:,['pl_orbper', 'pl_bmassj', 'pl_radj', 'st_teff']])\n",
        "\n",
        "print('\\033[1m' + 'La media de cada métrica es:' + '\\033[0m')\n",
        "print(\"{}\".format(np.round(empiric_mean,2)))\n",
        "print('\\033[1m' + 'La desviación de cada métrica es:' + '\\033[0m')\n",
        "print(\"{}\".format(np.round(empiric_std,2)))"
      ],
      "metadata": {
        "id": "ChWYTF8UbJQy",
        "colab": {
          "base_uri": "https://localhost:8080/"
        },
        "outputId": "32d8a30d-e296-4edd-809d-c042ef04ac4f"
      },
      "id": "ChWYTF8UbJQy",
      "execution_count": null,
      "outputs": [
        {
          "output_type": "stream",
          "name": "stdout",
          "text": [
            "\u001b[1mLa media de cada métrica es:\u001b[0m\n",
            "pl_orbper    2549.07\n",
            "pl_bmassj       2.57\n",
            "pl_radj         0.36\n",
            "st_teff      5519.41\n",
            "dtype: float64\n",
            "\u001b[1mLa desviación de cada métrica es:\u001b[0m\n",
            "pl_orbper    124086.38\n",
            "pl_bmassj         4.23\n",
            "pl_radj           0.41\n",
            "st_teff        1741.46\n",
            "dtype: float64\n"
          ]
        }
      ]
    },
    {
      "cell_type": "code",
      "source": [
        "# Estudiamos la probabilidad de que un planeta de la vía láctea escogido al azar sea similar a la tierra\n",
        "\n",
        "#Definimos los parámetros\n",
        "tolerance =0.10\n",
        "days= 365.256\n",
        "masa= 0.0031453\n",
        "radios =0.08856\n",
        "temp =5500 \n",
        "\n",
        "# Calculamos los intérvalos de tolerancia de cada métrica\n",
        "period_max=days*(1+tolerance)\n",
        "period_min=days*(1-tolerance)\n",
        "\n",
        "mass_max=masa*(1+tolerance)\n",
        "mass_min=masa*(1-tolerance)\n",
        "\n",
        "radius_max=radios*(1+tolerance)\n",
        "radius_min=radios*(1-tolerance)\n",
        "\n",
        "teff_max=temp*(1+tolerance)\n",
        "teff_min=temp*(1-tolerance)\n",
        "\n",
        "# Definimos los intervalos\n",
        "\n",
        "cond_orb = planets_df[((period_min <= planets_df['pl_orbper']) &\n",
        "            (planets_df['pl_orbper'] <= period_max))]\n",
        "cond_mass = planets_df[((mass_min <= planets_df['pl_bmassj']) &\n",
        "             (planets_df['pl_bmassj'] <= mass_max))]\n",
        "cond_rad = planets_df[((radius_min <= planets_df['pl_radj']) &\n",
        "            (planets_df['pl_radj'] <= radius_max))]\n",
        "cond_temp = planets_df[((teff_min <= planets_df['st_teff']) &\n",
        "             (planets_df['st_teff'] <= teff_max))]\n",
        "\n",
        "# Para hacernos una idea de la probabilidad de similitud a la tierra, calculamos cuántos planetas estan dentro de cada interválo\n",
        "print('\\033[1m' + 'Numéro de planetas que estan dentro de los intervalos de confianza de cada métrica:' + '\\033[0m')\n",
        "print(\"Masa:\", len(cond_mass), \"planetas\")\n",
        "print(\"Orbita:\", len(cond_orb), \"planetas\")\n",
        "print(\"Radio:\", len(cond_rad), \"planetas\")\n",
        "print(\"Temperatura:\", len(cond_temp), \"planetas\")"
      ],
      "metadata": {
        "colab": {
          "base_uri": "https://localhost:8080/"
        },
        "id": "_1B1SlnVAqan",
        "outputId": "b5257497-3c89-4d03-b702-6f7a1e792a7b"
      },
      "id": "_1B1SlnVAqan",
      "execution_count": null,
      "outputs": [
        {
          "output_type": "stream",
          "name": "stdout",
          "text": [
            "\u001b[1mNuméro de planetas que estan dentro de los intervalos de confianza de cada métrica:\u001b[0m\n",
            "Masa: 1 planetas\n",
            "Orbita: 40 planetas\n",
            "Radio: 102 planetas\n",
            "Temperatura: 2103 planetas\n"
          ]
        }
      ]
    },
    {
      "cell_type": "markdown",
      "source": [
        "Usamos la función de distribución acumulativa (cdf) del módulo de normas para calcular la probabilidad de que un planeta seleccionado al azar tenga valores dentro de los límites de similitud definidos para cada parámetro"
      ],
      "metadata": {
        "id": "4reqlM9uf5ct"
      },
      "id": "4reqlM9uf5ct"
    },
    {
      "cell_type": "code",
      "source": [
        "from scipy.stats import norm\n",
        "\n",
        "# Límites de similitud\n",
        "\n",
        "# Probabilidad de que un planeta aleatorio tenga valores dentro de los límites de similitud\n",
        "prob_period= norm.cdf(x=period_max, loc=empiric_mean['pl_orbper'], scale=empiric_std['pl_orbper'])-norm.cdf(x=period_min, loc=empiric_mean['pl_orbper'], scale=empiric_std['pl_orbper'])\n",
        "prob_mass= norm.cdf(x=mass_max, loc=empiric_mean['pl_bmassj'], scale=empiric_std['pl_bmassj'])-norm.cdf(x=mass_min, loc=empiric_mean['pl_bmassj'], scale=empiric_std['pl_bmassj'])\n",
        "prob_radius= norm.cdf(x=radius_max, loc=empiric_mean['pl_radj'], scale=empiric_std['pl_radj'])-norm.cdf(x=radius_min, loc=empiric_mean['pl_radj'], scale=empiric_std['pl_radj'])\n",
        "prob_teff= norm.cdf(x=teff_max, loc=empiric_mean['st_teff'], scale=empiric_std['st_teff'])-norm.cdf(x=teff_min, loc=empiric_mean['st_teff'], scale=empiric_std['st_teff'])"
      ],
      "metadata": {
        "id": "mWqCWbDQbWtM"
      },
      "id": "mWqCWbDQbWtM",
      "execution_count": null,
      "outputs": []
    },
    {
      "cell_type": "code",
      "source": [
        "print(prob_period)\n",
        "print(prob_mass)\n",
        "print(prob_radius)\n",
        "print(prob_teff) "
      ],
      "metadata": {
        "colab": {
          "base_uri": "https://localhost:8080/"
        },
        "id": "NJ8AI-2xcUE0",
        "outputId": "c0995a7f-1379-4112-80f0-3d538dd5e35c"
      },
      "id": "NJ8AI-2xcUE0",
      "execution_count": null,
      "outputs": [
        {
          "output_type": "stream",
          "name": "stdout",
          "text": [
            "0.00023482592942880576\n",
            "4.9337538981175655e-05\n",
            "0.013830717167380768\n",
            "0.24785098490604718\n"
          ]
        }
      ]
    },
    {
      "cell_type": "code",
      "source": [
        "#producto de todas estas probabilidades\n",
        "prob_sim_earth = prob_period * prob_mass * prob_radius * prob_teff\n",
        "print(\"Probabilidad de que un planeta de la via láctea sea similar a la tierra es: {0}\".format(prob_sim_earth, 3))"
      ],
      "metadata": {
        "colab": {
          "base_uri": "https://localhost:8080/"
        },
        "id": "j7lecJj5c5MK",
        "outputId": "0c85a3db-7adf-406e-fc2f-d3670fc4d693"
      },
      "id": "j7lecJj5c5MK",
      "execution_count": null,
      "outputs": [
        {
          "output_type": "stream",
          "name": "stdout",
          "text": [
            "Probabilidad de que un planeta de la via láctea sea similar a la tierra es: 3.9715394585502985e-11\n"
          ]
        }
      ]
    },
    {
      "cell_type": "markdown",
      "id": "9ecf7755",
      "metadata": {
        "id": "9ecf7755"
      },
      "source": [
        "## Parte 2: La Tierra, ¿dónde queda?\n",
        "\n",
        "Usa métodos de estimación para dilucidar, con una confianza del 99%, cuál es la distancia media entre la Tierra y un planeta cualquiera de la Vía Láctea. ¿Es la Tierra un lugar remoto de la galaxia?"
      ]
    },
    {
      "cell_type": "code",
      "execution_count": null,
      "id": "aae656a7",
      "metadata": {
        "colab": {
          "base_uri": "https://localhost:8080/"
        },
        "id": "aae656a7",
        "outputId": "303f20ec-858e-434b-c348-169c5bc28456"
      },
      "outputs": [
        {
          "output_type": "stream",
          "name": "stdout",
          "text": [
            "IC para la Distancia media: [631.6178248217374, 634.1196358895944]\n",
            "La distancia media entre la Tierra y un planeta cualquiera de la Vía Láctea es: 632.6 pc\n"
          ]
        }
      ],
      "source": [
        "# Calcular la distancia media entre la Tierra y un planeta cualquiera, con una confianza de 99%\n",
        "empiric_mean_distance = np.mean(planets_df.st_dist)\n",
        "empiric_std_distance = np.std(planets_df.st_dist)\n",
        "\n",
        "#definiendo las variables para el Z-score y el factor de corrección\n",
        "dist_media=0 \n",
        "alpha = 0.01 #nivel de significación, que se establece en 0,01 (nivel de confianza del 99 %\n",
        "z = norm.ppf(1. - alpha / 2.) \n",
        "correction = z * np.sqrt(empiric_std_distance / len(planets_df))\n",
        "IC_dist_earth = [\n",
        "    empiric_mean_distance - correction, empiric_mean_distance + correction\n",
        "]\n",
        "\n",
        "print(f\"IC para la Distancia media: [{empiric_mean_distance - correction}, {empiric_mean_distance + correction}]\", flush=True)\n",
        "\n",
        "dist_media = planets_df[(planets_df.st_dist <= (empiric_mean_distance + correction)) & (planets_df.st_dist >= (empiric_mean_distance - correction))].st_dist.mean()\n",
        "print(f\"La distancia media entre la Tierra y un planeta cualquiera de la Vía Láctea es: {dist_media} pc\")"
      ]
    },
    {
      "cell_type": "markdown",
      "id": "cd5ac0e8",
      "metadata": {
        "id": "cd5ac0e8"
      },
      "source": [
        "## Parte 3: Pues eso, que dónde está todo el mundo.\n",
        "\n",
        "Aquí la distancia se da en pársecs, que equivalen a 3.1 años luz. Un año luz es la distancia cubierta por un fotón durante un año viajando por el vacío. En km equivale a un número absurdamente grande en términos humanamente cotidianos. Las leyes de la física impiden moverse a velocidades cercanas a la luz sin sufrir efectos extravagantes y desgradables, así que vamos a suponer que, en el mejor de los casos, una especie lo suficientemente avanzada puede viajar al 20% de la velocidad de la luz. Vamos a suponer también que el Universo tiene una topología lo bastante regular como para que no se puedan hacer trampas como atravesar agujeros de gusano, teletransportarse u obrar cualquier otro tipo de magia.\n",
        "\n",
        "a) Suponiendo que el Homo Sapiens tiene una antigüedad de 200.000 años, estima el tiempo medio que tardaremos en contactar con una especie extraterrestre que emprendiera su viaje hacia la Tierra justo cuando nosotros comenzamos a pulular por el planeta.\n",
        "\n",
        "b) Suponiendo, además, que dicha especie no tiene modo de saber a priori si un planeta albergará anfitriones y, por lo tanto, escoge uno al azar de entre los que tienen potencial, recalcula tu estimación sobre tiempo que tardaremos en recibir a alguien por casa.\n",
        "\n",
        "c) Reflexiona sobre los resultados y razona hasta qué punto nos encontramos ante una paradoja. ¿Respaldan los datos la idea de que deberíamos haber contactado con otras civilizaciones extraterrestres?\n"
      ]
    },
    {
      "cell_type": "code",
      "execution_count": null,
      "id": "fc4c47aa",
      "metadata": {
        "colab": {
          "base_uri": "https://localhost:8080/"
        },
        "id": "fc4c47aa",
        "outputId": "a856bd26-9a3c-445a-b455-f3cf580e26be"
      },
      "outputs": [
        {
          "output_type": "stream",
          "name": "stdout",
          "text": [
            "El tiempo promedio para recorrer la distancia media de la tierra a cualquier planeta de la galaxia es: 10302.932 años\n",
            "El tiempo medio que tardaremos en contactar con una especie extraterrestre que emprendiera su viaje hacia la Tierra justo cuando nosotros comenzamos a pulular por el planeta es: 189697.0684039088 años\n"
          ]
        }
      ],
      "source": [
        "# Parte a. Tiempo medio que tardaremos en contactar con una especie extraterrestre \n",
        "\n",
        "homo_sapiens_y = 200000 \n",
        "\n",
        "# ly/pc\n",
        "one_parsec = 3.1  \n",
        "\n",
        "#lightspeed pc/y. Especie puede viajar al 20% de la velocidad de la luz\n",
        "light_speed_in_pc_per_year = 0.307 #buscando en internet\n",
        "const_galaxy_speed = light_speed_in_pc_per_year * 0.20 \n",
        "\n",
        "#Para calcular el tiempo podemos usar la formula t=d/v. dist(pc)/(pc/a)\n",
        "mean_time = dist_media / const_galaxy_speed\n",
        "\n",
        "print(f\"El tiempo promedio para recorrer la distancia media de la tierra a cualquier planeta de la galaxia es: {np.round(mean_time, 3)} años\")\n",
        "\n",
        "# Restando la edad del Homo Sapiens del tiempo promedio de edad del Homo Sapiens, para obtener el tiempo que nos tomará contactar con una especie extraterrestre\n",
        "time_to_contact = homo_sapiens_y -mean_time\n",
        "\n",
        "print(f\"El tiempo medio que tardaremos en contactar con una especie extraterrestre que emprendiera su viaje hacia la Tierra justo cuando nosotros comenzamos a pulular por el planeta es: {time_to_contact} años\")"
      ]
    },
    {
      "cell_type": "code",
      "source": [
        "# Parte b) Tiempo medio que una especie extraterrestre tardaria en contactarnos eligiendo al azar la tierra como destino.\n",
        "\n",
        "# Obtenemos la distancia usando el IC de la distancia y la probabilidad de que un planeta sea similar a la tierra.\n",
        "dist_azar_sim_earth = np.array(IC_dist_earth) / (0.2/one_parsec) / prob_sim_earth\n",
        "\n",
        "# Calcuamos el tiempo sabiendo que velocidad = distancia/tiempo \n",
        "mean_time_azar = dist_azar_sim_earth/const_galaxy_speed\n",
        "\n",
        "print(f\"El tiempo para recorrer la distancia media de un planeta similar a la tierra escogido al azar es: {mean_time_azar} años\")"
      ],
      "metadata": {
        "colab": {
          "base_uri": "https://localhost:8080/"
        },
        "id": "Wm_IV3kG-vxq",
        "outputId": "c5e22f79-5244-4566-b257-cdc6899d96cb"
      },
      "id": "Wm_IV3kG-vxq",
      "execution_count": null,
      "outputs": [
        {
          "output_type": "stream",
          "name": "stdout",
          "text": [
            "El tiempo para recorrer la distancia media de un planeta similar a la tierra escogido al azar es: [4.01475292e+15 4.03065519e+15] años\n"
          ]
        }
      ]
    },
    {
      "cell_type": "code",
      "source": [
        "# Parte C: Conclusiones"
      ],
      "metadata": {
        "id": "FpAQSkyCeeyR"
      },
      "id": "FpAQSkyCeeyR",
      "execution_count": null,
      "outputs": []
    },
    {
      "cell_type": "markdown",
      "source": [
        "Los resultados del cálculo proporcionan una estimación del tiempo medio que tardaría una especie extraterrestre en llegar a la Tierra, basándose en una serie de suposiciones y simplificaciones. Sin embargo, es importante tener en cuenta que esta estimación debe tomarse con precaución, ya que se basa en varias suposiciones que pueden no ser ciertas en la realidad.\n",
        "\n",
        "Además, el cálculo también supone que las especies extraterrestres tendrían la tecnología y la disposición para viajar distancias interestelares. La existencia de vida extraterrestre, y aún más la existencia de vida inteligente extraterrestre, sigue siendo un tema de investigación y debate científico en curso, y actualmente se desconoce si tales formas de vida existen y si tienen la tecnología y la disposición para viajar distancias interestelares.\n",
        "\n",
        "**Con base en estas suposiciones y simplificaciones, los datos no brindan evidencia para respaldar la idea de que ya deberíamos habernos contactado con otras civilizaciones extraterrestres. Resultado del tiempo que tardaremos en contactar con una expecie extraterrestre sugiere que es poco probable que entremos en contacto con una especie extraterrestre que está eligiendo un planeta al azar entre aquellos con potencial para albergar vida. Esto se debe a que el tiempo que tardaría una especie extraterrestre en llegar a la Tierra en este escenario es increíblemente grande, del orden de 4e+15 años, que es mucho mayor que la edad del universo, 13.800 millones de años.**\n",
        "\n",
        "En resumen, si bien el cálculo proporciona una estimación del tiempo promedio que le tomaría a una especie extraterrestre llegar a la Tierra, debe tomarse con precaución ya que se basa en varias suposiciones y simplificaciones que pueden no ser ciertas en la realidad."
      ],
      "metadata": {
        "id": "FRSRA9X1gbdE"
      },
      "id": "FRSRA9X1gbdE"
    }
  ],
  "metadata": {
    "kernelspec": {
      "display_name": "Python 3 (ipykernel)",
      "language": "python",
      "name": "python3"
    },
    "language_info": {
      "codemirror_mode": {
        "name": "ipython",
        "version": 3
      },
      "file_extension": ".py",
      "mimetype": "text/x-python",
      "name": "python",
      "nbconvert_exporter": "python",
      "pygments_lexer": "ipython3",
      "version": "3.9.13"
    },
    "toc": {
      "base_numbering": 1,
      "nav_menu": {},
      "number_sections": true,
      "sideBar": true,
      "skip_h1_title": false,
      "title_cell": "Table of Contents",
      "title_sidebar": "Contents",
      "toc_cell": false,
      "toc_position": {},
      "toc_section_display": true,
      "toc_window_display": false
    },
    "varInspector": {
      "cols": {
        "lenName": 16,
        "lenType": 16,
        "lenVar": 40
      },
      "kernels_config": {
        "python": {
          "delete_cmd_postfix": "",
          "delete_cmd_prefix": "del ",
          "library": "var_list.py",
          "varRefreshCmd": "print(var_dic_list())"
        },
        "r": {
          "delete_cmd_postfix": ") ",
          "delete_cmd_prefix": "rm(",
          "library": "var_list.r",
          "varRefreshCmd": "cat(var_dic_list()) "
        }
      },
      "types_to_exclude": [
        "module",
        "function",
        "builtin_function_or_method",
        "instance",
        "_Feature"
      ],
      "window_display": false
    },
    "colab": {
      "provenance": []
    }
  },
  "nbformat": 4,
  "nbformat_minor": 5
}